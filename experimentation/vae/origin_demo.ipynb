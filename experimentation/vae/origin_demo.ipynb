{
 "cells": [
  {
   "cell_type": "code",
   "execution_count": 1,
   "metadata": {},
   "outputs": [],
   "source": [
    "import torch\n",
    "from torch import nn, optim\n",
    "from torch.nn import functional as F\n",
    "import numpy as np"
   ]
  },
  {
   "cell_type": "code",
   "execution_count": 2,
   "metadata": {},
   "outputs": [],
   "source": [
    "BATCH_SIZE = 128\n",
    "EPOCHS = 10\n",
    "LAYER_SIZE = 10\n",
    "S_LAYER_SIZE = 15\n",
    "LATENT_SIZE = 4"
   ]
  },
  {
   "cell_type": "code",
   "execution_count": 3,
   "metadata": {},
   "outputs": [
    {
     "name": "stdout",
     "output_type": "stream",
     "text": [
      "torch.Size([50000, 11])\n"
     ]
    },
    {
     "data": {
      "text/plain": [
       "11"
      ]
     },
     "execution_count": 3,
     "metadata": {},
     "output_type": "execute_result"
    }
   ],
   "source": [
    "# Load the data from the file\n",
    "\n",
    "saved = np.load(\"testing1.npy\", allow_pickle=True)\n",
    "\n",
    "# Make a trainging and testing batch\n",
    "train_data = torch.Tensor(saved[:int(len(saved)*0.5)])\n",
    "test_data = torch.Tensor(saved[int(len(saved)*0.5):])\n",
    "print(train_data.shape)\n",
    "INPUT_SIZE = len(test_data[0])\n",
    "INPUT_SIZE"
   ]
  },
  {
   "cell_type": "code",
   "execution_count": 4,
   "metadata": {},
   "outputs": [],
   "source": [
    "device = \"cuda\""
   ]
  },
  {
   "cell_type": "code",
   "execution_count": 5,
   "metadata": {},
   "outputs": [],
   "source": [
    "class VAE(nn.Module):\n",
    "    def __init__(self):\n",
    "        super(VAE, self).__init__()\n",
    "        \n",
    "        # Encoder\n",
    "        self.l1 = nn.Linear(INPUT_SIZE, LAYER_SIZE)\n",
    "        self.l2a = nn.Linear(LAYER_SIZE, LATENT_SIZE)\n",
    "        self.l2b = nn.Linear(LAYER_SIZE, LATENT_SIZE)\n",
    "        \n",
    "        # Decoder\n",
    "        self.l3 = nn.Linear(LATENT_SIZE, LAYER_SIZE)\n",
    "        self.l4 = nn.Linear(LAYER_SIZE, INPUT_SIZE)\n",
    "            \n",
    "    # Run some data through the encoder\n",
    "    def encode(self, x):\n",
    "        out = F.relu(self.l1(x))\n",
    "        # return the mu and the sigma\n",
    "        return self.l2a(out), self.l2b(out)\n",
    "    \n",
    "    # The reparameterization trick, taken from https://github.com/pytorch/examples/blob/master/vae/main.py\n",
    "    def reparameterize(self, mu, sigma):\n",
    "        std = torch.exp(0.5*sigma)\n",
    "        eps = torch.randn_like(std)\n",
    "        return mu + eps*std\n",
    "    \n",
    "    def decode(self, x):\n",
    "        out = F.relu(self.l3(x))\n",
    "        return torch.sigmoid(self.l4(out)) # sigmoid vs tanh\n",
    "    \n",
    "    def forward(self, x):\n",
    "        # TODO: check the shape of x to be sure we have the right input\n",
    "        mu, sigma = self.encode(x)\n",
    "        z = self.reparameterize(mu, sigma)\n",
    "        # The loss function needs the mu and the sigma so just return them here\n",
    "        return self.decode(z), mu, sigma"
   ]
  },
  {
   "cell_type": "code",
   "execution_count": 6,
   "metadata": {},
   "outputs": [],
   "source": [
    "# Reconstruction + KL divergence losses summed over all elements and batch\n",
    "# Taken from https://github.com/pytorch/examples/blob/master/vae/main.py\n",
    "def loss_function(recon_x, x, mu, sigma):\n",
    "    BCE = F.binary_cross_entropy(recon_x, x, reduction='sum')\n",
    "    KLD = -0.5 * torch.sum(1 + sigma - mu.pow(2) - sigma.exp())\n",
    "    return BCE + KLD"
   ]
  },
  {
   "cell_type": "code",
   "execution_count": 7,
   "metadata": {},
   "outputs": [],
   "source": [
    "def train(e_count, model, optimizer):\n",
    "    data = train_data\n",
    "    model.train()\n",
    "    train_loss = 0\n",
    "    for i in range(0, len(data), BATCH_SIZE):\n",
    "        batch = data[i:i+BATCH_SIZE].to(device)\n",
    "        model.zero_grad()\n",
    "        recons, mu, sigma = model(batch)\n",
    "        loss = loss_function(recons, batch, mu, sigma)\n",
    "        loss.backward()\n",
    "        train_loss += loss.item()\n",
    "        optimizer.step()\n",
    "        \n",
    "    print(f\"Epoch: {e_count}, Loss: {train_loss/len(data)}\")        \n",
    "        \n",
    "    \n",
    "    "
   ]
  },
  {
   "cell_type": "code",
   "execution_count": 8,
   "metadata": {},
   "outputs": [],
   "source": [
    "# Lets use CPU\n",
    "def test(e_count, model, optimizer):\n",
    "    model.eval()\n",
    "    test_loss = 0\n",
    "    for i in range(0, len(test_data), BATCH_SIZE):\n",
    "        batch = test_data[i:i+BATCH_SIZE].to(device)\n",
    "        recons, mu, sigma = model(batch)\n",
    "        loss = loss_function(recons, batch, mu, sigma)\n",
    "        test_loss += loss.item()\n",
    "    print(f\"TEST Epoch: {e_count}, Loss: {test_loss/len(test_data)}\") \n",
    "        \n",
    "        "
   ]
  },
  {
   "cell_type": "code",
   "execution_count": 9,
   "metadata": {},
   "outputs": [],
   "source": [
    "train_data=train_data[torch.randperm(train_data.size()[0])]"
   ]
  },
  {
   "cell_type": "code",
   "execution_count": 10,
   "metadata": {},
   "outputs": [],
   "source": [
    "vae1 = VAE().to(device)\n",
    "opt1 = optim.Adam(vae1.parameters(), lr=0.001)"
   ]
  },
  {
   "cell_type": "code",
   "execution_count": 11,
   "metadata": {},
   "outputs": [
    {
     "name": "stdout",
     "output_type": "stream",
     "text": [
      "Epoch: 0, Loss: 7.157643240966797\n",
      "Epoch: 1, Loss: 6.917936082763672\n",
      "Epoch: 2, Loss: 6.911544809570312\n",
      "Epoch: 3, Loss: 6.908651323242188\n",
      "Epoch: 4, Loss: 6.907659614257812\n",
      "Epoch: 5, Loss: 6.906795903320313\n",
      "Epoch: 6, Loss: 6.90655442993164\n",
      "Epoch: 7, Loss: 6.906230411376953\n",
      "Epoch: 8, Loss: 6.905259224853515\n",
      "Epoch: 9, Loss: 6.904769527587891\n"
     ]
    }
   ],
   "source": [
    "for i in range(EPOCHS):\n",
    "    train(i, vae1, opt1)"
   ]
  },
  {
   "cell_type": "code",
   "execution_count": 12,
   "metadata": {},
   "outputs": [],
   "source": [
    "import gym\n",
    "env = gym.make(\"InvertedPendulum-v2\")\n",
    "env.reset()\n",
    "state_dim = env.observation_space.shape[0]\n",
    "action_dim = env.action_space.shape[0] \n",
    "action_low = env.action_space.low[0]\n",
    "action_high = env.action_space.high[0]\n",
    "state_low = -10.0\n",
    "state_high = 10.0"
   ]
  },
  {
   "cell_type": "code",
   "execution_count": 13,
   "metadata": {},
   "outputs": [],
   "source": [
    "def descale(x):\n",
    "    # State\n",
    "    ((x[:, 0].mul_(state_high-state_low)).add_(state_low)).to(device)\n",
    "    ((x[:, 1].mul_(state_high-state_low)).add_(state_low)).to(device)\n",
    "    ((x[:, 2].mul_(state_high-state_low)).add_(state_low)).to(device)\n",
    "    ((x[:, 3].mul_(state_high-state_low)).add_(state_low)).to(device)\n",
    "\n",
    "    # Action\n",
    "    ((x[:, 4].mul_(action_high-action_low)).add_(action_low)).to(device)\n",
    "    \n",
    "    # State\n",
    "    ((x[:, 5].mul_(state_high-state_low)).add_(state_low)).to(device)\n",
    "    ((x[:, 6].mul_(state_high-state_low)).add_(state_low)).to(device)\n",
    "    ((x[:, 7].mul_(state_high-state_low)).add_(state_low)).to(device)\n",
    "    ((x[:, 8].mul_(state_high-state_low)).add_(state_low)).to(device)\n",
    "    \n",
    "    # Reward\n",
    "    (x[:, 9].mul_(20.0)).to(device)\n",
    "    \n",
    "    # Done\n",
    "    (x[:, 10].round_()).to(device)\n",
    "    \n",
    "    return x"
   ]
  },
  {
   "cell_type": "code",
   "execution_count": 14,
   "metadata": {},
   "outputs": [
    {
     "name": "stdout",
     "output_type": "stream",
     "text": [
      "Action\n",
      "tensor(0.2121, device='cuda:0')\n",
      "tensor(0.5000, device='cuda:0', grad_fn=<SelectBackward>) \n",
      "\n",
      "tensor(0.1684, device='cuda:0')\n",
      "tensor(0.5000, device='cuda:0', grad_fn=<SelectBackward>) \n",
      "\n",
      "tensor(0.3308, device='cuda:0')\n",
      "tensor(0.5003, device='cuda:0', grad_fn=<SelectBackward>) \n",
      "\n",
      "tensor(0.7878, device='cuda:0')\n",
      "tensor(0.4999, device='cuda:0', grad_fn=<SelectBackward>) \n",
      "\n",
      "tensor(0.2572, device='cuda:0')\n",
      "tensor(0.4999, device='cuda:0', grad_fn=<SelectBackward>) \n",
      "\n",
      "tensor(0.3794, device='cuda:0')\n",
      "tensor(0.5000, device='cuda:0', grad_fn=<SelectBackward>) \n",
      "\n",
      "tensor(0.9485, device='cuda:0')\n",
      "tensor(0.5000, device='cuda:0', grad_fn=<SelectBackward>) \n",
      "\n",
      "tensor(0.4474, device='cuda:0')\n",
      "tensor(0.4998, device='cuda:0', grad_fn=<SelectBackward>) \n",
      "\n",
      "tensor(0.3523, device='cuda:0')\n",
      "tensor(0.5002, device='cuda:0', grad_fn=<SelectBackward>) \n",
      "\n",
      "tensor(0.8089, device='cuda:0')\n",
      "tensor(0.4994, device='cuda:0', grad_fn=<SelectBackward>) \n",
      "\n"
     ]
    }
   ],
   "source": [
    "from torch.autograd import Variable\n",
    "\n",
    "print(\"Action\")\n",
    "for i in range(10):\n",
    "    sample = torch.FloatTensor(2, 11).uniform_(0, 1).to(\"cuda\")\n",
    "    print(sample[0][5])\n",
    "    x = vae1(sample)\n",
    "    print(x[0][0][5], '\\n')"
   ]
  },
  {
   "cell_type": "code",
   "execution_count": 15,
   "metadata": {},
   "outputs": [
    {
     "name": "stdout",
     "output_type": "stream",
     "text": [
      "Reward\n",
      "tensor(0.0133, device='cuda:0')\n",
      "tensor(0.0538, device='cuda:0', grad_fn=<SelectBackward>) \n",
      "\n",
      "tensor(0.0845, device='cuda:0')\n",
      "tensor(0.0563, device='cuda:0', grad_fn=<SelectBackward>) \n",
      "\n",
      "tensor(0.0650, device='cuda:0')\n",
      "tensor(0.0476, device='cuda:0', grad_fn=<SelectBackward>) \n",
      "\n",
      "tensor(0.1282, device='cuda:0')\n",
      "tensor(0.0429, device='cuda:0', grad_fn=<SelectBackward>) \n",
      "\n",
      "tensor(0.0446, device='cuda:0')\n",
      "tensor(0.0539, device='cuda:0', grad_fn=<SelectBackward>) \n",
      "\n",
      "tensor(0.1449, device='cuda:0')\n",
      "tensor(0.0500, device='cuda:0', grad_fn=<SelectBackward>) \n",
      "\n",
      "tensor(0.0027, device='cuda:0')\n",
      "tensor(0.0545, device='cuda:0', grad_fn=<SelectBackward>) \n",
      "\n",
      "tensor(0.0762, device='cuda:0')\n",
      "tensor(0.0599, device='cuda:0', grad_fn=<SelectBackward>) \n",
      "\n",
      "tensor(0.0399, device='cuda:0')\n",
      "tensor(0.0560, device='cuda:0', grad_fn=<SelectBackward>) \n",
      "\n",
      "tensor(0.0854, device='cuda:0')\n",
      "tensor(0.0343, device='cuda:0', grad_fn=<SelectBackward>) \n",
      "\n"
     ]
    }
   ],
   "source": [
    "print(\"Reward\")\n",
    "for i in range(10):\n",
    "    sample = torch.FloatTensor(2, 11).uniform_(0, 0.15).to(\"cuda\")\n",
    "    print(sample[0][9])\n",
    "    x = vae1(sample)\n",
    "    print(x[0][0][9], '\\n')"
   ]
  },
  {
   "cell_type": "code",
   "execution_count": 16,
   "metadata": {},
   "outputs": [
    {
     "name": "stdout",
     "output_type": "stream",
     "text": [
      "Original:       tensor([[0.12, 0.41, 0.95, 0.82, 0.21, 0.03, 0.78, 0.19, 0.15, 0.86, 0.52]])\n",
      "Reconstruction: tensor([[0.50, 0.50, 0.50, 0.50, 0.50, 0.50, 0.50, 0.51, 0.50, 0.03, 0.15]],\n",
      "       grad_fn=<CopyBackwards>)\n",
      "Loss: 10.315363883972168\n",
      "\n",
      "\n",
      "Original:       tensor([[0.52, 0.42, 0.16, 0.44, 0.97, 0.59, 0.35, 0.01, 0.51, 0.27, 0.18]])\n",
      "Reconstruction: tensor([[0.50, 0.50, 0.50, 0.50, 0.50, 0.50, 0.50, 0.50, 0.50, 0.05, 0.14]],\n",
      "       grad_fn=<CopyBackwards>)\n",
      "Loss: 7.566251754760742\n",
      "\n",
      "\n",
      "Original:       tensor([[0.52, 0.01, 0.53, 0.65, 0.71, 0.73, 0.96, 0.83, 0.57, 0.76, 0.62]])\n",
      "Reconstruction: tensor([[0.50, 0.50, 0.50, 0.50, 0.51, 0.50, 0.50, 0.50, 0.50, 0.05, 0.17]],\n",
      "       grad_fn=<CopyBackwards>)\n",
      "Loss: 9.725531578063965\n",
      "\n",
      "\n",
      "Original:       tensor([[0.31, 0.10, 0.73, 0.32, 0.72, 1.00, 0.45, 0.20, 0.15, 0.79, 0.32]])\n",
      "Reconstruction: tensor([[0.50, 0.50, 0.50, 0.50, 0.50, 0.50, 0.50, 0.50, 0.50, 0.05, 0.20]],\n",
      "       grad_fn=<CopyBackwards>)\n",
      "Loss: 9.229823112487793\n",
      "\n",
      "\n",
      "Original:       tensor([[0.58, 0.86, 0.84, 0.72, 0.74, 0.29, 0.51, 0.59, 0.74, 0.80, 0.18]])\n",
      "Reconstruction: tensor([[0.50, 0.50, 0.50, 0.50, 0.50, 0.50, 0.50, 0.50, 0.50, 0.05, 0.17]],\n",
      "       grad_fn=<CopyBackwards>)\n",
      "Loss: 9.181703567504883\n",
      "\n",
      "\n"
     ]
    }
   ],
   "source": [
    "torch.set_printoptions(profile=\"short\")\n",
    "for i in range(5):\n",
    "    sample = torch.FloatTensor(1, 11).uniform_(0, 1).to(\"cuda\")\n",
    "    x, m, s = vae1(sample)\n",
    "    loss = loss_function(x, sample, m, s)\n",
    "    \n",
    "    x = x.to(\"cpu\")\n",
    "    sample = sample.to(\"cpu\")\n",
    "    \n",
    "    print(f\"Original:       {sample}\")\n",
    "    print(f\"Reconstruction: {x}\")\n",
    "    print(f\"Loss: {loss}\\n\\n\")"
   ]
  },
  {
   "cell_type": "code",
   "execution_count": null,
   "metadata": {},
   "outputs": [],
   "source": []
  }
 ],
 "metadata": {
  "kernelspec": {
   "display_name": "Python 3",
   "language": "python",
   "name": "python3"
  },
  "language_info": {
   "codemirror_mode": {
    "name": "ipython",
    "version": 3
   },
   "file_extension": ".py",
   "mimetype": "text/x-python",
   "name": "python",
   "nbconvert_exporter": "python",
   "pygments_lexer": "ipython3",
   "version": "3.8.6"
  }
 },
 "nbformat": 4,
 "nbformat_minor": 4
}

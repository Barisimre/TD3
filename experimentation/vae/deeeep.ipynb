{
 "cells": [
  {
   "cell_type": "code",
   "execution_count": 1,
   "metadata": {},
   "outputs": [],
   "source": [
    "import torch\n",
    "from torch import nn, optim\n",
    "from torch.nn import functional as F\n",
    "import numpy as np"
   ]
  },
  {
   "cell_type": "code",
   "execution_count": 2,
   "metadata": {},
   "outputs": [],
   "source": [
    "BATCH_SIZE = 128\n",
    "EPOCHS = 30\n",
    "LAYER_SIZE = 30\n",
    "S_LAYER_SIZE = 15\n",
    "LATENT_SIZE = 3"
   ]
  },
  {
   "cell_type": "code",
   "execution_count": 3,
   "metadata": {},
   "outputs": [
    {
     "name": "stdout",
     "output_type": "stream",
     "text": [
      "torch.Size([50000, 11])\n"
     ]
    }
   ],
   "source": [
    "# Load the data from the file\n",
    "\n",
    "saved = np.load(\"testing.npy\", allow_pickle=True)\n",
    "\n",
    "# Make a trainging and testing batch\n",
    "train_data = torch.Tensor(saved[:int(len(saved)*0.5)])\n",
    "test_data = torch.Tensor(saved[int(len(saved)*0.5):])\n",
    "print(train_data.shape)\n",
    "INPUT_SIZE = len(test_data[0])\n",
    "INPUT_SIZE\n",
    "\n",
    "torch.set_printoptions(linewidth=140)"
   ]
  },
  {
   "cell_type": "code",
   "execution_count": 4,
   "metadata": {},
   "outputs": [],
   "source": [
    "device = \"cuda\""
   ]
  },
  {
   "cell_type": "code",
   "execution_count": 5,
   "metadata": {},
   "outputs": [],
   "source": [
    "class VAE(nn.Module):\n",
    "    def __init__(self):\n",
    "        super(VAE, self).__init__()\n",
    "        \n",
    "        # Encoder\n",
    "        self.l1 = nn.Linear(INPUT_SIZE, S_LAYER_SIZE)\n",
    "        self.d1 = nn.Linear(S_LAYER_SIZE, LAYER_SIZE)\n",
    "        self.d2 = nn.Linear(LAYER_SIZE, S_LAYER_SIZE)\n",
    "        self.l2a = nn.Linear(S_LAYER_SIZE, LATENT_SIZE)\n",
    "        self.l2b = nn.Linear(S_LAYER_SIZE, LATENT_SIZE)\n",
    "        \n",
    "        # Decoder\n",
    "        self.l3 = nn.Linear(LATENT_SIZE, S_LAYER_SIZE)\n",
    "        self.d3 = nn.Linear(S_LAYER_SIZE, LAYER_SIZE)\n",
    "        self.d4 = nn.Linear(LAYER_SIZE, S_LAYER_SIZE)\n",
    "        self.l4 = nn.Linear(S_LAYER_SIZE, INPUT_SIZE)\n",
    "            \n",
    "    # Run some data through the encoder\n",
    "    def encode(self, x):\n",
    "        x = F.relu(self.l1(x))\n",
    "        x = F.relu(self.d1(x))\n",
    "        x = F.relu(self.d2(x))\n",
    "        # return the mu and the sigma\n",
    "        return self.l2a(x), self.l2b(x)\n",
    "    \n",
    "    # The reparameterization trick, taken from https://github.com/pytorch/examples/blob/master/vae/main.py\n",
    "    def reparameterize(self, mu, sigma):\n",
    "        std = torch.exp(0.5*sigma)\n",
    "        eps = torch.randn_like(std)\n",
    "        return mu + eps*std\n",
    "    \n",
    "    def decode(self, x):\n",
    "        x = F.relu(self.l3(x))\n",
    "        x = F.relu(self.d3(x))\n",
    "        x = F.relu(self.d4(x))\n",
    "        return torch.sigmoid(self.l4(x)) # sigmoid vs tanh\n",
    "    \n",
    "    def forward(self, x):\n",
    "        # TODO: check the shape of x to be sure we have the right input\n",
    "        mu, sigma = self.encode(x)\n",
    "        z = self.reparameterize(mu, sigma)\n",
    "        # The loss function needs the mu and the sigma so just return them here\n",
    "        return self.decode(z), mu, sigma"
   ]
  },
  {
   "cell_type": "code",
   "execution_count": 6,
   "metadata": {},
   "outputs": [],
   "source": [
    "# Reconstruction + KL divergence losses summed over all elements and batch\n",
    "# Taken from https://github.com/pytorch/examples/blob/master/vae/main.py\n",
    "def loss_function(recon_x, x, mu, sigma):\n",
    "    BCE = F.binary_cross_entropy(recon_x, x, reduction='sum')\n",
    "    KLD = -0.5 * torch.sum(1 + sigma - mu.pow(2) - sigma.exp())\n",
    "#     return BCE + KLD\n",
    "    return BCE"
   ]
  },
  {
   "cell_type": "code",
   "execution_count": 7,
   "metadata": {},
   "outputs": [],
   "source": [
    "def train(e_count, model, optimizer):\n",
    "    data = train_data\n",
    "    model.train()\n",
    "    train_loss = 0\n",
    "    for i in range(0, len(data), BATCH_SIZE):\n",
    "        batch = data[i:i+BATCH_SIZE].to(device)\n",
    "        model.zero_grad()\n",
    "        recons, mu, sigma = model(batch)\n",
    "        loss = loss_function(recons, batch, mu, sigma)\n",
    "        loss.backward()\n",
    "        train_loss += loss.item()\n",
    "        optimizer.step()\n",
    "        \n",
    "    print(f\"Epoch: {e_count}, Loss: {train_loss/len(data)}\")        \n",
    "        \n",
    "    \n",
    "    "
   ]
  },
  {
   "cell_type": "code",
   "execution_count": 8,
   "metadata": {},
   "outputs": [],
   "source": [
    "# Lets use CPU\n",
    "def test(e_count, model, optimizer):\n",
    "    model.eval()\n",
    "    test_loss = 0\n",
    "    for i in range(0, len(test_data), BATCH_SIZE):\n",
    "        batch = test_data[i:i+BATCH_SIZE].to(device)\n",
    "        recons, mu, sigma = model(batch)\n",
    "        loss = loss_function(recons, batch, mu, sigma)\n",
    "        test_loss += loss.item()\n",
    "    print(f\"TEST Epoch: {e_count}, Loss: {test_loss/len(test_data)}\") \n",
    "        \n",
    "        "
   ]
  },
  {
   "cell_type": "code",
   "execution_count": 9,
   "metadata": {},
   "outputs": [],
   "source": [
    "train_data=train_data[torch.randperm(train_data.size()[0])]\n",
    "test_data=test_data[torch.randperm(test_data.size()[0])]"
   ]
  },
  {
   "cell_type": "code",
   "execution_count": 10,
   "metadata": {},
   "outputs": [],
   "source": [
    "vae1 = VAE().to(device)\n",
    "opt1 = optim.Adam(vae1.parameters(), lr=0.001)"
   ]
  },
  {
   "cell_type": "code",
   "execution_count": 11,
   "metadata": {},
   "outputs": [
    {
     "name": "stdout",
     "output_type": "stream",
     "text": [
      "Epoch: 0, Loss: 6.691904862060547\n",
      "Epoch: 1, Loss: 6.273809728393554\n",
      "Epoch: 2, Loss: 6.265792756347656\n",
      "Epoch: 3, Loss: 6.235237529296875\n",
      "Epoch: 4, Loss: 6.233139678955078\n",
      "Epoch: 5, Loss: 6.232189509887696\n",
      "Epoch: 6, Loss: 6.231390802612305\n",
      "Epoch: 7, Loss: 6.23043057006836\n",
      "Epoch: 8, Loss: 6.228728135986328\n",
      "Epoch: 9, Loss: 6.223816053466797\n",
      "Epoch: 10, Loss: 6.211446729125977\n",
      "Epoch: 11, Loss: 6.204728806152343\n",
      "Epoch: 12, Loss: 6.2031981982421875\n",
      "Epoch: 13, Loss: 6.202870626220703\n",
      "Epoch: 14, Loss: 6.202645319824219\n",
      "Epoch: 15, Loss: 6.202445769042969\n",
      "Epoch: 16, Loss: 6.202285954589843\n",
      "Epoch: 17, Loss: 6.2021555773925785\n",
      "Epoch: 18, Loss: 6.20204214477539\n",
      "Epoch: 19, Loss: 6.2019484643554685\n",
      "Epoch: 20, Loss: 6.201865169677735\n",
      "Epoch: 21, Loss: 6.201796927490235\n",
      "Epoch: 22, Loss: 6.20172682800293\n",
      "Epoch: 23, Loss: 6.20166466796875\n",
      "Epoch: 24, Loss: 6.201608460693359\n",
      "Epoch: 25, Loss: 6.201556454467774\n",
      "Epoch: 26, Loss: 6.2015172229003905\n",
      "Epoch: 27, Loss: 6.201481577148438\n",
      "Epoch: 28, Loss: 6.201447615356446\n",
      "Epoch: 29, Loss: 6.2014267578125\n"
     ]
    }
   ],
   "source": [
    "for i in range(EPOCHS):\n",
    "    train(i, vae1, opt1)"
   ]
  },
  {
   "cell_type": "code",
   "execution_count": 12,
   "metadata": {},
   "outputs": [],
   "source": [
    "import gym\n",
    "env = gym.make(\"InvertedPendulum-v2\")\n",
    "env.reset()\n",
    "state_dim = env.observation_space.shape[0]\n",
    "action_dim = env.action_space.shape[0] \n",
    "action_low = env.action_space.low[0]\n",
    "action_high = env.action_space.high[0]\n",
    "state_low = -10.0\n",
    "state_high = 10.0"
   ]
  },
  {
   "cell_type": "code",
   "execution_count": 13,
   "metadata": {},
   "outputs": [],
   "source": [
    "def descale(x):\n",
    "    # State\n",
    "    ((x[:, 0].mul_(state_high-state_low)).add_(state_low)).to(device)\n",
    "    ((x[:, 1].mul_(state_high-state_low)).add_(state_low)).to(device)\n",
    "    ((x[:, 2].mul_(state_high-state_low)).add_(state_low)).to(device)\n",
    "    ((x[:, 3].mul_(state_high-state_low)).add_(state_low)).to(device)\n",
    "\n",
    "    # Action\n",
    "    ((x[:, 4].mul_(action_high-action_low)).add_(action_low)).to(device)\n",
    "    \n",
    "    # State\n",
    "    ((x[:, 5].mul_(state_high-state_low)).add_(state_low)).to(device)\n",
    "    ((x[:, 6].mul_(state_high-state_low)).add_(state_low)).to(device)\n",
    "    ((x[:, 7].mul_(state_high-state_low)).add_(state_low)).to(device)\n",
    "    ((x[:, 8].mul_(state_high-state_low)).add_(state_low)).to(device)\n",
    "    \n",
    "    # Reward\n",
    "    (x[:, 9].mul_(20.0)).to(device)\n",
    "    \n",
    "    # Done\n",
    "    (x[:, 10].round_()).to(device)\n",
    "    \n",
    "    return x"
   ]
  },
  {
   "cell_type": "code",
   "execution_count": 14,
   "metadata": {},
   "outputs": [
    {
     "name": "stdout",
     "output_type": "stream",
     "text": [
      "Action\n",
      "tensor(0.3676, device='cuda:0')\n",
      "tensor(0.5249, device='cuda:0', grad_fn=<SelectBackward>) \n",
      "\n",
      "tensor(0.6526, device='cuda:0')\n",
      "tensor(0.4958, device='cuda:0', grad_fn=<SelectBackward>) \n",
      "\n",
      "tensor(0.4088, device='cuda:0')\n",
      "tensor(0.5066, device='cuda:0', grad_fn=<SelectBackward>) \n",
      "\n",
      "tensor(0.8574, device='cuda:0')\n",
      "tensor(0.5033, device='cuda:0', grad_fn=<SelectBackward>) \n",
      "\n",
      "tensor(0.4380, device='cuda:0')\n",
      "tensor(0.5060, device='cuda:0', grad_fn=<SelectBackward>) \n",
      "\n",
      "tensor(0.9765, device='cuda:0')\n",
      "tensor(0.5776, device='cuda:0', grad_fn=<SelectBackward>) \n",
      "\n",
      "tensor(0.1388, device='cuda:0')\n",
      "tensor(0.4936, device='cuda:0', grad_fn=<SelectBackward>) \n",
      "\n",
      "tensor(0.4269, device='cuda:0')\n",
      "tensor(0.5162, device='cuda:0', grad_fn=<SelectBackward>) \n",
      "\n",
      "tensor(0.1585, device='cuda:0')\n",
      "tensor(0.5085, device='cuda:0', grad_fn=<SelectBackward>) \n",
      "\n",
      "tensor(0.6349, device='cuda:0')\n",
      "tensor(0.4967, device='cuda:0', grad_fn=<SelectBackward>) \n",
      "\n"
     ]
    }
   ],
   "source": [
    "from torch.autograd import Variable\n",
    "\n",
    "print(\"Action\")\n",
    "for i in range(10):\n",
    "    sample = torch.FloatTensor(2, 11).uniform_(0, 1).to(\"cuda\")\n",
    "    print(sample[0][5])\n",
    "    x = vae1(sample)\n",
    "    print(x[0][0][5], '\\n')"
   ]
  },
  {
   "cell_type": "code",
   "execution_count": 15,
   "metadata": {},
   "outputs": [
    {
     "name": "stdout",
     "output_type": "stream",
     "text": [
      "Reward\n",
      "tensor(0.0650, device='cuda:0')\n",
      "tensor(0.0851, device='cuda:0', grad_fn=<SelectBackward>) \n",
      "\n",
      "tensor(0.1283, device='cuda:0')\n",
      "tensor(0.0853, device='cuda:0', grad_fn=<SelectBackward>) \n",
      "\n",
      "tensor(0.0859, device='cuda:0')\n",
      "tensor(0.0862, device='cuda:0', grad_fn=<SelectBackward>) \n",
      "\n",
      "tensor(0.1083, device='cuda:0')\n",
      "tensor(0.0832, device='cuda:0', grad_fn=<SelectBackward>) \n",
      "\n",
      "tensor(0.0277, device='cuda:0')\n",
      "tensor(0.0800, device='cuda:0', grad_fn=<SelectBackward>) \n",
      "\n",
      "tensor(0.0565, device='cuda:0')\n",
      "tensor(0.0813, device='cuda:0', grad_fn=<SelectBackward>) \n",
      "\n",
      "tensor(0.0388, device='cuda:0')\n",
      "tensor(0.0852, device='cuda:0', grad_fn=<SelectBackward>) \n",
      "\n",
      "tensor(0.1059, device='cuda:0')\n",
      "tensor(0.0902, device='cuda:0', grad_fn=<SelectBackward>) \n",
      "\n",
      "tensor(0.1373, device='cuda:0')\n",
      "tensor(0.0913, device='cuda:0', grad_fn=<SelectBackward>) \n",
      "\n",
      "tensor(0.0393, device='cuda:0')\n",
      "tensor(0.0831, device='cuda:0', grad_fn=<SelectBackward>) \n",
      "\n"
     ]
    }
   ],
   "source": [
    "print(\"Reward\")\n",
    "for i in range(10):\n",
    "    sample = torch.FloatTensor(2, 11).uniform_(0, 0.15).to(\"cuda\")\n",
    "    print(sample[0][9])\n",
    "    x = vae1(sample)\n",
    "    print(x[0][0][9], '\\n')"
   ]
  },
  {
   "cell_type": "code",
   "execution_count": 18,
   "metadata": {},
   "outputs": [
    {
     "name": "stdout",
     "output_type": "stream",
     "text": [
      "Original:       tensor([0.500, 0.500, 0.500, 0.500, 0.347, 0.500, 0.501, 0.484, 0.540, 0.050, 0.000])\n",
      "Reconstruction: tensor([    0.501,     0.497,     0.501,     0.499,     0.347,     0.498,     0.499,     0.487,     0.531,     0.049,     0.000],\n",
      "       grad_fn=<CopyBackwards>)\n",
      "\n",
      "Latent: tensor([-1.519,  5.582, 12.349], device='cuda:0', grad_fn=<AddBackward0>)\n",
      "\n",
      "Loss: 6.3860697746276855\n",
      "\n",
      "\n",
      "Original:       tensor([0.505, 0.492, 0.579, 0.336, 0.761, 0.509, 0.484, 0.605, 0.275, 0.050, 1.000])\n",
      "Reconstruction: tensor([0.503, 0.493, 0.576, 0.335, 0.778, 0.507, 0.484, 0.597, 0.279, 0.048, 1.000], grad_fn=<CopyBackwards>)\n",
      "\n",
      "Latent: tensor([8.104, 3.041, 5.381], device='cuda:0', grad_fn=<AddBackward0>)\n",
      "\n",
      "Loss: 6.0994720458984375\n",
      "\n",
      "\n",
      "Original:       tensor([0.498, 0.504, 0.460, 0.596, 0.710, 0.497, 0.507, 0.483, 0.542, 0.050, 0.000])\n",
      "Reconstruction: tensor([    0.498,     0.501,     0.460,     0.593,     0.731,     0.496,     0.503,     0.480,     0.544,     0.049,     0.000],\n",
      "       grad_fn=<CopyBackwards>)\n",
      "\n",
      "Latent: tensor([-0.311,  5.962, 12.710], device='cuda:0', grad_fn=<AddBackward0>)\n",
      "\n",
      "Loss: 6.3206048011779785\n",
      "\n",
      "\n",
      "Original:       tensor([0.499, 0.501, 0.478, 0.550, 0.950, 0.499, 0.501, 0.528, 0.434, 0.050, 0.000])\n",
      "Reconstruction: tensor([    0.500,     0.501,     0.477,     0.555,     0.946,     0.498,     0.500,     0.534,     0.416,     0.049,     0.000],\n",
      "       grad_fn=<CopyBackwards>)\n",
      "\n",
      "Latent: tensor([ 1.277,  5.502, 11.485], device='cuda:0', grad_fn=<AddBackward0>)\n",
      "\n",
      "Loss: 5.9273223876953125\n",
      "\n",
      "\n",
      "Original:       tensor([0.499, 0.501, 0.478, 0.550, 0.950, 0.499, 0.501, 0.528, 0.434, 0.050, 0.000])\n",
      "Reconstruction: tensor([    0.500,     0.501,     0.477,     0.555,     0.945,     0.498,     0.500,     0.534,     0.416,     0.049,     0.000],\n",
      "       grad_fn=<CopyBackwards>)\n",
      "\n",
      "Latent: tensor([ 1.277,  5.502, 11.485], device='cuda:0', grad_fn=<AddBackward0>)\n",
      "\n",
      "Loss: 5.927321910858154\n",
      "\n",
      "\n"
     ]
    }
   ],
   "source": [
    "torch.set_printoptions(precision=3, sci_mode=False, linewidth=140, profile=None)\n",
    "import random\n",
    "for i in range(5):\n",
    "    k = random.randint(1, 400)\n",
    "    sample = test_data[k].to(device)\n",
    "    x, m, s = vae1(sample)\n",
    "    loss = loss_function(x, sample, m, s)\n",
    "    \n",
    "    x = x.to(\"cpu\")\n",
    "    sample = sample.to(\"cpu\")\n",
    "    \n",
    "    print(f\"Original:       {sample}\")\n",
    "    sample = sample.to(device)\n",
    "    print(f\"Reconstruction: {x}\\n\")\n",
    "    print(f\"Latent: {list(vae1.encode(sample))[0]}\")\n",
    "    print(f\"\\nLoss: {loss}\\n\\n\")\n",
    "    "
   ]
  },
  {
   "cell_type": "code",
   "execution_count": 17,
   "metadata": {},
   "outputs": [],
   "source": [
    "sample = Variable(torch.rand(1, 3))"
   ]
  }
 ],
 "metadata": {
  "kernelspec": {
   "display_name": "Python 3",
   "language": "python",
   "name": "python3"
  },
  "language_info": {
   "codemirror_mode": {
    "name": "ipython",
    "version": 3
   },
   "file_extension": ".py",
   "mimetype": "text/x-python",
   "name": "python",
   "nbconvert_exporter": "python",
   "pygments_lexer": "ipython3",
   "version": "3.8.6"
  }
 },
 "nbformat": 4,
 "nbformat_minor": 4
}

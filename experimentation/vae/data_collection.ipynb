{
 "cells": [
  {
   "cell_type": "code",
   "execution_count": null,
   "metadata": {},
   "outputs": [],
   "source": [
    "import numpy as np\n",
    "import torch\n",
    "import gym\n",
    "from tqdm import tqdm"
   ]
  },
  {
   "cell_type": "code",
   "execution_count": null,
   "metadata": {},
   "outputs": [],
   "source": [
    "env = gym.make(\"InvertedPendulum-v2\")\n",
    "env.reset()"
   ]
  },
  {
   "cell_type": "code",
   "execution_count": null,
   "metadata": {},
   "outputs": [],
   "source": [
    "AMOUNT = 100000\n",
    "FILE_NAME = \"testing.npy\""
   ]
  },
  {
   "cell_type": "code",
   "execution_count": null,
   "metadata": {},
   "outputs": [],
   "source": [
    "state_dim = env.observation_space.shape[0]\n",
    "action_dim = env.action_space.shape[0] \n",
    "action_low = env.action_space.low[0]\n",
    "action_high = env.action_space.high[0]\n",
    "state_low = -10\n",
    "state_high = 10\n",
    "print(action_dim)\n",
    "# print(state_low)\n",
    "def normalize_action(x):\n",
    "    return (x-action_low)/(action_high-action_low)\n",
    "# TODO find a way to scale this\n",
    "def normalize_state(s):\n",
    "    res = []\n",
    "    for i in s:\n",
    "        res.append((i-state_low)/(state_high-state_low))\n",
    "    return res\n",
    "def normalize_reward(r):\n",
    "    return np.array([r/20.0])"
   ]
  },
  {
   "cell_type": "code",
   "execution_count": null,
   "metadata": {},
   "outputs": [],
   "source": [
    "raw = []\n",
    "a = env.action_space.sample()\n",
    "old_state, _, _, _ = env.step(a) \n",
    "dones = 0\n",
    "for i in tqdm(range(AMOUNT)):\n",
    "    a = env.action_space.sample()\n",
    "    s, r, d, _ = env.step(a)\n",
    "    raw.append(np.concatenate((normalize_state(old_state), normalize_action(a), normalize_state(s), normalize_reward(r), np.array([d]))))\n",
    "    if d:\n",
    "        dones += 1\n",
    "        old_state = env.reset()\n",
    "print(dones)\n",
    "    \n",
    "               \n",
    "               \n",
    "\n",
    "    "
   ]
  },
  {
   "cell_type": "code",
   "execution_count": null,
   "metadata": {},
   "outputs": [],
   "source": [
    "raw[345]"
   ]
  },
  {
   "cell_type": "code",
   "execution_count": null,
   "metadata": {},
   "outputs": [],
   "source": [
    "np.save(FILE_NAME, raw)"
   ]
  },
  {
   "cell_type": "code",
   "execution_count": null,
   "metadata": {},
   "outputs": [],
   "source": [
    "saved = np.load(FILE_NAME, allow_pickle=True)"
   ]
  },
  {
   "cell_type": "code",
   "execution_count": null,
   "metadata": {},
   "outputs": [],
   "source": [
    "saved[345]"
   ]
  },
  {
   "cell_type": "code",
   "execution_count": null,
   "metadata": {},
   "outputs": [],
   "source": [
    "x = torch.Tensor(saved)"
   ]
  },
  {
   "cell_type": "code",
   "execution_count": null,
   "metadata": {},
   "outputs": [],
   "source": [
    "x[345]"
   ]
  },
  {
   "cell_type": "code",
   "execution_count": null,
   "metadata": {},
   "outputs": [],
   "source": [
    "x = \"absadcds\"\n",
    "x[2:]\n",
    "# x[:2]"
   ]
  },
  {
   "cell_type": "code",
   "execution_count": null,
   "metadata": {},
   "outputs": [],
   "source": [
    "for s in tqdm(saved):\n",
    "    for a in s:\n",
    "#         print(s)\n",
    "        if a > 1 or a < 0:\n",
    "            print('ALARM')"
   ]
  },
  {
   "cell_type": "code",
   "execution_count": null,
   "metadata": {},
   "outputs": [],
   "source": []
  }
 ],
 "metadata": {
  "kernelspec": {
   "display_name": "Python 3",
   "language": "python",
   "name": "python3"
  },
  "language_info": {
   "codemirror_mode": {
    "name": "ipython",
    "version": 3
   },
   "file_extension": ".py",
   "mimetype": "text/x-python",
   "name": "python",
   "nbconvert_exporter": "python",
   "pygments_lexer": "ipython3",
   "version": "3.8.6-final"
  }
 },
 "nbformat": 4,
 "nbformat_minor": 4
}
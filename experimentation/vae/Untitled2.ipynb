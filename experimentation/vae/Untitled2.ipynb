{
 "cells": [
  {
   "cell_type": "code",
   "execution_count": 1,
   "metadata": {},
   "outputs": [],
   "source": [
    "import torch"
   ]
  },
  {
   "cell_type": "code",
   "execution_count": 5,
   "metadata": {},
   "outputs": [
    {
     "data": {
      "text/plain": [
       "tensor([[ 1.9285,  1.9795, -4.3501],\n",
       "        [ 2.3430,  4.4481, -0.9850],\n",
       "        [-3.7208,  4.3278,  2.4605],\n",
       "        [ 4.9372, -4.1149, -1.1619],\n",
       "        [-2.5375, -3.4302,  3.4815],\n",
       "        [-1.8127,  3.0553,  1.4636],\n",
       "        [-2.1583, -4.5054,  3.9829],\n",
       "        [-2.0917, -2.3019, -3.1535],\n",
       "        [-0.6374, -1.5815, -4.7554],\n",
       "        [ 0.7332,  2.8395,  1.7382],\n",
       "        [-1.0463,  4.9756,  0.4752],\n",
       "        [-0.9813, -3.7413,  0.2479],\n",
       "        [ 0.4192,  3.8744, -2.7627],\n",
       "        [-0.4813,  3.2933, -0.7653],\n",
       "        [-1.3644,  2.3459, -3.4023],\n",
       "        [-0.5777, -1.3095,  1.2627],\n",
       "        [-0.0949,  4.6138,  2.9186],\n",
       "        [-3.7980,  2.7014,  4.0607],\n",
       "        [ 4.5521,  2.3385, -0.5135],\n",
       "        [-3.7489,  4.6714, -1.4674]])"
      ]
     },
     "execution_count": 5,
     "metadata": {},
     "output_type": "execute_result"
    }
   ],
   "source": [
    "res = torch.rand(20, 3)\n",
    "((res.mul_(10)).sub_(5))\n",
    "\n",
    "res\n",
    "        "
   ]
  },
  {
   "cell_type": "code",
   "execution_count": null,
   "metadata": {},
   "outputs": [],
   "source": []
  }
 ],
 "metadata": {
  "kernelspec": {
   "display_name": "Python 3",
   "language": "python",
   "name": "python3"
  },
  "language_info": {
   "codemirror_mode": {
    "name": "ipython",
    "version": 3
   },
   "file_extension": ".py",
   "mimetype": "text/x-python",
   "name": "python",
   "nbconvert_exporter": "python",
   "pygments_lexer": "ipython3",
   "version": "3.9.1"
  }
 },
 "nbformat": 4,
 "nbformat_minor": 4
}

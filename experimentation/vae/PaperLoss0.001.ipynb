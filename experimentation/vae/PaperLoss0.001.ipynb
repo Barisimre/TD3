{
 "cells": [
  {
   "cell_type": "code",
   "execution_count": 1,
   "metadata": {},
   "outputs": [],
   "source": [
    "import torch\n",
    "from torch import nn, optim\n",
    "from torch.nn import functional as F\n",
    "import numpy as np"
   ]
  },
  {
   "cell_type": "code",
   "execution_count": 2,
   "metadata": {},
   "outputs": [],
   "source": [
    "BATCH_SIZE = 128\n",
    "EPOCHS = 30\n",
    "S_LAYER_SIZE = 10\n",
    "LATENT_SIZE = 3\n",
    "C = 0.001"
   ]
  },
  {
   "cell_type": "code",
   "execution_count": 3,
   "metadata": {},
   "outputs": [
    {
     "name": "stdout",
     "output_type": "stream",
     "text": [
      "torch.Size([50000, 11])\n"
     ]
    }
   ],
   "source": [
    "# Load the data from the file\n",
    "\n",
    "saved = np.load(\"testing.npy\", allow_pickle=True)\n",
    "\n",
    "# Make a trainging and testing batch\n",
    "train_data = torch.Tensor(saved[:int(len(saved)*0.5)])\n",
    "test_data = torch.Tensor(saved[int(len(saved)*0.5):])\n",
    "print(train_data.shape)\n",
    "INPUT_SIZE = len(test_data[0])\n",
    "INPUT_SIZE\n",
    "\n",
    "torch.set_printoptions(linewidth=140)"
   ]
  },
  {
   "cell_type": "code",
   "execution_count": 4,
   "metadata": {},
   "outputs": [],
   "source": [
    "device = \"cuda\""
   ]
  },
  {
   "cell_type": "code",
   "execution_count": 5,
   "metadata": {},
   "outputs": [],
   "source": [
    "class VAE(nn.Module):\n",
    "    def __init__(self):\n",
    "        super(VAE, self).__init__()\n",
    "        \n",
    "        # Encoder\n",
    "        self.l1 = nn.Linear(INPUT_SIZE, S_LAYER_SIZE)\n",
    "        self.l2a = nn.Linear(S_LAYER_SIZE, LATENT_SIZE)\n",
    "        self.l2b = nn.Linear(S_LAYER_SIZE, LATENT_SIZE)\n",
    "        \n",
    "        # Decoder\n",
    "        self.l3 = nn.Linear(LATENT_SIZE, S_LAYER_SIZE)\n",
    "        self.l4 = nn.Linear(S_LAYER_SIZE, INPUT_SIZE)\n",
    "            \n",
    "    # Run some data through the encoder\n",
    "    def encode(self, x):\n",
    "        x = F.relu(self.l1(x))\n",
    "\n",
    "        # return the mu and the sigma\n",
    "        return self.l2a(x), self.l2b(x)\n",
    "    \n",
    "    # The reparameterization trick, taken from https://github.com/pytorch/examples/blob/master/vae/main.py\n",
    "    def reparameterize(self, mu, sigma):\n",
    "        std = torch.exp(0.5*sigma)\n",
    "        eps = torch.randn_like(std)\n",
    "        return mu + eps*std\n",
    "    \n",
    "    def decode(self, x):\n",
    "        x = F.relu(self.l3(x))\n",
    "\n",
    "        return torch.sigmoid(self.l4(x)) # sigmoid vs tanh\n",
    "    \n",
    "    def forward(self, x):\n",
    "        # TODO: check the shape of x to be sure we have the right input\n",
    "        mu, sigma = self.encode(x)\n",
    "        z = self.reparameterize(mu, sigma)\n",
    "        # The loss function needs the mu and the sigma so just return them here\n",
    "        return self.decode(z), mu, sigma"
   ]
  },
  {
   "cell_type": "code",
   "execution_count": 6,
   "metadata": {},
   "outputs": [],
   "source": [
    "# Reconstruction + KL divergence losses summed over all elements and batch\n",
    "# Taken from https://github.com/pytorch/examples/blob/master/vae/main.py\n",
    "def loss_function(recon_x, x, mu, sigma):\n",
    "    BCE = F.binary_cross_entropy(recon_x, x, reduction='sum')\n",
    "    KLD = -0.5 * torch.sum(1 + sigma - mu.pow(2) - sigma.exp())\n",
    "    return BCE + C*KLD"
   ]
  },
  {
   "cell_type": "code",
   "execution_count": 7,
   "metadata": {},
   "outputs": [],
   "source": [
    "def train(e_count, model, optimizer):\n",
    "    data = train_data\n",
    "    model.train()\n",
    "    train_loss = 0\n",
    "    for i in range(0, len(data), BATCH_SIZE):\n",
    "        batch = data[i:i+BATCH_SIZE].to(device)\n",
    "        model.zero_grad()\n",
    "        recons, mu, sigma = model(batch)\n",
    "        loss = loss_function(recons, batch, mu, sigma)\n",
    "        loss.backward()\n",
    "        train_loss += loss.item()\n",
    "        optimizer.step()\n",
    "        \n",
    "    print(f\"Epoch: {e_count}, Loss: {train_loss/len(data)}\")        \n",
    "        \n",
    "    \n",
    "    "
   ]
  },
  {
   "cell_type": "code",
   "execution_count": 8,
   "metadata": {},
   "outputs": [],
   "source": [
    "# Lets use CPU\n",
    "def test(e_count, model, optimizer):\n",
    "    model.eval()\n",
    "    test_loss = 0\n",
    "    for i in range(0, len(test_data), BATCH_SIZE):\n",
    "        batch = test_data[i:i+BATCH_SIZE].to(device)\n",
    "        recons, mu, sigma = model(batch)\n",
    "        loss = loss_function(recons, batch, mu, sigma)\n",
    "        test_loss += loss.item()\n",
    "    print(f\"TEST Epoch: {e_count}, Loss: {test_loss/len(test_data)}\") \n",
    "        \n",
    "        "
   ]
  },
  {
   "cell_type": "code",
   "execution_count": 9,
   "metadata": {},
   "outputs": [],
   "source": [
    "train_data=train_data[torch.randperm(train_data.size()[0])]\n",
    "test_data=test_data[torch.randperm(test_data.size()[0])]"
   ]
  },
  {
   "cell_type": "code",
   "execution_count": 10,
   "metadata": {},
   "outputs": [],
   "source": [
    "vae1 = VAE().to(device)\n",
    "opt1 = optim.Adam(vae1.parameters(), lr=0.001)"
   ]
  },
  {
   "cell_type": "code",
   "execution_count": 11,
   "metadata": {},
   "outputs": [
    {
     "name": "stdout",
     "output_type": "stream",
     "text": [
      "Epoch: 0, Loss: 7.050210458984375\n",
      "Epoch: 1, Loss: 6.705894895019531\n",
      "Epoch: 2, Loss: 6.362068379516602\n",
      "Epoch: 3, Loss: 6.263416195678711\n",
      "Epoch: 4, Loss: 6.254765145263672\n",
      "Epoch: 5, Loss: 6.249748720703125\n",
      "Epoch: 6, Loss: 6.24572762878418\n",
      "Epoch: 7, Loss: 6.242629369506836\n",
      "Epoch: 8, Loss: 6.240364968261718\n",
      "Epoch: 9, Loss: 6.238640629272461\n",
      "Epoch: 10, Loss: 6.236981194458008\n",
      "Epoch: 11, Loss: 6.235138656616211\n",
      "Epoch: 12, Loss: 6.230328549194336\n",
      "Epoch: 13, Loss: 6.218500626831054\n",
      "Epoch: 14, Loss: 6.216853662719727\n",
      "Epoch: 15, Loss: 6.2163731011962895\n",
      "Epoch: 16, Loss: 6.215973235473633\n",
      "Epoch: 17, Loss: 6.215675948486328\n",
      "Epoch: 18, Loss: 6.215388922119141\n",
      "Epoch: 19, Loss: 6.215138843383789\n",
      "Epoch: 20, Loss: 6.214897052612304\n",
      "Epoch: 21, Loss: 6.214737373046875\n",
      "Epoch: 22, Loss: 6.214541114501953\n",
      "Epoch: 23, Loss: 6.214369799194336\n",
      "Epoch: 24, Loss: 6.213803854980469\n",
      "Epoch: 25, Loss: 6.212972476806641\n",
      "Epoch: 26, Loss: 6.212363531494141\n",
      "Epoch: 27, Loss: 6.2119929364013675\n",
      "Epoch: 28, Loss: 6.211750450439453\n",
      "Epoch: 29, Loss: 6.2115558795166015\n"
     ]
    }
   ],
   "source": [
    "for i in range(EPOCHS):\n",
    "    train(i, vae1, opt1)"
   ]
  },
  {
   "cell_type": "code",
   "execution_count": 12,
   "metadata": {},
   "outputs": [],
   "source": [
    "import gym\n",
    "env = gym.make(\"InvertedPendulum-v2\")\n",
    "env.reset()\n",
    "state_dim = env.observation_space.shape[0]\n",
    "action_dim = env.action_space.shape[0] \n",
    "action_low = env.action_space.low[0]\n",
    "action_high = env.action_space.high[0]\n",
    "state_low = -10.0\n",
    "state_high = 10.0"
   ]
  },
  {
   "cell_type": "code",
   "execution_count": 13,
   "metadata": {},
   "outputs": [],
   "source": [
    "def descale(x):\n",
    "    # State\n",
    "    ((x[:, 0].mul_(state_high-state_low)).add_(state_low)).to(device)\n",
    "    ((x[:, 1].mul_(state_high-state_low)).add_(state_low)).to(device)\n",
    "    ((x[:, 2].mul_(state_high-state_low)).add_(state_low)).to(device)\n",
    "    ((x[:, 3].mul_(state_high-state_low)).add_(state_low)).to(device)\n",
    "\n",
    "    # Action\n",
    "    ((x[:, 4].mul_(action_high-action_low)).add_(action_low)).to(device)\n",
    "    \n",
    "    # State\n",
    "    ((x[:, 5].mul_(state_high-state_low)).add_(state_low)).to(device)\n",
    "    ((x[:, 6].mul_(state_high-state_low)).add_(state_low)).to(device)\n",
    "    ((x[:, 7].mul_(state_high-state_low)).add_(state_low)).to(device)\n",
    "    ((x[:, 8].mul_(state_high-state_low)).add_(state_low)).to(device)\n",
    "    \n",
    "    # Reward\n",
    "    (x[:, 9].mul_(20.0)).to(device)\n",
    "    \n",
    "    # Done\n",
    "    (x[:, 10].round_()).to(device)\n",
    "    \n",
    "    return x"
   ]
  },
  {
   "cell_type": "code",
   "execution_count": 14,
   "metadata": {},
   "outputs": [
    {
     "name": "stdout",
     "output_type": "stream",
     "text": [
      "Action\n",
      "tensor(0.2805, device='cuda:0')\n",
      "tensor(0.4944, device='cuda:0', grad_fn=<SelectBackward>) \n",
      "\n",
      "tensor(0.7016, device='cuda:0')\n",
      "tensor(0.4953, device='cuda:0', grad_fn=<SelectBackward>) \n",
      "\n",
      "tensor(0.6913, device='cuda:0')\n",
      "tensor(0.4955, device='cuda:0', grad_fn=<SelectBackward>) \n",
      "\n",
      "tensor(0.3555, device='cuda:0')\n",
      "tensor(0.5097, device='cuda:0', grad_fn=<SelectBackward>) \n",
      "\n",
      "tensor(0.9472, device='cuda:0')\n",
      "tensor(0.5057, device='cuda:0', grad_fn=<SelectBackward>) \n",
      "\n",
      "tensor(0.8353, device='cuda:0')\n",
      "tensor(0.4991, device='cuda:0', grad_fn=<SelectBackward>) \n",
      "\n",
      "tensor(0.4753, device='cuda:0')\n",
      "tensor(0.4977, device='cuda:0', grad_fn=<SelectBackward>) \n",
      "\n",
      "tensor(0.0954, device='cuda:0')\n",
      "tensor(0.4944, device='cuda:0', grad_fn=<SelectBackward>) \n",
      "\n",
      "tensor(0.2369, device='cuda:0')\n",
      "tensor(0.5009, device='cuda:0', grad_fn=<SelectBackward>) \n",
      "\n",
      "tensor(0.7911, device='cuda:0')\n",
      "tensor(0.4959, device='cuda:0', grad_fn=<SelectBackward>) \n",
      "\n"
     ]
    }
   ],
   "source": [
    "from torch.autograd import Variable\n",
    "\n",
    "print(\"Action\")\n",
    "for i in range(10):\n",
    "    sample = torch.FloatTensor(2, 11).uniform_(0, 1).to(\"cuda\")\n",
    "    print(sample[0][5])\n",
    "    x = vae1(sample)\n",
    "    print(x[0][0][5], '\\n')"
   ]
  },
  {
   "cell_type": "code",
   "execution_count": 15,
   "metadata": {},
   "outputs": [
    {
     "name": "stdout",
     "output_type": "stream",
     "text": [
      "Reward\n",
      "tensor(0.0055, device='cuda:0')\n",
      "tensor(0.0875, device='cuda:0', grad_fn=<SelectBackward>) \n",
      "\n",
      "tensor(0.0212, device='cuda:0')\n",
      "tensor(0.0517, device='cuda:0', grad_fn=<SelectBackward>) \n",
      "\n",
      "tensor(0.1201, device='cuda:0')\n",
      "tensor(0.0769, device='cuda:0', grad_fn=<SelectBackward>) \n",
      "\n",
      "tensor(0.0247, device='cuda:0')\n",
      "tensor(0.0669, device='cuda:0', grad_fn=<SelectBackward>) \n",
      "\n",
      "tensor(0.0967, device='cuda:0')\n",
      "tensor(0.0516, device='cuda:0', grad_fn=<SelectBackward>) \n",
      "\n",
      "tensor(0.0653, device='cuda:0')\n",
      "tensor(0.0635, device='cuda:0', grad_fn=<SelectBackward>) \n",
      "\n",
      "tensor(0.1496, device='cuda:0')\n",
      "tensor(0.0524, device='cuda:0', grad_fn=<SelectBackward>) \n",
      "\n",
      "tensor(0.0475, device='cuda:0')\n",
      "tensor(0.0528, device='cuda:0', grad_fn=<SelectBackward>) \n",
      "\n",
      "tensor(0.0910, device='cuda:0')\n",
      "tensor(0.0699, device='cuda:0', grad_fn=<SelectBackward>) \n",
      "\n",
      "tensor(0.0259, device='cuda:0')\n",
      "tensor(0.0511, device='cuda:0', grad_fn=<SelectBackward>) \n",
      "\n"
     ]
    }
   ],
   "source": [
    "print(\"Reward\")\n",
    "for i in range(10):\n",
    "    sample = torch.FloatTensor(2, 11).uniform_(0, 0.15).to(\"cuda\")\n",
    "    print(sample[0][9])\n",
    "    x = vae1(sample)\n",
    "    print(x[0][0][9], '\\n')"
   ]
  },
  {
   "cell_type": "code",
   "execution_count": 16,
   "metadata": {},
   "outputs": [
    {
     "name": "stdout",
     "output_type": "stream",
     "text": [
      "Original:       tensor([0.497, 0.505, 0.471, 0.564, 0.249, 0.495, 0.509, 0.443, 0.629, 0.050, 0.000])\n",
      "Reconstruction: tensor([    0.499,     0.501,     0.475,     0.557,     0.210,     0.498,     0.505,     0.447,     0.622,     0.050,     0.000],\n",
      "       grad_fn=<CopyBackwards>)\n",
      "\n",
      "Latent: tensor([-0.771, -0.101, -0.537], device='cuda:0', grad_fn=<AddBackward0>)\n",
      "\n",
      "Loss: 6.2647705078125\n",
      "\n",
      "\n",
      "Original:       tensor([0.501, 0.499, 0.479, 0.552, 0.285, 0.500, 0.502, 0.456, 0.602, 0.050, 0.000])\n",
      "Reconstruction: tensor([    0.500,     0.501,     0.481,     0.543,     0.259,     0.498,     0.503,     0.458,     0.596,     0.050,     0.000],\n",
      "       grad_fn=<CopyBackwards>)\n",
      "\n",
      "Latent: tensor([-0.742, -0.352, -0.572], device='cuda:0', grad_fn=<AddBackward0>)\n",
      "\n",
      "Loss: 6.318028450012207\n",
      "\n",
      "\n",
      "Original:       tensor([0.500, 0.500, 0.500, 0.500, 0.715, 0.500, 0.499, 0.523, 0.445, 0.050, 0.000])\n",
      "Reconstruction: tensor([    0.500,     0.500,     0.500,     0.502,     0.713,     0.501,     0.499,     0.520,     0.453,     0.050,     0.000],\n",
      "       grad_fn=<CopyBackwards>)\n",
      "\n",
      "Latent: tensor([-0.640, -0.613, -1.385], device='cuda:0', grad_fn=<AddBackward0>)\n",
      "\n",
      "Loss: 6.341042518615723\n",
      "\n",
      "\n",
      "Original:       tensor([0.498, 0.504, 0.433, 0.654, 0.249, 0.494, 0.512, 0.407, 0.711, 0.050, 1.000])\n",
      "Reconstruction: tensor([0.498, 0.505, 0.438, 0.640, 0.210, 0.495, 0.511, 0.410, 0.698, 0.050, 1.000], grad_fn=<CopyBackwards>)\n",
      "\n",
      "Latent: tensor([ 0.736, -1.186, -0.325], device='cuda:0', grad_fn=<AddBackward0>)\n",
      "\n",
      "Loss: 6.152099132537842\n",
      "\n",
      "\n",
      "Original:       tensor([0.499, 0.503, 0.471, 0.566, 0.147, 0.497, 0.507, 0.433, 0.655, 0.050, 0.000])\n",
      "Reconstruction: tensor([    0.499,     0.502,     0.469,     0.572,     0.144,     0.497,     0.507,     0.430,     0.659,     0.050,     0.000],\n",
      "       grad_fn=<CopyBackwards>)\n",
      "\n",
      "Latent: tensor([-0.710,  0.063, -0.324], device='cuda:0', grad_fn=<AddBackward0>)\n",
      "\n",
      "Loss: 6.098548889160156\n",
      "\n",
      "\n"
     ]
    }
   ],
   "source": [
    "torch.set_printoptions(precision=3, sci_mode=False, linewidth=140, profile=None)\n",
    "import random\n",
    "for i in range(5):\n",
    "    k = random.randint(1, 400)\n",
    "    sample = test_data[k].to(device)\n",
    "    x, m, s = vae1(sample)\n",
    "    loss = loss_function(x, sample, m, s)\n",
    "    \n",
    "    x = x.to(\"cpu\")\n",
    "    sample = sample.to(\"cpu\")\n",
    "    \n",
    "    print(f\"Original:       {sample}\")\n",
    "    sample = sample.to(device)\n",
    "    print(f\"Reconstruction: {x}\\n\")\n",
    "    torch.set_printoptions(precision=3, sci_mode=False, linewidth=140, profile=\"short\")\n",
    "    print(f\"Latent: {vae1.reparameterize(list(vae1.encode(sample))[0], list(vae1.encode(sample))[1])}\")\n",
    "    print(f\"\\nLoss: {loss}\\n\\n\")\n",
    "    "
   ]
  },
  {
   "cell_type": "code",
   "execution_count": 17,
   "metadata": {},
   "outputs": [],
   "source": [
    "sample = Variable(torch.rand(1, 3))"
   ]
  },
  {
   "cell_type": "code",
   "execution_count": 18,
   "metadata": {},
   "outputs": [],
   "source": [
    "latents = []\n",
    "\n",
    "for i in range(300):\n",
    "    k = random.randint(1, 6000)\n",
    "    sample = test_data[k].to(device)\n",
    "    l = vae1.reparameterize(list(vae1.encode(sample))[0], list(vae1.encode(sample))[1])\n",
    "    latents.append([i.item() for i in l])\n",
    "    \n",
    "np.save(f\"Latents/latent{C}\", latents)\n",
    "    "
   ]
  },
  {
   "cell_type": "code",
   "execution_count": 19,
   "metadata": {},
   "outputs": [
    {
     "name": "stdout",
     "output_type": "stream",
     "text": [
      "UNBALANCED DATASET\n",
      "counts of intervals: [0, 0.1]: 3994, [0.1, 0.7]: 1719, [0.7, 1]: 4287\n",
      "-- so the ratio to done and not done (deleting the middle ones) is 0.5176911001086826\n",
      "The real ration is 0.17664\n"
     ]
    }
   ],
   "source": [
    "res = [0, 0, 0]\n",
    "k = []\n",
    "for i in range(10000):\n",
    "    sample = Variable(torch.randn(1, LATENT_SIZE))\n",
    "    a = vae1.decode(sample.to(\"cuda\"))[0]\n",
    "    num = float(sum(list(a[10:])))\n",
    "    k.append(num)\n",
    "    if num < 0.1:\n",
    "        res[0] += 1\n",
    "    elif num <0.9:\n",
    "        res[1] += 1\n",
    "    else:\n",
    "        res[2] += 1\n",
    "        \n",
    "d = 0\n",
    "nd = 0\n",
    "\n",
    "for a in test_data:\n",
    "    if a[10] == 1:\n",
    "        d += 1\n",
    "    else:\n",
    "        nd += 1\n",
    "        \n",
    "        \n",
    "print(f\"UNBALANCED DATASET\")\n",
    "print(f\"counts of intervals: [0, 0.1]: {res[0]}, [0.1, 0.7]: {res[1]}, [0.7, 1]: {res[2]}\")\n",
    "print(f\"-- so the ratio to done and not done (deleting the middle ones) is {res[2]/(res[2]+res[0])}\")\n",
    "print(f\"The real ration is {d/(nd+d)}\")"
   ]
  },
  {
   "cell_type": "code",
   "execution_count": 20,
   "metadata": {},
   "outputs": [
    {
     "name": "stdout",
     "output_type": "stream",
     "text": [
      "tensor([0.503, 0.494, 0.577, 0.325, 0.500, 0.506, 0.487, 0.576, 0.330, 0.050, 1.000])\n",
      "tensor([0.504, 0.493, 0.576, 0.331, 0.511, 0.506, 0.486, 0.576, 0.327, 0.050, 1.000], device='cuda:0', grad_fn=<SigmoidBackward>)\n"
     ]
    }
   ],
   "source": [
    "dat = torch.Tensor([0.503, 0.494, 0.577, 0.325, 0.500, 0.506, 0.487, 0.576, 0.330, 0.050, 1.000])\n",
    "print(dat)\n",
    "x, _, _ = vae1(dat.to(device))\n",
    "print(x)"
   ]
  },
  {
   "cell_type": "code",
   "execution_count": null,
   "metadata": {},
   "outputs": [],
   "source": []
  }
 ],
 "metadata": {
  "kernelspec": {
   "display_name": "Python 3",
   "language": "python",
   "name": "python3"
  },
  "language_info": {
   "codemirror_mode": {
    "name": "ipython",
    "version": 3
   },
   "file_extension": ".py",
   "mimetype": "text/x-python",
   "name": "python",
   "nbconvert_exporter": "python",
   "pygments_lexer": "ipython3",
   "version": "3.9.1"
  }
 },
 "nbformat": 4,
 "nbformat_minor": 4
}

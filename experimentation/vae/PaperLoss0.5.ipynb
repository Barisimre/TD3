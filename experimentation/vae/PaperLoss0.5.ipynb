{
 "cells": [
  {
   "cell_type": "code",
   "execution_count": 1,
   "metadata": {},
   "outputs": [],
   "source": [
    "import torch\n",
    "from torch import nn, optim\n",
    "from torch.nn import functional as F\n",
    "import numpy as np"
   ]
  },
  {
   "cell_type": "code",
   "execution_count": 2,
   "metadata": {},
   "outputs": [],
   "source": [
    "BATCH_SIZE = 128\n",
    "EPOCHS = 30\n",
    "S_LAYER_SIZE = 10\n",
    "LATENT_SIZE = 3\n",
    "C = 0.5"
   ]
  },
  {
   "cell_type": "code",
   "execution_count": 3,
   "metadata": {},
   "outputs": [
    {
     "name": "stdout",
     "output_type": "stream",
     "text": [
      "torch.Size([50000, 11])\n"
     ]
    }
   ],
   "source": [
    "# Load the data from the file\n",
    "\n",
    "saved = np.load(\"testing.npy\", allow_pickle=True)\n",
    "\n",
    "# Make a trainging and testing batch\n",
    "train_data = torch.Tensor(saved[:int(len(saved)*0.5)])\n",
    "test_data = torch.Tensor(saved[int(len(saved)*0.5):])\n",
    "print(train_data.shape)\n",
    "INPUT_SIZE = len(test_data[0])\n",
    "INPUT_SIZE\n",
    "\n",
    "torch.set_printoptions(linewidth=140)"
   ]
  },
  {
   "cell_type": "code",
   "execution_count": 4,
   "metadata": {},
   "outputs": [],
   "source": [
    "device = \"cuda\""
   ]
  },
  {
   "cell_type": "code",
   "execution_count": 5,
   "metadata": {},
   "outputs": [],
   "source": [
    "class VAE(nn.Module):\n",
    "    def __init__(self):\n",
    "        super(VAE, self).__init__()\n",
    "        \n",
    "        # Encoder\n",
    "        self.l1 = nn.Linear(INPUT_SIZE, S_LAYER_SIZE)\n",
    "        self.l2a = nn.Linear(S_LAYER_SIZE, LATENT_SIZE)\n",
    "        self.l2b = nn.Linear(S_LAYER_SIZE, LATENT_SIZE)\n",
    "        \n",
    "        # Decoder\n",
    "        self.l3 = nn.Linear(LATENT_SIZE, S_LAYER_SIZE)\n",
    "        self.l4 = nn.Linear(S_LAYER_SIZE, INPUT_SIZE)\n",
    "            \n",
    "    # Run some data through the encoder\n",
    "    def encode(self, x):\n",
    "        x = F.relu(self.l1(x))\n",
    "\n",
    "        # return the mu and the sigma\n",
    "        return self.l2a(x), self.l2b(x)\n",
    "    \n",
    "    # The reparameterization trick, taken from https://github.com/pytorch/examples/blob/master/vae/main.py\n",
    "    def reparameterize(self, mu, sigma):\n",
    "        std = torch.exp(0.5*sigma)\n",
    "        eps = torch.randn_like(std)\n",
    "        return mu + eps*std\n",
    "    \n",
    "    def decode(self, x):\n",
    "        x = F.relu(self.l3(x))\n",
    "\n",
    "        return torch.sigmoid(self.l4(x)) # sigmoid vs tanh\n",
    "    \n",
    "    def forward(self, x):\n",
    "        # TODO: check the shape of x to be sure we have the right input\n",
    "        mu, sigma = self.encode(x)\n",
    "        z = self.reparameterize(mu, sigma)\n",
    "        # The loss function needs the mu and the sigma so just return them here\n",
    "        return self.decode(z), mu, sigma"
   ]
  },
  {
   "cell_type": "code",
   "execution_count": 6,
   "metadata": {},
   "outputs": [],
   "source": [
    "# Reconstruction + KL divergence losses summed over all elements and batch\n",
    "# Taken from https://github.com/pytorch/examples/blob/master/vae/main.py\n",
    "def loss_function(recon_x, x, mu, sigma):\n",
    "    BCE = F.binary_cross_entropy(recon_x, x, reduction='sum')\n",
    "    KLD = -0.5 * torch.sum(1 + sigma - mu.pow(2) - sigma.exp())\n",
    "    return BCE + C*KLD"
   ]
  },
  {
   "cell_type": "code",
   "execution_count": 7,
   "metadata": {},
   "outputs": [],
   "source": [
    "def train(e_count, model, optimizer):\n",
    "    data = train_data\n",
    "    model.train()\n",
    "    train_loss = 0\n",
    "    for i in range(0, len(data), BATCH_SIZE):\n",
    "        batch = data[i:i+BATCH_SIZE].to(device)\n",
    "        model.zero_grad()\n",
    "        recons, mu, sigma = model(batch)\n",
    "        loss = loss_function(recons, batch, mu, sigma)\n",
    "        loss.backward()\n",
    "        train_loss += loss.item()\n",
    "        optimizer.step()\n",
    "        \n",
    "    print(f\"Epoch: {e_count}, Loss: {train_loss/len(data)}\")        \n",
    "        \n",
    "    \n",
    "    "
   ]
  },
  {
   "cell_type": "code",
   "execution_count": 8,
   "metadata": {},
   "outputs": [],
   "source": [
    "# Lets use CPU\n",
    "def test(e_count, model, optimizer):\n",
    "    model.eval()\n",
    "    test_loss = 0\n",
    "    for i in range(0, len(test_data), BATCH_SIZE):\n",
    "        batch = test_data[i:i+BATCH_SIZE].to(device)\n",
    "        recons, mu, sigma = model(batch)\n",
    "        loss = loss_function(recons, batch, mu, sigma)\n",
    "        test_loss += loss.item()\n",
    "    print(f\"TEST Epoch: {e_count}, Loss: {test_loss/len(test_data)}\") \n",
    "        \n",
    "        "
   ]
  },
  {
   "cell_type": "code",
   "execution_count": 9,
   "metadata": {},
   "outputs": [],
   "source": [
    "train_data=train_data[torch.randperm(train_data.size()[0])]\n",
    "test_data=test_data[torch.randperm(test_data.size()[0])]"
   ]
  },
  {
   "cell_type": "code",
   "execution_count": 10,
   "metadata": {},
   "outputs": [],
   "source": [
    "vae1 = VAE().to(device)\n",
    "opt1 = optim.Adam(vae1.parameters(), lr=0.001)"
   ]
  },
  {
   "cell_type": "code",
   "execution_count": 11,
   "metadata": {},
   "outputs": [
    {
     "name": "stdout",
     "output_type": "stream",
     "text": [
      "Epoch: 0, Loss: 7.23754759399414\n",
      "Epoch: 1, Loss: 6.9105022802734375\n",
      "Epoch: 2, Loss: 6.822154013671875\n",
      "Epoch: 3, Loss: 6.7828437561035155\n",
      "Epoch: 4, Loss: 6.766266428222656\n",
      "Epoch: 5, Loss: 6.757202491455078\n",
      "Epoch: 6, Loss: 6.754297359619141\n",
      "Epoch: 7, Loss: 6.750685964355469\n",
      "Epoch: 8, Loss: 6.7469140234375\n",
      "Epoch: 9, Loss: 6.748092197265625\n",
      "Epoch: 10, Loss: 6.745354976806641\n",
      "Epoch: 11, Loss: 6.748027515869141\n",
      "Epoch: 12, Loss: 6.74300748046875\n",
      "Epoch: 13, Loss: 6.745528076171875\n",
      "Epoch: 14, Loss: 6.744858355712891\n",
      "Epoch: 15, Loss: 6.7433385144042965\n",
      "Epoch: 16, Loss: 6.743844017333984\n",
      "Epoch: 17, Loss: 6.746955979003906\n",
      "Epoch: 18, Loss: 6.745454392089844\n",
      "Epoch: 19, Loss: 6.741417415771484\n",
      "Epoch: 20, Loss: 6.743091281738281\n",
      "Epoch: 21, Loss: 6.743754403076172\n",
      "Epoch: 22, Loss: 6.74439776977539\n",
      "Epoch: 23, Loss: 6.7446217333984375\n",
      "Epoch: 24, Loss: 6.747117987060546\n",
      "Epoch: 25, Loss: 6.743473489990234\n",
      "Epoch: 26, Loss: 6.745346912841796\n",
      "Epoch: 27, Loss: 6.744711076660156\n",
      "Epoch: 28, Loss: 6.745174241943359\n",
      "Epoch: 29, Loss: 6.744394874267578\n"
     ]
    }
   ],
   "source": [
    "for i in range(EPOCHS):\n",
    "    train(i, vae1, opt1)"
   ]
  },
  {
   "cell_type": "code",
   "execution_count": 12,
   "metadata": {},
   "outputs": [],
   "source": [
    "import gym\n",
    "env = gym.make(\"InvertedPendulum-v2\")\n",
    "env.reset()\n",
    "state_dim = env.observation_space.shape[0]\n",
    "action_dim = env.action_space.shape[0] \n",
    "action_low = env.action_space.low[0]\n",
    "action_high = env.action_space.high[0]\n",
    "state_low = -10.0\n",
    "state_high = 10.0"
   ]
  },
  {
   "cell_type": "code",
   "execution_count": 13,
   "metadata": {},
   "outputs": [],
   "source": [
    "def descale(x):\n",
    "    # State\n",
    "    ((x[:, 0].mul_(state_high-state_low)).add_(state_low)).to(device)\n",
    "    ((x[:, 1].mul_(state_high-state_low)).add_(state_low)).to(device)\n",
    "    ((x[:, 2].mul_(state_high-state_low)).add_(state_low)).to(device)\n",
    "    ((x[:, 3].mul_(state_high-state_low)).add_(state_low)).to(device)\n",
    "\n",
    "    # Action\n",
    "    ((x[:, 4].mul_(action_high-action_low)).add_(action_low)).to(device)\n",
    "    \n",
    "    # State\n",
    "    ((x[:, 5].mul_(state_high-state_low)).add_(state_low)).to(device)\n",
    "    ((x[:, 6].mul_(state_high-state_low)).add_(state_low)).to(device)\n",
    "    ((x[:, 7].mul_(state_high-state_low)).add_(state_low)).to(device)\n",
    "    ((x[:, 8].mul_(state_high-state_low)).add_(state_low)).to(device)\n",
    "    \n",
    "    # Reward\n",
    "    (x[:, 9].mul_(20.0)).to(device)\n",
    "    \n",
    "    # Done\n",
    "    (x[:, 10].round_()).to(device)\n",
    "    \n",
    "    return x"
   ]
  },
  {
   "cell_type": "code",
   "execution_count": 14,
   "metadata": {},
   "outputs": [
    {
     "name": "stdout",
     "output_type": "stream",
     "text": [
      "Action\n",
      "tensor(0.1193, device='cuda:0')\n",
      "tensor(0.4997, device='cuda:0', grad_fn=<SelectBackward>) \n",
      "\n",
      "tensor(0.7109, device='cuda:0')\n",
      "tensor(0.4995, device='cuda:0', grad_fn=<SelectBackward>) \n",
      "\n",
      "tensor(0.0246, device='cuda:0')\n",
      "tensor(0.4996, device='cuda:0', grad_fn=<SelectBackward>) \n",
      "\n",
      "tensor(0.1223, device='cuda:0')\n",
      "tensor(0.4997, device='cuda:0', grad_fn=<SelectBackward>) \n",
      "\n",
      "tensor(0.9242, device='cuda:0')\n",
      "tensor(0.4998, device='cuda:0', grad_fn=<SelectBackward>) \n",
      "\n",
      "tensor(0.4520, device='cuda:0')\n",
      "tensor(0.4995, device='cuda:0', grad_fn=<SelectBackward>) \n",
      "\n",
      "tensor(0.8199, device='cuda:0')\n",
      "tensor(0.4995, device='cuda:0', grad_fn=<SelectBackward>) \n",
      "\n",
      "tensor(0.0477, device='cuda:0')\n",
      "tensor(0.4992, device='cuda:0', grad_fn=<SelectBackward>) \n",
      "\n",
      "tensor(0.7109, device='cuda:0')\n",
      "tensor(0.4997, device='cuda:0', grad_fn=<SelectBackward>) \n",
      "\n",
      "tensor(0.5853, device='cuda:0')\n",
      "tensor(0.4992, device='cuda:0', grad_fn=<SelectBackward>) \n",
      "\n"
     ]
    }
   ],
   "source": [
    "from torch.autograd import Variable\n",
    "\n",
    "print(\"Action\")\n",
    "for i in range(10):\n",
    "    sample = torch.FloatTensor(2, 11).uniform_(0, 1).to(\"cuda\")\n",
    "    print(sample[0][5])\n",
    "    x = vae1(sample)\n",
    "    print(x[0][0][5], '\\n')"
   ]
  },
  {
   "cell_type": "code",
   "execution_count": 15,
   "metadata": {},
   "outputs": [
    {
     "name": "stdout",
     "output_type": "stream",
     "text": [
      "Reward\n",
      "tensor(0.0087, device='cuda:0')\n",
      "tensor(0.0500, device='cuda:0', grad_fn=<SelectBackward>) \n",
      "\n",
      "tensor(0.0366, device='cuda:0')\n",
      "tensor(0.0501, device='cuda:0', grad_fn=<SelectBackward>) \n",
      "\n",
      "tensor(0.0759, device='cuda:0')\n",
      "tensor(0.0510, device='cuda:0', grad_fn=<SelectBackward>) \n",
      "\n",
      "tensor(0.1008, device='cuda:0')\n",
      "tensor(0.0504, device='cuda:0', grad_fn=<SelectBackward>) \n",
      "\n",
      "tensor(0.0494, device='cuda:0')\n",
      "tensor(0.0498, device='cuda:0', grad_fn=<SelectBackward>) \n",
      "\n",
      "tensor(0.0874, device='cuda:0')\n",
      "tensor(0.0491, device='cuda:0', grad_fn=<SelectBackward>) \n",
      "\n",
      "tensor(0.1323, device='cuda:0')\n",
      "tensor(0.0498, device='cuda:0', grad_fn=<SelectBackward>) \n",
      "\n",
      "tensor(0.0228, device='cuda:0')\n",
      "tensor(0.0498, device='cuda:0', grad_fn=<SelectBackward>) \n",
      "\n",
      "tensor(0.0919, device='cuda:0')\n",
      "tensor(0.0501, device='cuda:0', grad_fn=<SelectBackward>) \n",
      "\n",
      "tensor(0.0689, device='cuda:0')\n",
      "tensor(0.0500, device='cuda:0', grad_fn=<SelectBackward>) \n",
      "\n"
     ]
    }
   ],
   "source": [
    "print(\"Reward\")\n",
    "for i in range(10):\n",
    "    sample = torch.FloatTensor(2, 11).uniform_(0, 0.15).to(\"cuda\")\n",
    "    print(sample[0][9])\n",
    "    x = vae1(sample)\n",
    "    print(x[0][0][9], '\\n')"
   ]
  },
  {
   "cell_type": "code",
   "execution_count": 16,
   "metadata": {},
   "outputs": [
    {
     "name": "stdout",
     "output_type": "stream",
     "text": [
      "Original:       tensor([0.500, 0.500, 0.500, 0.500, 0.298, 0.500, 0.501, 0.477, 0.552, 0.050, 0.000])\n",
      "Reconstruction: tensor([    0.500,     0.500,     0.497,     0.500,     0.493,     0.500,     0.499,     0.500,     0.498,     0.051,     0.000],\n",
      "       grad_fn=<CopyBackwards>)\n",
      "\n",
      "Latent: tensor([ 1.188, -1.156,  2.606], device='cuda:0', grad_fn=<AddBackward0>)\n",
      "\n",
      "Loss: 6.5112762451171875\n",
      "\n",
      "\n",
      "Original:       tensor([0.500, 0.500, 0.500, 0.500, 0.729, 0.500, 0.499, 0.526, 0.441, 0.050, 0.000])\n",
      "Reconstruction: tensor([    0.500,     0.499,     0.496,     0.501,     0.488,     0.500,     0.499,     0.499,     0.500,     0.050,     0.000],\n",
      "       grad_fn=<CopyBackwards>)\n",
      "\n",
      "Latent: tensor([0.284, 0.809, 0.779], device='cuda:0', grad_fn=<AddBackward0>)\n",
      "\n",
      "Loss: 6.528227806091309\n",
      "\n",
      "\n",
      "Original:       tensor([0.501, 0.497, 0.551, 0.381, 0.989, 0.505, 0.490, 0.604, 0.263, 0.050, 0.000])\n",
      "Reconstruction: tensor([0.500, 0.500, 0.498, 0.501, 0.498, 0.500, 0.500, 0.500, 0.500, 0.050, 0.003], grad_fn=<CopyBackwards>)\n",
      "\n",
      "Latent: tensor([-2.980,  0.446, -0.571], device='cuda:0', grad_fn=<AddBackward0>)\n",
      "\n",
      "Loss: 6.525555610656738\n",
      "\n",
      "\n",
      "Original:       tensor([0.500, 0.497, 0.404, 0.687, 0.826, 0.497, 0.503, 0.442, 0.589, 0.050, 0.000])\n",
      "Reconstruction: tensor([    0.500,     0.500,     0.497,     0.500,     0.495,     0.500,     0.499,     0.500,     0.498,     0.050,     0.000],\n",
      "       grad_fn=<CopyBackwards>)\n",
      "\n",
      "Latent: tensor([ 0.425, -0.259, -0.395], device='cuda:0', grad_fn=<AddBackward0>)\n",
      "\n",
      "Loss: 6.519954681396484\n",
      "\n",
      "\n",
      "Original:       tensor([0.499, 0.503, 0.452, 0.613, 0.762, 0.497, 0.506, 0.481, 0.543, 0.050, 0.000])\n",
      "Reconstruction: tensor([    0.500,     0.500,     0.496,     0.501,     0.485,     0.500,     0.499,     0.499,     0.500,     0.052,     0.000],\n",
      "       grad_fn=<CopyBackwards>)\n",
      "\n",
      "Latent: tensor([-0.684, -0.985,  0.083], device='cuda:0', grad_fn=<AddBackward0>)\n",
      "\n",
      "Loss: 6.530797958374023\n",
      "\n",
      "\n"
     ]
    }
   ],
   "source": [
    "torch.set_printoptions(precision=3, sci_mode=False, linewidth=140, profile=None)\n",
    "import random\n",
    "for i in range(5):\n",
    "    k = random.randint(1, 400)\n",
    "    sample = test_data[k].to(device)\n",
    "    x, m, s = vae1(sample)\n",
    "    loss = loss_function(x, sample, m, s)\n",
    "    \n",
    "    x = x.to(\"cpu\")\n",
    "    sample = sample.to(\"cpu\")\n",
    "    \n",
    "    print(f\"Original:       {sample}\")\n",
    "    sample = sample.to(device)\n",
    "    print(f\"Reconstruction: {x}\\n\")\n",
    "    torch.set_printoptions(precision=3, sci_mode=False, linewidth=140, profile=\"short\")\n",
    "    print(f\"Latent: {vae1.reparameterize(list(vae1.encode(sample))[0], list(vae1.encode(sample))[1])}\")\n",
    "    print(f\"\\nLoss: {loss}\\n\\n\")\n",
    "    "
   ]
  },
  {
   "cell_type": "code",
   "execution_count": 17,
   "metadata": {},
   "outputs": [],
   "source": [
    "sample = Variable(torch.rand(1, 3))"
   ]
  },
  {
   "cell_type": "code",
   "execution_count": 20,
   "metadata": {},
   "outputs": [],
   "source": [
    "latents = []\n",
    "\n",
    "for i in range(300):\n",
    "    k = random.randint(1, 6000)\n",
    "    sample = test_data[k].to(device)\n",
    "    l = vae1.reparameterize(list(vae1.encode(sample))[0], list(vae1.encode(sample))[1])\n",
    "    latents.append([i.item() for i in l])\n",
    "    \n",
    "np.save(f\"Latents/latent{C}\", latents)\n",
    "    "
   ]
  },
  {
   "cell_type": "code",
   "execution_count": 19,
   "metadata": {},
   "outputs": [
    {
     "name": "stdout",
     "output_type": "stream",
     "text": [
      "UNBALANCED DATASET\n",
      "counts of intervals: [0, 0.1]: 8599, [0.1, 0.7]: 106, [0.7, 1]: 1295\n",
      "-- so the ratio to done and not done (deleting the middle ones) is 0.13088740650899536\n",
      "The real ration is 0.17664\n"
     ]
    }
   ],
   "source": [
    "res = [0, 0, 0]\n",
    "k = []\n",
    "for i in range(10000):\n",
    "    sample = Variable(torch.randn(1, LATENT_SIZE))\n",
    "    a = vae1.decode(sample.to(\"cuda\"))[0]\n",
    "    num = float(sum(list(a[10:])))\n",
    "    k.append(num)\n",
    "    if num < 0.5:\n",
    "        res[0] += 1\n",
    "    elif num <0.6:\n",
    "        res[1] += 1\n",
    "    else:\n",
    "        res[2] += 1\n",
    "        \n",
    "d = 0\n",
    "nd = 0\n",
    "\n",
    "for a in test_data:\n",
    "    if a[10] == 1:\n",
    "        d += 1\n",
    "    else:\n",
    "        nd += 1\n",
    "        \n",
    "        \n",
    "print(f\"UNBALANCED DATASET\")\n",
    "print(f\"counts of intervals: [0, 0.1]: {res[0]}, [0.1, 0.7]: {res[1]}, [0.7, 1]: {res[2]}\")\n",
    "print(f\"-- so the ratio to done and not done (deleting the middle ones) is {res[2]/(res[2]+res[0])}\")\n",
    "print(f\"The real ration is {d/(nd+d)}\")"
   ]
  },
  {
   "cell_type": "code",
   "execution_count": null,
   "metadata": {},
   "outputs": [],
   "source": []
  }
 ],
 "metadata": {
  "kernelspec": {
   "display_name": "Python 3",
   "language": "python",
   "name": "python3"
  },
  "language_info": {
   "codemirror_mode": {
    "name": "ipython",
    "version": 3
   },
   "file_extension": ".py",
   "mimetype": "text/x-python",
   "name": "python",
   "nbconvert_exporter": "python",
   "pygments_lexer": "ipython3",
   "version": "3.9.1"
  }
 },
 "nbformat": 4,
 "nbformat_minor": 4
}

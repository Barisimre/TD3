{
 "cells": [
  {
   "cell_type": "code",
   "execution_count": 1,
   "metadata": {},
   "outputs": [],
   "source": [
    "import torch\n",
    "from torch import nn, optim\n",
    "from torch.nn import functional as F\n",
    "import numpy as np"
   ]
  },
  {
   "cell_type": "code",
   "execution_count": 2,
   "metadata": {},
   "outputs": [],
   "source": [
    "BATCH_SIZE = 128\n",
    "EPOCHS = 50\n",
    "LAYER_SIZE = 30\n",
    "S_LAYER_SIZE = 15\n",
    "LATENT_SIZE = 4"
   ]
  },
  {
   "cell_type": "code",
   "execution_count": 3,
   "metadata": {},
   "outputs": [
    {
     "name": "stdout",
     "output_type": "stream",
     "text": [
      "torch.Size([50000, 11])\n"
     ]
    },
    {
     "data": {
      "text/plain": [
       "11"
      ]
     },
     "execution_count": 3,
     "metadata": {},
     "output_type": "execute_result"
    }
   ],
   "source": [
    "# Load the data from the file\n",
    "\n",
    "saved = np.load(\"testing1.npy\", allow_pickle=True)\n",
    "\n",
    "# Make a trainging and testing batch\n",
    "train_data = torch.Tensor(saved[:int(len(saved)*0.5)])\n",
    "test_data = torch.Tensor(saved[int(len(saved)*0.5):])\n",
    "print(train_data.shape)\n",
    "INPUT_SIZE = len(test_data[0])\n",
    "INPUT_SIZE"
   ]
  },
  {
   "cell_type": "code",
   "execution_count": 4,
   "metadata": {},
   "outputs": [],
   "source": [
    "device = \"cuda\""
   ]
  },
  {
   "cell_type": "code",
   "execution_count": 5,
   "metadata": {},
   "outputs": [],
   "source": [
    "class VAE(nn.Module):\n",
    "    def __init__(self):\n",
    "        super(VAE, self).__init__()\n",
    "        \n",
    "        # Encoder\n",
    "        self.l1 = nn.Linear(INPUT_SIZE, LAYER_SIZE)\n",
    "        self.ltest1 = nn.Linear(LAYER_SIZE, S_LAYER_SIZE)\n",
    "        self.l2a = nn.Linear(S_LAYER_SIZE, LATENT_SIZE)\n",
    "        self.l2b = nn.Linear(S_LAYER_SIZE, LATENT_SIZE)\n",
    "        \n",
    "        # Decoder\n",
    "        self.l3 = nn.Linear(LATENT_SIZE, S_LAYER_SIZE)\n",
    "        self.ltest2 = nn.Linear(S_LAYER_SIZE, LAYER_SIZE)\n",
    "        self.l4 = nn.Linear(LAYER_SIZE, INPUT_SIZE)\n",
    "            \n",
    "    # Run some data through the encoder\n",
    "    def encode(self, x):\n",
    "        out = F.relu(self.l1(x))\n",
    "        out = F.relu(self.ltest1(out))\n",
    "        # return the mu and the sigma\n",
    "        return self.l2a(out), self.l2b(out)\n",
    "    \n",
    "    # The reparameterization trick, taken from https://github.com/pytorch/examples/blob/master/vae/main.py\n",
    "    def reparameterize(self, mu, sigma):\n",
    "        std = torch.exp(0.5*sigma)\n",
    "        eps = torch.randn_like(std)\n",
    "        return mu + eps*std\n",
    "    \n",
    "    def decode(self, x):\n",
    "        out = F.relu(self.l3(x))\n",
    "        out = F.relu(self.ltest2(out))\n",
    "        return torch.sigmoid(self.l4(out)) # sigmoid vs tanh\n",
    "    \n",
    "    def forward(self, x):\n",
    "        # TODO: check the shape of x to be sure we have the right input\n",
    "        mu, sigma = self.encode(x)\n",
    "        z = self.reparameterize(mu, sigma)\n",
    "        # The loss function needs the mu and the sigma so just return them here\n",
    "        return self.decode(z), mu, sigma"
   ]
  },
  {
   "cell_type": "code",
   "execution_count": 6,
   "metadata": {},
   "outputs": [],
   "source": [
    "# Reconstruction + KL divergence losses summed over all elements and batch\n",
    "# Taken from https://github.com/pytorch/examples/blob/master/vae/main.py\n",
    "def loss_function(recon_x, x, mu, sigma):\n",
    "    BCE = F.binary_cross_entropy(recon_x, x, reduction='sum')\n",
    "    KLD = -0.5 * torch.sum(1 + sigma - mu.pow(2) - sigma.exp())\n",
    "    return BCE + KLD"
   ]
  },
  {
   "cell_type": "code",
   "execution_count": 7,
   "metadata": {},
   "outputs": [],
   "source": [
    "def train(e_count, model, optimizer, name, data):\n",
    "    model.train()\n",
    "    train_loss = 0\n",
    "    for i in range(0, len(data), BATCH_SIZE):\n",
    "        batch = data[i:i+BATCH_SIZE].to(device)\n",
    "        model.zero_grad()\n",
    "        recons, mu, sigma = model(batch)\n",
    "        loss = loss_function(recons, batch, mu, sigma)\n",
    "        loss.backward()\n",
    "        train_loss += loss.item()\n",
    "        optimizer.step()\n",
    "        \n",
    "    print(f\"Model: {name}, -- Epoch: {e_count}, Loss: {train_loss/len(data)}\")        \n",
    "        \n",
    "    \n",
    "    "
   ]
  },
  {
   "cell_type": "code",
   "execution_count": 8,
   "metadata": {},
   "outputs": [],
   "source": [
    "# Lets use CPU\n",
    "def test(e_count, model, optimizer):\n",
    "    model.eval()\n",
    "    test_loss = 0\n",
    "    for i in range(0, len(test_data), BATCH_SIZE):\n",
    "        batch = test_data[i:i+BATCH_SIZE].to(device)\n",
    "        recons, mu, sigma = model(batch)\n",
    "        loss = loss_function(recons, batch, mu, sigma)\n",
    "        test_loss += loss.item()\n",
    "    print(f\"TEST Epoch: {e_count}, Loss: {test_loss/len(test_data)}\") \n",
    "        \n",
    "        "
   ]
  },
  {
   "cell_type": "code",
   "execution_count": 9,
   "metadata": {},
   "outputs": [],
   "source": [
    "def get_data(data, balanced, size):\n",
    "    res = []\n",
    "    for d in data:\n",
    "        if d[10] == int(balanced):\n",
    "            res.append(d)\n",
    "        if len(res) == size:\n",
    "            break\n",
    "    return torch.Tensor(res)"
   ]
  },
  {
   "cell_type": "code",
   "execution_count": 10,
   "metadata": {},
   "outputs": [],
   "source": [
    "train_data=train_data[torch.randperm(train_data.size()[0])]\n",
    "\n",
    "\n",
    "balanced = torch.cat((get_data(saved[:int(len(saved)*0.5)], True, 5000), get_data(saved[:int(len(saved)*0.5)], False, 5000)), 0)"
   ]
  },
  {
   "cell_type": "code",
   "execution_count": 11,
   "metadata": {},
   "outputs": [
    {
     "data": {
      "text/plain": [
       "10000"
      ]
     },
     "execution_count": 11,
     "metadata": {},
     "output_type": "execute_result"
    }
   ],
   "source": [
    "len(balanced)"
   ]
  },
  {
   "cell_type": "code",
   "execution_count": 12,
   "metadata": {},
   "outputs": [
    {
     "data": {
      "text/plain": [
       "tensor([[0.4990, 0.5010, 0.4736,  ..., 0.2947, 0.0500, 1.0000],\n",
       "        [0.4998, 0.5004, 0.4997,  ..., 0.3511, 0.0500, 1.0000],\n",
       "        [0.5001, 0.5001, 0.5002,  ..., 0.2813, 0.0500, 1.0000],\n",
       "        ...,\n",
       "        [0.5001, 0.4999, 0.4997,  ..., 0.3256, 0.0500, 0.0000],\n",
       "        [0.5004, 0.4996, 0.4996,  ..., 0.3997, 0.0500, 0.0000],\n",
       "        [0.5004, 0.4996, 0.4996,  ..., 0.3297, 0.0500, 0.0000]])"
      ]
     },
     "execution_count": 12,
     "metadata": {},
     "output_type": "execute_result"
    }
   ],
   "source": [
    "balanced"
   ]
  },
  {
   "cell_type": "code",
   "execution_count": 13,
   "metadata": {},
   "outputs": [],
   "source": [
    "balanced=balanced[torch.randperm(balanced.size()[0])]\n",
    "# SHUFFLE"
   ]
  },
  {
   "cell_type": "code",
   "execution_count": 14,
   "metadata": {},
   "outputs": [
    {
     "data": {
      "text/plain": [
       "tensor([[0.5003, 0.4999, 0.4998,  ..., 0.3285, 0.0500, 1.0000],\n",
       "        [0.4996, 0.5002, 0.5004,  ..., 0.5566, 0.0500, 0.0000],\n",
       "        [0.5004, 0.4996, 0.5003,  ..., 0.7581, 0.0500, 1.0000],\n",
       "        ...,\n",
       "        [0.4999, 0.5003, 0.5004,  ..., 0.4803, 0.0500, 1.0000],\n",
       "        [0.5002, 0.5003, 0.4997,  ..., 0.6488, 0.0500, 1.0000],\n",
       "        [0.4996, 0.5004, 0.4998,  ..., 0.3857, 0.0500, 1.0000]])"
      ]
     },
     "execution_count": 14,
     "metadata": {},
     "output_type": "execute_result"
    }
   ],
   "source": [
    "balanced"
   ]
  },
  {
   "cell_type": "code",
   "execution_count": 15,
   "metadata": {},
   "outputs": [],
   "source": [
    "# TWO DATA SETS, TWO MODELS\n",
    "train_data = train_data[:len(balanced)]\n",
    "\n",
    "vae1 = VAE().to(device)\n",
    "opt1 = optim.Adam(vae1.parameters(), lr=0.001)\n",
    "\n",
    "vae2 = VAE().to(device)\n",
    "opt2 = optim.Adam(vae2.parameters(), lr=0.001)"
   ]
  },
  {
   "cell_type": "code",
   "execution_count": 16,
   "metadata": {},
   "outputs": [
    {
     "name": "stdout",
     "output_type": "stream",
     "text": [
      "Model: UNBALANCED, -- Epoch: 0, Loss: 7.352310172271729\n",
      "Model: UNBALANCED, -- Epoch: 1, Loss: 6.965100649261474\n",
      "Model: UNBALANCED, -- Epoch: 2, Loss: 6.913480811309815\n",
      "Model: UNBALANCED, -- Epoch: 3, Loss: 6.908803099822998\n",
      "Model: UNBALANCED, -- Epoch: 4, Loss: 6.907642743682861\n",
      "Model: UNBALANCED, -- Epoch: 5, Loss: 6.907385063934326\n",
      "Model: UNBALANCED, -- Epoch: 6, Loss: 6.906303978729248\n",
      "Model: UNBALANCED, -- Epoch: 7, Loss: 6.9038803688049315\n",
      "Model: UNBALANCED, -- Epoch: 8, Loss: 6.905945542907715\n",
      "Model: UNBALANCED, -- Epoch: 9, Loss: 6.903897920227051\n",
      "Model: UNBALANCED, -- Epoch: 10, Loss: 6.904113362884521\n",
      "Model: UNBALANCED, -- Epoch: 11, Loss: 6.903572537994385\n",
      "Model: UNBALANCED, -- Epoch: 12, Loss: 6.902415406036377\n",
      "Model: UNBALANCED, -- Epoch: 13, Loss: 6.905242055511475\n",
      "Model: UNBALANCED, -- Epoch: 14, Loss: 6.903033055114746\n",
      "Model: UNBALANCED, -- Epoch: 15, Loss: 6.901678163909912\n",
      "Model: UNBALANCED, -- Epoch: 16, Loss: 6.902179975891113\n",
      "Model: UNBALANCED, -- Epoch: 17, Loss: 6.90313540725708\n",
      "Model: UNBALANCED, -- Epoch: 18, Loss: 6.902305689239502\n",
      "Model: UNBALANCED, -- Epoch: 19, Loss: 6.903133451843262\n",
      "Model: UNBALANCED, -- Epoch: 20, Loss: 6.902686466217041\n",
      "Model: UNBALANCED, -- Epoch: 21, Loss: 6.902537525939941\n",
      "Model: UNBALANCED, -- Epoch: 22, Loss: 6.901059043121338\n",
      "Model: UNBALANCED, -- Epoch: 23, Loss: 6.902439659118652\n",
      "Model: UNBALANCED, -- Epoch: 24, Loss: 6.902319256591797\n",
      "Model: UNBALANCED, -- Epoch: 25, Loss: 6.902334900665283\n",
      "Model: UNBALANCED, -- Epoch: 26, Loss: 6.90155022354126\n",
      "Model: UNBALANCED, -- Epoch: 27, Loss: 6.90108529586792\n",
      "Model: UNBALANCED, -- Epoch: 28, Loss: 6.9011420707702635\n",
      "Model: UNBALANCED, -- Epoch: 29, Loss: 6.901003652954102\n",
      "Model: UNBALANCED, -- Epoch: 30, Loss: 6.902331275939941\n",
      "Model: UNBALANCED, -- Epoch: 31, Loss: 6.902081000518799\n",
      "Model: UNBALANCED, -- Epoch: 32, Loss: 6.901567808532715\n",
      "Model: UNBALANCED, -- Epoch: 33, Loss: 6.902016423797607\n",
      "Model: UNBALANCED, -- Epoch: 34, Loss: 6.902204558563232\n",
      "Model: UNBALANCED, -- Epoch: 35, Loss: 6.901118521881103\n",
      "Model: UNBALANCED, -- Epoch: 36, Loss: 6.901908491516113\n",
      "Model: UNBALANCED, -- Epoch: 37, Loss: 6.902211849212646\n",
      "Model: UNBALANCED, -- Epoch: 38, Loss: 6.902943647766113\n",
      "Model: UNBALANCED, -- Epoch: 39, Loss: 6.90096407699585\n",
      "Model: UNBALANCED, -- Epoch: 40, Loss: 6.902263023376465\n",
      "Model: UNBALANCED, -- Epoch: 41, Loss: 6.902327052307129\n",
      "Model: UNBALANCED, -- Epoch: 42, Loss: 6.902520169830322\n",
      "Model: UNBALANCED, -- Epoch: 43, Loss: 6.903130174255371\n",
      "Model: UNBALANCED, -- Epoch: 44, Loss: 6.900848609161377\n",
      "Model: UNBALANCED, -- Epoch: 45, Loss: 6.9020842262268065\n",
      "Model: UNBALANCED, -- Epoch: 46, Loss: 6.902359532165527\n",
      "Model: UNBALANCED, -- Epoch: 47, Loss: 6.901546188354493\n",
      "Model: UNBALANCED, -- Epoch: 48, Loss: 6.902500308990478\n",
      "Model: UNBALANCED, -- Epoch: 49, Loss: 6.901958680725097\n"
     ]
    }
   ],
   "source": [
    "for i in range(EPOCHS):\n",
    "    train(i, vae1,opt1, \"UNBALANCED\" ,train_data)"
   ]
  },
  {
   "cell_type": "code",
   "execution_count": 17,
   "metadata": {},
   "outputs": [
    {
     "name": "stdout",
     "output_type": "stream",
     "text": [
      "Model: BALANCED, -- Epoch: 0, Loss: 7.4548715995788575\n",
      "Model: BALANCED, -- Epoch: 1, Loss: 7.1748945426940915\n",
      "Model: BALANCED, -- Epoch: 2, Loss: 7.140568058776855\n",
      "Model: BALANCED, -- Epoch: 3, Loss: 7.1374248664855955\n",
      "Model: BALANCED, -- Epoch: 4, Loss: 7.136184799194336\n",
      "Model: BALANCED, -- Epoch: 5, Loss: 7.1337896484375\n",
      "Model: BALANCED, -- Epoch: 6, Loss: 7.133171437835693\n",
      "Model: BALANCED, -- Epoch: 7, Loss: 7.132244361114502\n",
      "Model: BALANCED, -- Epoch: 8, Loss: 7.13121549911499\n",
      "Model: BALANCED, -- Epoch: 9, Loss: 7.131345344543457\n",
      "Model: BALANCED, -- Epoch: 10, Loss: 7.131425001525879\n",
      "Model: BALANCED, -- Epoch: 11, Loss: 7.130459814453125\n",
      "Model: BALANCED, -- Epoch: 12, Loss: 7.131272277069092\n",
      "Model: BALANCED, -- Epoch: 13, Loss: 7.131438201904297\n",
      "Model: BALANCED, -- Epoch: 14, Loss: 7.130693005371094\n",
      "Model: BALANCED, -- Epoch: 15, Loss: 7.130765522003174\n",
      "Model: BALANCED, -- Epoch: 16, Loss: 7.130718148803711\n",
      "Model: BALANCED, -- Epoch: 17, Loss: 7.130677533721924\n",
      "Model: BALANCED, -- Epoch: 18, Loss: 7.130294078826904\n",
      "Model: BALANCED, -- Epoch: 19, Loss: 7.1306713142395015\n",
      "Model: BALANCED, -- Epoch: 20, Loss: 7.130894915008545\n",
      "Model: BALANCED, -- Epoch: 21, Loss: 7.130761313629151\n",
      "Model: BALANCED, -- Epoch: 22, Loss: 7.1306981895446775\n",
      "Model: BALANCED, -- Epoch: 23, Loss: 7.130702402496338\n",
      "Model: BALANCED, -- Epoch: 24, Loss: 7.130977764129638\n",
      "Model: BALANCED, -- Epoch: 25, Loss: 7.130810242462158\n",
      "Model: BALANCED, -- Epoch: 26, Loss: 7.130821863555909\n",
      "Model: BALANCED, -- Epoch: 27, Loss: 7.130618161010742\n",
      "Model: BALANCED, -- Epoch: 28, Loss: 7.130567491912842\n",
      "Model: BALANCED, -- Epoch: 29, Loss: 7.130689307403564\n",
      "Model: BALANCED, -- Epoch: 30, Loss: 7.130605889892578\n",
      "Model: BALANCED, -- Epoch: 31, Loss: 7.130417683410645\n",
      "Model: BALANCED, -- Epoch: 32, Loss: 7.130619384765625\n",
      "Model: BALANCED, -- Epoch: 33, Loss: 7.130306628417968\n",
      "Model: BALANCED, -- Epoch: 34, Loss: 7.130284212493897\n",
      "Model: BALANCED, -- Epoch: 35, Loss: 7.1305052757263185\n",
      "Model: BALANCED, -- Epoch: 36, Loss: 7.1306154243469235\n",
      "Model: BALANCED, -- Epoch: 37, Loss: 7.13018656539917\n",
      "Model: BALANCED, -- Epoch: 38, Loss: 7.130604822540283\n",
      "Model: BALANCED, -- Epoch: 39, Loss: 7.130542916870117\n",
      "Model: BALANCED, -- Epoch: 40, Loss: 7.130415696716309\n",
      "Model: BALANCED, -- Epoch: 41, Loss: 7.130047090911865\n",
      "Model: BALANCED, -- Epoch: 42, Loss: 7.130158548736572\n",
      "Model: BALANCED, -- Epoch: 43, Loss: 7.129924070739746\n",
      "Model: BALANCED, -- Epoch: 44, Loss: 7.130196916198731\n",
      "Model: BALANCED, -- Epoch: 45, Loss: 7.130795628356934\n",
      "Model: BALANCED, -- Epoch: 46, Loss: 7.130484714508056\n",
      "Model: BALANCED, -- Epoch: 47, Loss: 7.130195138549805\n",
      "Model: BALANCED, -- Epoch: 48, Loss: 7.13028589477539\n",
      "Model: BALANCED, -- Epoch: 49, Loss: 7.130267107391357\n"
     ]
    }
   ],
   "source": [
    "for i in range(EPOCHS):\n",
    "    train(i, vae2,opt2, \"BALANCED\" ,balanced)"
   ]
  },
  {
   "cell_type": "code",
   "execution_count": 18,
   "metadata": {},
   "outputs": [],
   "source": [
    "# Shuffle test data\n",
    "test_data=test_data[torch.randperm(test_data.size()[0])]\n",
    "\n",
    "ex_done = None\n",
    "ex_notdone = None\n",
    "for a in test_data:\n",
    "    if a[10] == 1:\n",
    "        ex_done = a\n",
    "        break\n",
    "\n",
    "for a in test_data:\n",
    "    if a[10] == 0:\n",
    "        ex_notdone = a\n",
    "        break"
   ]
  },
  {
   "cell_type": "code",
   "execution_count": 19,
   "metadata": {},
   "outputs": [
    {
     "data": {
      "text/plain": [
       "tensor(1.)"
      ]
     },
     "execution_count": 19,
     "metadata": {},
     "output_type": "execute_result"
    }
   ],
   "source": [
    "ex_done[10]"
   ]
  },
  {
   "cell_type": "code",
   "execution_count": 20,
   "metadata": {},
   "outputs": [
    {
     "data": {
      "text/plain": [
       "tensor(0.1642, device='cuda:0', grad_fn=<SelectBackward>)"
      ]
     },
     "execution_count": 20,
     "metadata": {},
     "output_type": "execute_result"
    }
   ],
   "source": [
    "list(vae1(ex_done.to(\"cuda\")))[0][10]"
   ]
  },
  {
   "cell_type": "code",
   "execution_count": 21,
   "metadata": {},
   "outputs": [
    {
     "data": {
      "text/plain": [
       "tensor(0.4858, device='cuda:0', grad_fn=<SelectBackward>)"
      ]
     },
     "execution_count": 21,
     "metadata": {},
     "output_type": "execute_result"
    }
   ],
   "source": [
    "list(vae2(ex_done.to(\"cuda\")))[0][10]"
   ]
  },
  {
   "cell_type": "code",
   "execution_count": 22,
   "metadata": {},
   "outputs": [
    {
     "data": {
      "text/plain": [
       "tensor(0.)"
      ]
     },
     "execution_count": 22,
     "metadata": {},
     "output_type": "execute_result"
    }
   ],
   "source": [
    "ex_notdone[10]"
   ]
  },
  {
   "cell_type": "code",
   "execution_count": 23,
   "metadata": {},
   "outputs": [
    {
     "data": {
      "text/plain": [
       "tensor(0.1999, device='cuda:0', grad_fn=<SelectBackward>)"
      ]
     },
     "execution_count": 23,
     "metadata": {},
     "output_type": "execute_result"
    }
   ],
   "source": [
    "list(vae1(ex_notdone.to(\"cuda\")))[0][10]"
   ]
  },
  {
   "cell_type": "code",
   "execution_count": 24,
   "metadata": {},
   "outputs": [
    {
     "data": {
      "text/plain": [
       "tensor(0.4780, device='cuda:0', grad_fn=<SelectBackward>)"
      ]
     },
     "execution_count": 24,
     "metadata": {},
     "output_type": "execute_result"
    }
   ],
   "source": [
    "list(vae2(ex_notdone.to(\"cuda\")))[0][10]"
   ]
  },
  {
   "cell_type": "code",
   "execution_count": 25,
   "metadata": {},
   "outputs": [
    {
     "name": "stdout",
     "output_type": "stream",
     "text": [
      "50.0\n"
     ]
    }
   ],
   "source": [
    "count = 0\n",
    "for d in balanced:\n",
    "    if d[10] == 1:\n",
    "        count += 1\n",
    "print((count/len(train_data))*100)"
   ]
  },
  {
   "cell_type": "code",
   "execution_count": 26,
   "metadata": {},
   "outputs": [
    {
     "name": "stdout",
     "output_type": "stream",
     "text": [
      "17.560000000000002\n"
     ]
    }
   ],
   "source": [
    "count = 0\n",
    "for d in train_data:\n",
    "    if d[10] == 1:\n",
    "        count += 1\n",
    "print((count/len(train_data))*100)"
   ]
  },
  {
   "cell_type": "code",
   "execution_count": 27,
   "metadata": {},
   "outputs": [
    {
     "data": {
      "text/plain": [
       "tensor(0.4845, device='cuda:0', grad_fn=<SelectBackward>)"
      ]
     },
     "execution_count": 27,
     "metadata": {},
     "output_type": "execute_result"
    }
   ],
   "source": [
    "list(vae2(ex_done.to(\"cuda\")))[0][10]"
   ]
  },
  {
   "cell_type": "code",
   "execution_count": 28,
   "metadata": {},
   "outputs": [
    {
     "data": {
      "text/plain": [
       "tensor(0.5124, device='cuda:0', grad_fn=<SelectBackward>)"
      ]
     },
     "execution_count": 28,
     "metadata": {},
     "output_type": "execute_result"
    }
   ],
   "source": [
    "list(vae2(ex_notdone.to(\"cuda\")))[0][10]"
   ]
  },
  {
   "cell_type": "code",
   "execution_count": 29,
   "metadata": {},
   "outputs": [],
   "source": [
    "from torch.autograd import Variable"
   ]
  },
  {
   "cell_type": "code",
   "execution_count": 30,
   "metadata": {},
   "outputs": [],
   "source": [
    "sample = Variable(torch.randn(2, LATENT_SIZE))"
   ]
  },
  {
   "cell_type": "code",
   "execution_count": 31,
   "metadata": {},
   "outputs": [],
   "source": [
    "res = vae2.decode(sample.to(\"cuda\"))"
   ]
  },
  {
   "cell_type": "code",
   "execution_count": 32,
   "metadata": {},
   "outputs": [
    {
     "data": {
      "text/plain": [
       "tensor([[0.5001, 0.5005, 0.4992, 0.5001, 0.4954, 0.5004, 0.5019, 0.4914, 0.5121,\n",
       "         0.0463, 0.5618],\n",
       "        [0.5010, 0.5006, 0.5006, 0.5001, 0.5000, 0.5007, 0.5015, 0.4947, 0.5067,\n",
       "         0.0523, 0.4876]], device='cuda:0', grad_fn=<SigmoidBackward>)"
      ]
     },
     "execution_count": 32,
     "metadata": {},
     "output_type": "execute_result"
    }
   ],
   "source": [
    "res"
   ]
  },
  {
   "cell_type": "code",
   "execution_count": 39,
   "metadata": {},
   "outputs": [
    {
     "name": "stdout",
     "output_type": "stream",
     "text": [
      "UNBALANCED DATASET\n",
      "counts of intervals: [0, 0.1]: 8438, [0.1, 0.7]: 1562, [0.7, 1]: 0\n",
      "-- so the ratio to done and not done (deleting the middle ones) is 0.0\n",
      "The real ration is 0.1768\n"
     ]
    }
   ],
   "source": [
    "res = [0, 0, 0]\n",
    "k = []\n",
    "for i in range(10000):\n",
    "    sample = Variable(torch.randn(1, LATENT_SIZE))\n",
    "    a = vae1.decode(sample.to(\"cuda\"))[0]\n",
    "    num = float(sum(list(a[10:])))\n",
    "    k.append(num)\n",
    "    if num < 0.2:\n",
    "        res[0] += 1\n",
    "    elif num <0.5:\n",
    "        res[1] += 1\n",
    "    else:\n",
    "        res[2] += 1\n",
    "        \n",
    "d = 0\n",
    "nd = 0\n",
    "\n",
    "for a in test_data:\n",
    "    if a[10] == 1:\n",
    "        d += 1\n",
    "    else:\n",
    "        nd += 1\n",
    "        \n",
    "        \n",
    "print(f\"UNBALANCED DATASET\")\n",
    "print(f\"counts of intervals: [0, 0.1]: {res[0]}, [0.1, 0.7]: {res[1]}, [0.7, 1]: {res[2]}\")\n",
    "print(f\"-- so the ratio to done and not done (deleting the middle ones) is {res[2]/(res[2]+res[0])}\")\n",
    "print(f\"The real ration is {d/(nd+d)}\")"
   ]
  },
  {
   "cell_type": "code",
   "execution_count": null,
   "metadata": {},
   "outputs": [],
   "source": []
  },
  {
   "cell_type": "code",
   "execution_count": 34,
   "metadata": {},
   "outputs": [],
   "source": [
    "import gym\n",
    "env = gym.make(\"InvertedPendulum-v2\")\n",
    "env.reset()\n",
    "state_dim = env.observation_space.shape[0]\n",
    "action_dim = env.action_space.shape[0] \n",
    "action_low = env.action_space.low[0]\n",
    "action_high = env.action_space.high[0]\n",
    "state_low = -10.0\n",
    "state_high = 10.0"
   ]
  },
  {
   "cell_type": "code",
   "execution_count": 35,
   "metadata": {},
   "outputs": [],
   "source": [
    "def descale(x):\n",
    "    # State\n",
    "    ((x[:, 0].mul_(state_high-state_low)).add_(state_low)).to(device)\n",
    "    ((x[:, 1].mul_(state_high-state_low)).add_(state_low)).to(device)\n",
    "    ((x[:, 2].mul_(state_high-state_low)).add_(state_low)).to(device)\n",
    "    ((x[:, 3].mul_(state_high-state_low)).add_(state_low)).to(device)\n",
    "\n",
    "    # Action\n",
    "    ((x[:, 4].mul_(action_high-action_low)).add_(action_low)).to(device)\n",
    "    \n",
    "    # State\n",
    "    ((x[:, 5].mul_(state_high-state_low)).add_(state_low)).to(device)\n",
    "    ((x[:, 6].mul_(state_high-state_low)).add_(state_low)).to(device)\n",
    "    ((x[:, 7].mul_(state_high-state_low)).add_(state_low)).to(device)\n",
    "    ((x[:, 8].mul_(state_high-state_low)).add_(state_low)).to(device)\n",
    "    \n",
    "    # Reward\n",
    "    (x[:, 9].mul_(20.0)).to(device)\n",
    "    \n",
    "    # Done\n",
    "    (x[:, 10].round_()).to(device)\n",
    "    \n",
    "    return x"
   ]
  },
  {
   "cell_type": "code",
   "execution_count": 36,
   "metadata": {},
   "outputs": [
    {
     "data": {
      "text/plain": [
       "tensor(0.1688, device='cuda:0', grad_fn=<SelectBackward>)"
      ]
     },
     "execution_count": 36,
     "metadata": {},
     "output_type": "execute_result"
    }
   ],
   "source": [
    "sample = Variable(torch.randn(2, LATENT_SIZE)).cuda()\n",
    "x = vae1.decode(sample)\n",
    "x[0][10]"
   ]
  },
  {
   "cell_type": "code",
   "execution_count": 37,
   "metadata": {},
   "outputs": [],
   "source": [
    "x = descale(x)"
   ]
  },
  {
   "cell_type": "code",
   "execution_count": 38,
   "metadata": {},
   "outputs": [
    {
     "data": {
      "text/plain": [
       "tensor(0., device='cuda:0', grad_fn=<SelectBackward>)"
      ]
     },
     "execution_count": 38,
     "metadata": {},
     "output_type": "execute_result"
    }
   ],
   "source": [
    "x[0][10]"
   ]
  },
  {
   "cell_type": "code",
   "execution_count": null,
   "metadata": {},
   "outputs": [],
   "source": []
  },
  {
   "cell_type": "code",
   "execution_count": null,
   "metadata": {},
   "outputs": [],
   "source": []
  }
 ],
 "metadata": {
  "kernelspec": {
   "display_name": "Python 3",
   "language": "python",
   "name": "python3"
  },
  "language_info": {
   "codemirror_mode": {
    "name": "ipython",
    "version": 3
   },
   "file_extension": ".py",
   "mimetype": "text/x-python",
   "name": "python",
   "nbconvert_exporter": "python",
   "pygments_lexer": "ipython3",
   "version": "3.8.6"
  }
 },
 "nbformat": 4,
 "nbformat_minor": 4
}

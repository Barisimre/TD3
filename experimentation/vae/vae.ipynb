{
 "cells": [
  {
   "cell_type": "code",
   "execution_count": 1,
   "metadata": {},
   "outputs": [],
   "source": [
    "import torch\n",
    "from torch import nn, optim\n",
    "from torch.nn import functional as F\n",
    "import numpy as np"
   ]
  },
  {
   "cell_type": "code",
   "execution_count": 2,
   "metadata": {},
   "outputs": [],
   "source": [
    "BATCH_SIZE = 128\n",
    "EPOCHS = 50\n",
    "LAYER_SIZE = 30\n",
    "S_LAYER_SIZE = 15\n",
    "LATENT_SIZE = 4"
   ]
  },
  {
   "cell_type": "code",
   "execution_count": 3,
   "metadata": {},
   "outputs": [
    {
     "name": "stdout",
     "output_type": "stream",
     "text": [
      "torch.Size([50000, 12])\n"
     ]
    },
    {
     "data": {
      "text/plain": [
       "12"
      ]
     },
     "execution_count": 3,
     "metadata": {},
     "output_type": "execute_result"
    }
   ],
   "source": [
    "# Load the data from the file\n",
    "\n",
    "saved = np.load(\"testing2.npy\", allow_pickle=True)\n",
    "\n",
    "# Make a trainging and testing batch\n",
    "train_data = torch.Tensor(saved[:int(len(saved)*0.5)])\n",
    "test_data = torch.Tensor(saved[int(len(saved)*0.5):])\n",
    "print(train_data.shape)\n",
    "INPUT_SIZE = len(test_data[0])\n",
    "INPUT_SIZE"
   ]
  },
  {
   "cell_type": "code",
   "execution_count": 4,
   "metadata": {},
   "outputs": [],
   "source": [
    "device = \"cuda\""
   ]
  },
  {
   "cell_type": "code",
   "execution_count": 5,
   "metadata": {},
   "outputs": [],
   "source": [
    "class VAE(nn.Module):\n",
    "    def __init__(self):\n",
    "        super(VAE, self).__init__()\n",
    "        \n",
    "        # Encoder\n",
    "        self.l1 = nn.Linear(INPUT_SIZE, LAYER_SIZE)\n",
    "        self.ltest1 = nn.Linear(LAYER_SIZE, S_LAYER_SIZE)\n",
    "        self.l2a = nn.Linear(S_LAYER_SIZE, LATENT_SIZE)\n",
    "        self.l2b = nn.Linear(S_LAYER_SIZE, LATENT_SIZE)\n",
    "        \n",
    "        # Decoder\n",
    "        self.l3 = nn.Linear(LATENT_SIZE, S_LAYER_SIZE)\n",
    "        self.ltest2 = nn.Linear(S_LAYER_SIZE, LAYER_SIZE)\n",
    "        self.l4 = nn.Linear(LAYER_SIZE, INPUT_SIZE)\n",
    "            \n",
    "    # Run some data through the encoder\n",
    "    def encode(self, x):\n",
    "        out = F.relu(self.l1(x))\n",
    "        out = F.relu(self.ltest1(out))\n",
    "        # return the mu and the sigma\n",
    "        return self.l2a(out), self.l2b(out)\n",
    "    \n",
    "    # The reparameterization trick, taken from https://github.com/pytorch/examples/blob/master/vae/main.py\n",
    "    def reparameterize(self, mu, sigma):\n",
    "        std = torch.exp(0.5*sigma)\n",
    "        eps = torch.randn_like(std)\n",
    "        return mu + eps*std\n",
    "    \n",
    "    def decode(self, x):\n",
    "        out = F.relu(self.l3(x))\n",
    "        out = F.relu(self.ltest2(out))\n",
    "        return torch.sigmoid(self.l4(out)) # sigmoid vs tanh\n",
    "    \n",
    "    def forward(self, x):\n",
    "        # TODO: check the shape of x to be sure we have the right input\n",
    "        mu, sigma = self.encode(x)\n",
    "        z = self.reparameterize(mu, sigma)\n",
    "        # The loss function needs the mu and the sigma so just return them here\n",
    "        return self.decode(z), mu, sigma"
   ]
  },
  {
   "cell_type": "code",
   "execution_count": 6,
   "metadata": {},
   "outputs": [],
   "source": [
    "# Reconstruction + KL divergence losses summed over all elements and batch\n",
    "# Taken from https://github.com/pytorch/examples/blob/master/vae/main.py\n",
    "def loss_function(recon_x, x, mu, sigma):\n",
    "    BCE = F.binary_cross_entropy(recon_x, x, reduction='sum')\n",
    "    KLD = -0.5 * torch.sum(1 + sigma - mu.pow(2) - sigma.exp())\n",
    "    return BCE + KLD"
   ]
  },
  {
   "cell_type": "code",
   "execution_count": 7,
   "metadata": {},
   "outputs": [],
   "source": [
    "def train(e_count, model, optimizer, name, data):\n",
    "    model.train()\n",
    "    train_loss = 0\n",
    "    for i in range(0, len(data), BATCH_SIZE):\n",
    "        batch = data[i:i+BATCH_SIZE].to(device)\n",
    "        model.zero_grad()\n",
    "        recons, mu, sigma = model(batch)\n",
    "        loss = loss_function(recons, batch, mu, sigma)\n",
    "        loss.backward()\n",
    "        train_loss += loss.item()\n",
    "        optimizer.step()\n",
    "        \n",
    "    print(f\"Model: {name}, -- Epoch: {e_count}, Loss: {train_loss/len(data)}\")        \n",
    "        \n",
    "    \n",
    "    "
   ]
  },
  {
   "cell_type": "code",
   "execution_count": 8,
   "metadata": {},
   "outputs": [],
   "source": [
    "# Lets use CPU\n",
    "def test(e_count, model, optimizer):\n",
    "    model.eval()\n",
    "    test_loss = 0\n",
    "    for i in range(0, len(test_data), BATCH_SIZE):\n",
    "        batch = test_data[i:i+BATCH_SIZE].to(device)\n",
    "        recons, mu, sigma = model(batch)\n",
    "        loss = loss_function(recons, batch, mu, sigma)\n",
    "        test_loss += loss.item()\n",
    "    print(f\"TEST Epoch: {e_count}, Loss: {test_loss/len(test_data)}\") \n",
    "        \n",
    "        "
   ]
  },
  {
   "cell_type": "code",
   "execution_count": 9,
   "metadata": {},
   "outputs": [],
   "source": [
    "def get_data(data, balanced, size):\n",
    "    res = []\n",
    "    for d in data:\n",
    "        if d[10] == int(balanced):\n",
    "            res.append(d)\n",
    "        if len(res) == size:\n",
    "            break\n",
    "    return torch.Tensor(res)"
   ]
  },
  {
   "cell_type": "code",
   "execution_count": 10,
   "metadata": {},
   "outputs": [],
   "source": [
    "train_data=train_data[torch.randperm(train_data.size()[0])]\n",
    "\n",
    "\n",
    "balanced = torch.cat((get_data(saved[:int(len(saved)*0.5)], True, 5000), get_data(saved[:int(len(saved)*0.5)], False, 5000)), 0)"
   ]
  },
  {
   "cell_type": "code",
   "execution_count": 11,
   "metadata": {},
   "outputs": [
    {
     "data": {
      "text/plain": [
       "10000"
      ]
     },
     "execution_count": 11,
     "metadata": {},
     "output_type": "execute_result"
    }
   ],
   "source": [
    "len(balanced)"
   ]
  },
  {
   "cell_type": "code",
   "execution_count": 12,
   "metadata": {},
   "outputs": [
    {
     "data": {
      "text/plain": [
       "tensor([[0.5003, 0.4994, 0.5108,  ..., 0.0500, 1.0000, 1.0000],\n",
       "        [0.4998, 0.4998, 0.5004,  ..., 0.0500, 1.0000, 1.0000],\n",
       "        [0.5003, 0.5005, 0.5002,  ..., 0.0500, 1.0000, 1.0000],\n",
       "        ...,\n",
       "        [0.5003, 0.5001, 0.5003,  ..., 0.0500, 0.0000, 0.0000],\n",
       "        [0.4997, 0.5004, 0.5003,  ..., 0.0500, 0.0000, 0.0000],\n",
       "        [0.4997, 0.5004, 0.5003,  ..., 0.0500, 0.0000, 0.0000]])"
      ]
     },
     "execution_count": 12,
     "metadata": {},
     "output_type": "execute_result"
    }
   ],
   "source": [
    "balanced"
   ]
  },
  {
   "cell_type": "code",
   "execution_count": 13,
   "metadata": {},
   "outputs": [],
   "source": [
    "balanced=balanced[torch.randperm(balanced.size()[0])]\n",
    "# SHUFFLE"
   ]
  },
  {
   "cell_type": "code",
   "execution_count": 14,
   "metadata": {},
   "outputs": [
    {
     "data": {
      "text/plain": [
       "tensor([[0.4997, 0.4999, 0.4998,  ..., 0.0500, 0.0000, 0.0000],\n",
       "        [0.4997, 0.5001, 0.4999,  ..., 0.0500, 0.0000, 0.0000],\n",
       "        [0.4997, 0.4999, 0.5000,  ..., 0.0500, 1.0000, 1.0000],\n",
       "        ...,\n",
       "        [0.4995, 0.5001, 0.5002,  ..., 0.0500, 1.0000, 1.0000],\n",
       "        [0.5005, 0.4996, 0.5003,  ..., 0.0500, 0.0000, 0.0000],\n",
       "        [0.4996, 0.5003, 0.5003,  ..., 0.0500, 1.0000, 1.0000]])"
      ]
     },
     "execution_count": 14,
     "metadata": {},
     "output_type": "execute_result"
    }
   ],
   "source": [
    "balanced"
   ]
  },
  {
   "cell_type": "code",
   "execution_count": 15,
   "metadata": {},
   "outputs": [],
   "source": [
    "# TWO DATA SETS, TWO MODELS\n",
    "train_data = train_data[:len(balanced)]\n",
    "\n",
    "vae1 = VAE().to(device)\n",
    "opt1 = optim.Adam(vae1.parameters(), lr=0.001)\n",
    "\n",
    "vae2 = VAE().to(device)\n",
    "opt2 = optim.Adam(vae2.parameters(), lr=0.001)"
   ]
  },
  {
   "cell_type": "code",
   "execution_count": 16,
   "metadata": {},
   "outputs": [
    {
     "name": "stdout",
     "output_type": "stream",
     "text": [
      "Model: UNBALANCED, -- Epoch: 0, Loss: 8.139811200714112\n",
      "Model: UNBALANCED, -- Epoch: 1, Loss: 7.430460530853272\n",
      "Model: UNBALANCED, -- Epoch: 2, Loss: 7.342006398773194\n",
      "Model: UNBALANCED, -- Epoch: 3, Loss: 7.319198638153076\n",
      "Model: UNBALANCED, -- Epoch: 4, Loss: 7.277420015716553\n",
      "Model: UNBALANCED, -- Epoch: 5, Loss: 7.229843869018555\n",
      "Model: UNBALANCED, -- Epoch: 6, Loss: 7.190247055053711\n",
      "Model: UNBALANCED, -- Epoch: 7, Loss: 7.176218574523926\n",
      "Model: UNBALANCED, -- Epoch: 8, Loss: 7.166717330169678\n",
      "Model: UNBALANCED, -- Epoch: 9, Loss: 7.143388742065429\n",
      "Model: UNBALANCED, -- Epoch: 10, Loss: 7.150472478485107\n",
      "Model: UNBALANCED, -- Epoch: 11, Loss: 7.13665004196167\n",
      "Model: UNBALANCED, -- Epoch: 12, Loss: 7.1203114151000975\n",
      "Model: UNBALANCED, -- Epoch: 13, Loss: 7.125505443572998\n",
      "Model: UNBALANCED, -- Epoch: 14, Loss: 7.091716706848144\n",
      "Model: UNBALANCED, -- Epoch: 15, Loss: 7.076195491027832\n",
      "Model: UNBALANCED, -- Epoch: 16, Loss: 7.077371883392334\n",
      "Model: UNBALANCED, -- Epoch: 17, Loss: 7.065783976745606\n",
      "Model: UNBALANCED, -- Epoch: 18, Loss: 7.055227639007568\n",
      "Model: UNBALANCED, -- Epoch: 19, Loss: 7.057221807098388\n",
      "Model: UNBALANCED, -- Epoch: 20, Loss: 7.055154187011719\n",
      "Model: UNBALANCED, -- Epoch: 21, Loss: 7.055229049682617\n",
      "Model: UNBALANCED, -- Epoch: 22, Loss: 7.061956346130371\n",
      "Model: UNBALANCED, -- Epoch: 23, Loss: 7.048917558288574\n",
      "Model: UNBALANCED, -- Epoch: 24, Loss: 7.060162696838379\n",
      "Model: UNBALANCED, -- Epoch: 25, Loss: 7.054220944213867\n",
      "Model: UNBALANCED, -- Epoch: 26, Loss: 7.053876749420166\n",
      "Model: UNBALANCED, -- Epoch: 27, Loss: 7.0582875053405765\n",
      "Model: UNBALANCED, -- Epoch: 28, Loss: 7.059126728057861\n",
      "Model: UNBALANCED, -- Epoch: 29, Loss: 7.051240924072266\n",
      "Model: UNBALANCED, -- Epoch: 30, Loss: 7.05901694946289\n",
      "Model: UNBALANCED, -- Epoch: 31, Loss: 7.054272898864746\n",
      "Model: UNBALANCED, -- Epoch: 32, Loss: 7.057766394805908\n",
      "Model: UNBALANCED, -- Epoch: 33, Loss: 7.060269425964355\n",
      "Model: UNBALANCED, -- Epoch: 34, Loss: 7.059764115905762\n",
      "Model: UNBALANCED, -- Epoch: 35, Loss: 7.054013746643067\n",
      "Model: UNBALANCED, -- Epoch: 36, Loss: 7.0433255981445315\n",
      "Model: UNBALANCED, -- Epoch: 37, Loss: 7.051155139923096\n",
      "Model: UNBALANCED, -- Epoch: 38, Loss: 7.034569677734375\n",
      "Model: UNBALANCED, -- Epoch: 39, Loss: 7.047415252685547\n",
      "Model: UNBALANCED, -- Epoch: 40, Loss: 7.049282368469238\n",
      "Model: UNBALANCED, -- Epoch: 41, Loss: 7.044334927368164\n",
      "Model: UNBALANCED, -- Epoch: 42, Loss: 7.05220062789917\n",
      "Model: UNBALANCED, -- Epoch: 43, Loss: 7.037894718933106\n",
      "Model: UNBALANCED, -- Epoch: 44, Loss: 7.046765798187256\n",
      "Model: UNBALANCED, -- Epoch: 45, Loss: 7.0449014617919925\n",
      "Model: UNBALANCED, -- Epoch: 46, Loss: 7.048568016815185\n",
      "Model: UNBALANCED, -- Epoch: 47, Loss: 7.036288200378418\n",
      "Model: UNBALANCED, -- Epoch: 48, Loss: 7.043900679779052\n",
      "Model: UNBALANCED, -- Epoch: 49, Loss: 7.069504444122314\n"
     ]
    }
   ],
   "source": [
    "for i in range(EPOCHS):\n",
    "    train(i, vae1,opt1, \"UNBALANCED\" ,train_data)"
   ]
  },
  {
   "cell_type": "code",
   "execution_count": 17,
   "metadata": {},
   "outputs": [
    {
     "name": "stdout",
     "output_type": "stream",
     "text": [
      "Model: BALANCED, -- Epoch: 0, Loss: 8.181881665802003\n",
      "Model: BALANCED, -- Epoch: 1, Loss: 7.8778060455322265\n",
      "Model: BALANCED, -- Epoch: 2, Loss: 7.83056778717041\n",
      "Model: BALANCED, -- Epoch: 3, Loss: 7.826215831756592\n",
      "Model: BALANCED, -- Epoch: 4, Loss: 7.80645315322876\n",
      "Model: BALANCED, -- Epoch: 5, Loss: 7.599022688293457\n",
      "Model: BALANCED, -- Epoch: 6, Loss: 7.40401178894043\n",
      "Model: BALANCED, -- Epoch: 7, Loss: 7.367986540222168\n",
      "Model: BALANCED, -- Epoch: 8, Loss: 7.343864087677002\n",
      "Model: BALANCED, -- Epoch: 9, Loss: 7.352129936218262\n",
      "Model: BALANCED, -- Epoch: 10, Loss: 7.352031071472168\n",
      "Model: BALANCED, -- Epoch: 11, Loss: 7.362678592681885\n",
      "Model: BALANCED, -- Epoch: 12, Loss: 7.3516174438476565\n",
      "Model: BALANCED, -- Epoch: 13, Loss: 7.35466658782959\n",
      "Model: BALANCED, -- Epoch: 14, Loss: 7.3446615715026855\n",
      "Model: BALANCED, -- Epoch: 15, Loss: 7.3532524589538575\n",
      "Model: BALANCED, -- Epoch: 16, Loss: 7.3638721961975095\n",
      "Model: BALANCED, -- Epoch: 17, Loss: 7.356624504089355\n",
      "Model: BALANCED, -- Epoch: 18, Loss: 7.351744470214844\n",
      "Model: BALANCED, -- Epoch: 19, Loss: 7.363025144958496\n",
      "Model: BALANCED, -- Epoch: 20, Loss: 7.3708914978027344\n",
      "Model: BALANCED, -- Epoch: 21, Loss: 7.351998300933838\n",
      "Model: BALANCED, -- Epoch: 22, Loss: 7.359164611053467\n",
      "Model: BALANCED, -- Epoch: 23, Loss: 7.352774998474121\n",
      "Model: BALANCED, -- Epoch: 24, Loss: 7.342532830810547\n",
      "Model: BALANCED, -- Epoch: 25, Loss: 7.354951651763916\n",
      "Model: BALANCED, -- Epoch: 26, Loss: 7.354787083435059\n",
      "Model: BALANCED, -- Epoch: 27, Loss: 7.333774505615234\n",
      "Model: BALANCED, -- Epoch: 28, Loss: 7.36235901184082\n",
      "Model: BALANCED, -- Epoch: 29, Loss: 7.348636820220947\n",
      "Model: BALANCED, -- Epoch: 30, Loss: 7.341883207702637\n",
      "Model: BALANCED, -- Epoch: 31, Loss: 7.345773442840576\n",
      "Model: BALANCED, -- Epoch: 32, Loss: 7.353172779083252\n",
      "Model: BALANCED, -- Epoch: 33, Loss: 7.340017074584961\n",
      "Model: BALANCED, -- Epoch: 34, Loss: 7.328660340118408\n",
      "Model: BALANCED, -- Epoch: 35, Loss: 7.335920568847656\n",
      "Model: BALANCED, -- Epoch: 36, Loss: 7.357845706939697\n",
      "Model: BALANCED, -- Epoch: 37, Loss: 7.353289337158203\n",
      "Model: BALANCED, -- Epoch: 38, Loss: 7.350611341094971\n",
      "Model: BALANCED, -- Epoch: 39, Loss: 7.345518807983399\n",
      "Model: BALANCED, -- Epoch: 40, Loss: 7.343083924865723\n",
      "Model: BALANCED, -- Epoch: 41, Loss: 7.362325392150879\n",
      "Model: BALANCED, -- Epoch: 42, Loss: 7.3355910736083985\n",
      "Model: BALANCED, -- Epoch: 43, Loss: 7.352493246459961\n",
      "Model: BALANCED, -- Epoch: 44, Loss: 7.360740921020508\n",
      "Model: BALANCED, -- Epoch: 45, Loss: 7.348778897857666\n",
      "Model: BALANCED, -- Epoch: 46, Loss: 7.355904747009277\n",
      "Model: BALANCED, -- Epoch: 47, Loss: 7.354344595336914\n",
      "Model: BALANCED, -- Epoch: 48, Loss: 7.336479260253906\n",
      "Model: BALANCED, -- Epoch: 49, Loss: 7.346550196838379\n"
     ]
    }
   ],
   "source": [
    "for i in range(EPOCHS):\n",
    "    train(i, vae2,opt2, \"BALANCED\" ,balanced)"
   ]
  },
  {
   "cell_type": "code",
   "execution_count": 18,
   "metadata": {},
   "outputs": [],
   "source": [
    "# Shuffle test data\n",
    "test_data=test_data[torch.randperm(test_data.size()[0])]\n",
    "\n",
    "ex_done = None\n",
    "ex_notdone = None\n",
    "for a in test_data:\n",
    "    if a[10] == 1:\n",
    "        ex_done = a\n",
    "        break\n",
    "\n",
    "for a in test_data:\n",
    "    if a[10] == 0:\n",
    "        ex_notdone = a\n",
    "        break"
   ]
  },
  {
   "cell_type": "code",
   "execution_count": 19,
   "metadata": {},
   "outputs": [
    {
     "data": {
      "text/plain": [
       "tensor(1.)"
      ]
     },
     "execution_count": 19,
     "metadata": {},
     "output_type": "execute_result"
    }
   ],
   "source": [
    "ex_done[10]"
   ]
  },
  {
   "cell_type": "code",
   "execution_count": 20,
   "metadata": {},
   "outputs": [
    {
     "data": {
      "text/plain": [
       "tensor(0.9420, device='cuda:0', grad_fn=<SelectBackward>)"
      ]
     },
     "execution_count": 20,
     "metadata": {},
     "output_type": "execute_result"
    }
   ],
   "source": [
    "list(vae1(ex_done.to(\"cuda\")))[0][10]"
   ]
  },
  {
   "cell_type": "code",
   "execution_count": 21,
   "metadata": {},
   "outputs": [
    {
     "data": {
      "text/plain": [
       "tensor(0.9915, device='cuda:0', grad_fn=<SelectBackward>)"
      ]
     },
     "execution_count": 21,
     "metadata": {},
     "output_type": "execute_result"
    }
   ],
   "source": [
    "list(vae2(ex_done.to(\"cuda\")))[0][10]"
   ]
  },
  {
   "cell_type": "code",
   "execution_count": 22,
   "metadata": {},
   "outputs": [
    {
     "data": {
      "text/plain": [
       "tensor(0.)"
      ]
     },
     "execution_count": 22,
     "metadata": {},
     "output_type": "execute_result"
    }
   ],
   "source": [
    "ex_notdone[10]"
   ]
  },
  {
   "cell_type": "code",
   "execution_count": 23,
   "metadata": {},
   "outputs": [
    {
     "data": {
      "text/plain": [
       "tensor(0.4744, device='cuda:0', grad_fn=<SelectBackward>)"
      ]
     },
     "execution_count": 23,
     "metadata": {},
     "output_type": "execute_result"
    }
   ],
   "source": [
    "list(vae1(ex_notdone.to(\"cuda\")))[0][10]"
   ]
  },
  {
   "cell_type": "code",
   "execution_count": 24,
   "metadata": {},
   "outputs": [
    {
     "data": {
      "text/plain": [
       "tensor(3.7408e-05, device='cuda:0', grad_fn=<SelectBackward>)"
      ]
     },
     "execution_count": 24,
     "metadata": {},
     "output_type": "execute_result"
    }
   ],
   "source": [
    "list(vae2(ex_notdone.to(\"cuda\")))[0][10]"
   ]
  },
  {
   "cell_type": "code",
   "execution_count": 25,
   "metadata": {},
   "outputs": [
    {
     "name": "stdout",
     "output_type": "stream",
     "text": [
      "50.0\n"
     ]
    }
   ],
   "source": [
    "count = 0\n",
    "for d in balanced:\n",
    "    if d[10] == 1:\n",
    "        count += 1\n",
    "print((count/len(train_data))*100)"
   ]
  },
  {
   "cell_type": "code",
   "execution_count": 26,
   "metadata": {},
   "outputs": [
    {
     "name": "stdout",
     "output_type": "stream",
     "text": [
      "17.37\n"
     ]
    }
   ],
   "source": [
    "count = 0\n",
    "for d in train_data:\n",
    "    if d[10] == 1:\n",
    "        count += 1\n",
    "print((count/len(train_data))*100)"
   ]
  },
  {
   "cell_type": "code",
   "execution_count": 27,
   "metadata": {},
   "outputs": [
    {
     "data": {
      "text/plain": [
       "tensor(0.9949, device='cuda:0', grad_fn=<SelectBackward>)"
      ]
     },
     "execution_count": 27,
     "metadata": {},
     "output_type": "execute_result"
    }
   ],
   "source": [
    "list(vae2(ex_done.to(\"cuda\")))[0][10]"
   ]
  },
  {
   "cell_type": "code",
   "execution_count": 28,
   "metadata": {},
   "outputs": [
    {
     "data": {
      "text/plain": [
       "tensor(0.1503, device='cuda:0', grad_fn=<SelectBackward>)"
      ]
     },
     "execution_count": 28,
     "metadata": {},
     "output_type": "execute_result"
    }
   ],
   "source": [
    "list(vae2(ex_notdone.to(\"cuda\")))[0][10]"
   ]
  },
  {
   "cell_type": "code",
   "execution_count": 29,
   "metadata": {},
   "outputs": [],
   "source": [
    "from torch.autograd import Variable"
   ]
  },
  {
   "cell_type": "code",
   "execution_count": 30,
   "metadata": {},
   "outputs": [],
   "source": [
    "sample = Variable(torch.randn(1, LATENT_SIZE))"
   ]
  },
  {
   "cell_type": "code",
   "execution_count": 31,
   "metadata": {},
   "outputs": [],
   "source": [
    "res = vae2.decode(sample.to(\"cuda\"))"
   ]
  },
  {
   "cell_type": "code",
   "execution_count": 32,
   "metadata": {},
   "outputs": [
    {
     "data": {
      "text/plain": [
       "tensor([[0.5003, 0.4995, 0.5001, 0.4995, 0.5190, 0.4988, 0.5015, 0.5031, 0.4994,\n",
       "         0.0501, 0.9899, 0.9901]], device='cuda:0', grad_fn=<SigmoidBackward>)"
      ]
     },
     "execution_count": 32,
     "metadata": {},
     "output_type": "execute_result"
    }
   ],
   "source": [
    "res"
   ]
  },
  {
   "cell_type": "code",
   "execution_count": 35,
   "metadata": {},
   "outputs": [
    {
     "name": "stdout",
     "output_type": "stream",
     "text": [
      "UNBALANCED DATASET\n",
      "counts of intervals: [0, 0.1]: 7958, [0.1, 0.7]: 559, [0.7, 1]: 1483\n",
      "-- so the ratio to done and not done (deleting the middle ones) is 0.15708081770998836\n",
      "The real ration is 0.17494\n"
     ]
    }
   ],
   "source": [
    "res = [0, 0, 0]\n",
    "k = []\n",
    "for i in range(10000):\n",
    "    sample = Variable(torch.randn(1, LATENT_SIZE))\n",
    "    a = vae1.decode(sample.to(\"cuda\"))[0]\n",
    "    num = float(sum(list(a[10:])))\n",
    "    k.append(num)\n",
    "    if num < 0.2:\n",
    "        res[0] += 1\n",
    "    elif num <0.7:\n",
    "        res[1] += 1\n",
    "    else:\n",
    "        res[2] += 1\n",
    "        \n",
    "d = 0\n",
    "nd = 0\n",
    "\n",
    "for a in test_data:\n",
    "    if a[10] == 1:\n",
    "        d += 1\n",
    "    else:\n",
    "        nd += 1\n",
    "        \n",
    "        \n",
    "print(f\"UNBALANCED DATASET\")\n",
    "print(f\"counts of intervals: [0, 0.1]: {res[0]}, [0.1, 0.7]: {res[1]}, [0.7, 1]: {res[2]}\")\n",
    "print(f\"-- so the ratio to done and not done (deleting the middle ones) is {res[2]/(res[2]+res[0])}\")\n",
    "print(f\"The real ration is {d/(nd+d)}\")"
   ]
  },
  {
   "cell_type": "code",
   "execution_count": null,
   "metadata": {},
   "outputs": [],
   "source": []
  }
 ],
 "metadata": {
  "kernelspec": {
   "display_name": "Python 3",
   "language": "python",
   "name": "python3"
  },
  "language_info": {
   "codemirror_mode": {
    "name": "ipython",
    "version": 3
   },
   "file_extension": ".py",
   "mimetype": "text/x-python",
   "name": "python",
   "nbconvert_exporter": "python",
   "pygments_lexer": "ipython3",
   "version": "3.8.6"
  }
 },
 "nbformat": 4,
 "nbformat_minor": 4
}

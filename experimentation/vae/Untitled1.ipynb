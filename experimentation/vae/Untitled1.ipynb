{
 "cells": [
  {
   "cell_type": "code",
   "execution_count": 1,
   "metadata": {},
   "outputs": [],
   "source": [
    "import torch\n",
    "import numpy as np"
   ]
  },
  {
   "cell_type": "code",
   "execution_count": 2,
   "metadata": {},
   "outputs": [],
   "source": [
    "def descale(x):\n",
    "    # State\n",
    "    ((x[:, 0].mul_(state_high-state_low)).add_(state_low))\n",
    "    ((x[:, 1].mul_(state_high-state_low)).add_(state_low))\n",
    "    ((x[:, 2].mul_(state_high-state_low)).add_(state_low))\n",
    "    ((x[:, 3].mul_(state_high-state_low)).add_(state_low))\n",
    "\n",
    "    # Action\n",
    "    ((x[:, 4].mul_(action_high-action_low)).add_(action_low))\n",
    "\n",
    "    # State\n",
    "    ((x[:, 5].mul_(state_high-state_low)).add_(state_low))\n",
    "    ((x[:, 6].mul_(state_high-state_low)).add_(state_low))\n",
    "    ((x[:, 7].mul_(state_high-state_low)).add_(state_low))\n",
    "    ((x[:, 8].mul_(state_high-state_low)).add_(state_low))\n",
    "\n",
    "    # Reward\n",
    "    (x[:, 9].mul_(20.0))\n",
    "\n",
    "    # Done\n",
    "    (x[:, 10].round_())\n",
    "\n",
    "    return x"
   ]
  },
  {
   "cell_type": "code",
   "execution_count": 3,
   "metadata": {},
   "outputs": [],
   "source": [
    "state_dim = 4\n",
    "action_dim = 1\n",
    "action_low = -3.0\n",
    "action_high = 3.0\n",
    "state_low = -10\n",
    "state_high = 10\n",
    "\n",
    "\n",
    "def normalize(experience):\n",
    "    # [s0, s1, s2, s3, a, s0, s1, s2, s3, r, d]\n",
    "    return np.concatenate((\n",
    "        normalize_state(experience[:state_dim]),\n",
    "        np.array([normalize_action(experience[state_dim+1])]), # TODO: maybe turn into array, if we dont get it as such\n",
    "        normalize_state(experience[state_dim+2:state_dim+2+state_dim]),\n",
    "        normalize_reward(experience[-3]),\n",
    "        np.array([experience[-2]]),\n",
    "        np.array([experience[-1]])\n",
    "    ))\n",
    "\n",
    "\n",
    "def normalize_action(x):\n",
    "    return (x-action_low)/(action_high-action_low)\n",
    "\n",
    "def normalize_state(s):\n",
    "    res = []\n",
    "    for i in s:\n",
    "        res.append((i-state_low)/(state_high-state_low))\n",
    "    return res\n",
    "\n",
    "def normalize_reward(r):\n",
    "    return np.array([r/20.0])  "
   ]
  },
  {
   "cell_type": "code",
   "execution_count": 4,
   "metadata": {},
   "outputs": [],
   "source": [
    "x = [0.55, -4.65, 1, -10, 2, 4, 5, 3, 0, 1, 1]"
   ]
  },
  {
   "cell_type": "code",
   "execution_count": 5,
   "metadata": {},
   "outputs": [],
   "source": [
    "x = normalize(x)"
   ]
  },
  {
   "cell_type": "code",
   "execution_count": 6,
   "metadata": {},
   "outputs": [
    {
     "name": "stdout",
     "output_type": "stream",
     "text": [
      "[0.5275     0.2675     0.55       0.         1.16666667 0.75\n",
      " 0.65       0.5        0.55       0.         1.         1.        ]\n"
     ]
    }
   ],
   "source": [
    "torch.set_printoptions(precision=3, sci_mode=False, linewidth=240, profile=None)\n",
    "print(x)"
   ]
  },
  {
   "cell_type": "code",
   "execution_count": 13,
   "metadata": {},
   "outputs": [
    {
     "ename": "ValueError",
     "evalue": "only one element tensors can be converted to Python scalars",
     "output_type": "error",
     "traceback": [
      "\u001b[0;31m---------------------------------------------------------------------------\u001b[0m",
      "\u001b[0;31mValueError\u001b[0m                                Traceback (most recent call last)",
      "\u001b[0;32m<ipython-input-13-5173f6eb485f>\u001b[0m in \u001b[0;36m<module>\u001b[0;34m\u001b[0m\n\u001b[0;32m----> 1\u001b[0;31m \u001b[0mx\u001b[0m \u001b[0;34m=\u001b[0m \u001b[0mdescale\u001b[0m\u001b[0;34m(\u001b[0m\u001b[0mtorch\u001b[0m\u001b[0;34m.\u001b[0m\u001b[0mFloatTensor\u001b[0m\u001b[0;34m(\u001b[0m\u001b[0;34m[\u001b[0m\u001b[0mx\u001b[0m\u001b[0;34m]\u001b[0m\u001b[0;34m)\u001b[0m\u001b[0;34m)\u001b[0m\u001b[0;34m[\u001b[0m\u001b[0;36m0\u001b[0m\u001b[0;34m]\u001b[0m\u001b[0;34m\u001b[0m\u001b[0;34m\u001b[0m\u001b[0m\n\u001b[0m\u001b[1;32m      2\u001b[0m \u001b[0mprint\u001b[0m\u001b[0;34m(\u001b[0m\u001b[0mx\u001b[0m\u001b[0;34m)\u001b[0m\u001b[0;34m\u001b[0m\u001b[0;34m\u001b[0m\u001b[0m\n",
      "\u001b[0;31mValueError\u001b[0m: only one element tensors can be converted to Python scalars"
     ]
    }
   ],
   "source": [
    "x = descale(torch.FloatTensor([x]))[0]\n",
    "print(x)"
   ]
  },
  {
   "cell_type": "code",
   "execution_count": 10,
   "metadata": {},
   "outputs": [
    {
     "name": "stdout",
     "output_type": "stream",
     "text": [
      "[0.55, 0.65, 1, -10, 2, 4, 5, 3, 0, 1, 0]\n",
      "[0.5275     0.5325     0.55       0.         1.16666667 0.75\n",
      " 0.65       0.5        0.55       0.         1.         0.        ]\n"
     ]
    }
   ],
   "source": [
    "x = [0.55, 0.65, 1, -10, 2, 4, 5, 3, 0, 1, 0]\n",
    "print(x)\n",
    "x = normalize(x)\n",
    "print(x)\n"
   ]
  },
  {
   "cell_type": "code",
   "execution_count": null,
   "metadata": {},
   "outputs": [],
   "source": []
  },
  {
   "cell_type": "code",
   "execution_count": null,
   "metadata": {},
   "outputs": [],
   "source": []
  },
  {
   "cell_type": "code",
   "execution_count": null,
   "metadata": {},
   "outputs": [],
   "source": []
  }
 ],
 "metadata": {
  "kernelspec": {
   "display_name": "Python 3",
   "language": "python",
   "name": "python3"
  },
  "language_info": {
   "codemirror_mode": {
    "name": "ipython",
    "version": 3
   },
   "file_extension": ".py",
   "mimetype": "text/x-python",
   "name": "python",
   "nbconvert_exporter": "python",
   "pygments_lexer": "ipython3",
   "version": "3.8.6"
  }
 },
 "nbformat": 4,
 "nbformat_minor": 4
}

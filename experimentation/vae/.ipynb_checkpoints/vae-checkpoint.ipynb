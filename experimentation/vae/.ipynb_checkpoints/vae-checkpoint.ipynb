{
 "cells": [
  {
   "cell_type": "code",
   "execution_count": 1,
   "metadata": {},
   "outputs": [],
   "source": [
    "import torch\n",
    "from torch import nn, optim\n",
    "from torch.nn import functional as F\n",
    "import numpy as np"
   ]
  },
  {
   "cell_type": "code",
   "execution_count": 2,
   "metadata": {},
   "outputs": [],
   "source": [
    "BATCH_SIZE = 128\n",
    "EPOCHS = 50\n",
    "LAYER_SIZE = 30\n",
    "S_LAYER_SIZE = 15\n",
    "LATENT_SIZE = 4"
   ]
  },
  {
   "cell_type": "code",
   "execution_count": 3,
   "metadata": {},
   "outputs": [
    {
     "name": "stdout",
     "output_type": "stream",
     "text": [
      "torch.Size([50000, 11])\n"
     ]
    },
    {
     "data": {
      "text/plain": [
       "11"
      ]
     },
     "execution_count": 3,
     "metadata": {},
     "output_type": "execute_result"
    }
   ],
   "source": [
    "# Load the data from the file\n",
    "\n",
    "saved = np.load(\"testing1.npy\", allow_pickle=True)\n",
    "\n",
    "# Make a trainging and testing batch\n",
    "train_data = torch.Tensor(saved[:int(len(saved)*0.5)])\n",
    "test_data = torch.Tensor(saved[int(len(saved)*0.5):])\n",
    "print(train_data.shape)\n",
    "INPUT_SIZE = len(test_data[0])\n",
    "INPUT_SIZE"
   ]
  },
  {
   "cell_type": "code",
   "execution_count": 4,
   "metadata": {},
   "outputs": [],
   "source": [
    "device = \"cuda\""
   ]
  },
  {
   "cell_type": "code",
   "execution_count": 5,
   "metadata": {},
   "outputs": [],
   "source": [
    "class VAE(nn.Module):\n",
    "    def __init__(self):\n",
    "        super(VAE, self).__init__()\n",
    "        \n",
    "        # Encoder\n",
    "        self.l1 = nn.Linear(INPUT_SIZE, LAYER_SIZE)\n",
    "        self.ltest1 = nn.Linear(LAYER_SIZE, S_LAYER_SIZE)\n",
    "        self.l2a = nn.Linear(S_LAYER_SIZE, LATENT_SIZE)\n",
    "        self.l2b = nn.Linear(S_LAYER_SIZE, LATENT_SIZE)\n",
    "        \n",
    "        # Decoder\n",
    "        self.l3 = nn.Linear(LATENT_SIZE, S_LAYER_SIZE)\n",
    "        self.ltest2 = nn.Linear(S_LAYER_SIZE, LAYER_SIZE)\n",
    "        self.l4 = nn.Linear(LAYER_SIZE, INPUT_SIZE)\n",
    "            \n",
    "    # Run some data through the encoder\n",
    "    def encode(self, x):\n",
    "        out = F.relu(self.l1(x))\n",
    "        out = F.relu(self.ltest1(out))\n",
    "        # return the mu and the sigma\n",
    "        return self.l2a(out), self.l2b(out)\n",
    "    \n",
    "    # The reparameterization trick, taken from https://github.com/pytorch/examples/blob/master/vae/main.py\n",
    "    def reparameterize(self, mu, sigma):\n",
    "        std = torch.exp(0.5*sigma)\n",
    "        eps = torch.randn_like(std)\n",
    "        return mu + eps*std\n",
    "    \n",
    "    def decode(self, x):\n",
    "        out = F.relu(self.l3(x))\n",
    "        out = F.relu(self.ltest2(out))\n",
    "        return torch.sigmoid(self.l4(out)) # sigmoid vs tanh\n",
    "    \n",
    "    def forward(self, x):\n",
    "        # TODO: check the shape of x to be sure we have the right input\n",
    "        mu, sigma = self.encode(x)\n",
    "        z = self.reparameterize(mu, sigma)\n",
    "        # The loss function needs the mu and the sigma so just return them here\n",
    "        return self.decode(z), mu, sigma"
   ]
  },
  {
   "cell_type": "code",
   "execution_count": 6,
   "metadata": {},
   "outputs": [],
   "source": [
    "# Reconstruction + KL divergence losses summed over all elements and batch\n",
    "# Taken from https://github.com/pytorch/examples/blob/master/vae/main.py\n",
    "def loss_function(recon_x, x, mu, sigma):\n",
    "    BCE = F.binary_cross_entropy(recon_x, x, reduction='sum')\n",
    "    KLD = -0.5 * torch.sum(1 + sigma - mu.pow(2) - sigma.exp())\n",
    "    return BCE + KLD"
   ]
  },
  {
   "cell_type": "code",
   "execution_count": 7,
   "metadata": {},
   "outputs": [],
   "source": [
    "def train(e_count, model, optimizer, name, data):\n",
    "    model.train()\n",
    "    train_loss = 0\n",
    "    for i in range(0, len(data), BATCH_SIZE):\n",
    "        batch = data[i:i+BATCH_SIZE].to(device)\n",
    "        model.zero_grad()\n",
    "        recons, mu, sigma = model(batch)\n",
    "        loss = loss_function(recons, batch, mu, sigma)\n",
    "        loss.backward()\n",
    "        train_loss += loss.item()\n",
    "        optimizer.step()\n",
    "        \n",
    "    print(f\"Model: {name}, -- Epoch: {e_count}, Loss: {train_loss/len(data)}\")        \n",
    "        \n",
    "    \n",
    "    "
   ]
  },
  {
   "cell_type": "code",
   "execution_count": 8,
   "metadata": {},
   "outputs": [],
   "source": [
    "# Lets use CPU\n",
    "def test(e_count, model, optimizer):\n",
    "    model.eval()\n",
    "    test_loss = 0\n",
    "    for i in range(0, len(test_data), BATCH_SIZE):\n",
    "        batch = test_data[i:i+BATCH_SIZE].to(device)\n",
    "        recons, mu, sigma = model(batch)\n",
    "        loss = loss_function(recons, batch, mu, sigma)\n",
    "        test_loss += loss.item()\n",
    "    print(f\"TEST Epoch: {e_count}, Loss: {test_loss/len(test_data)}\") \n",
    "        \n",
    "        "
   ]
  },
  {
   "cell_type": "code",
   "execution_count": 9,
   "metadata": {},
   "outputs": [],
   "source": [
    "def get_data(data, balanced, size):\n",
    "    res = []\n",
    "    for d in data:\n",
    "        if d[10] == int(balanced):\n",
    "            res.append(d)\n",
    "        if len(res) == size:\n",
    "            break\n",
    "    return torch.Tensor(res)"
   ]
  },
  {
   "cell_type": "code",
   "execution_count": 10,
   "metadata": {},
   "outputs": [],
   "source": [
    "train_data=train_data[torch.randperm(train_data.size()[0])]\n",
    "\n",
    "\n",
    "balanced = torch.cat((get_data(saved[:int(len(saved)*0.5)], True, 5000), get_data(saved[:int(len(saved)*0.5)], False, 5000)), 0)"
   ]
  },
  {
   "cell_type": "code",
   "execution_count": 11,
   "metadata": {},
   "outputs": [
    {
     "data": {
      "text/plain": [
       "10000"
      ]
     },
     "execution_count": 11,
     "metadata": {},
     "output_type": "execute_result"
    }
   ],
   "source": [
    "len(balanced)"
   ]
  },
  {
   "cell_type": "code",
   "execution_count": 12,
   "metadata": {},
   "outputs": [
    {
     "data": {
      "text/plain": [
       "tensor([[0.4990, 0.5010, 0.4736,  ..., 0.2947, 0.0500, 1.0000],\n",
       "        [0.4998, 0.5004, 0.4997,  ..., 0.3511, 0.0500, 1.0000],\n",
       "        [0.5001, 0.5001, 0.5002,  ..., 0.2813, 0.0500, 1.0000],\n",
       "        ...,\n",
       "        [0.5001, 0.4999, 0.4997,  ..., 0.3256, 0.0500, 0.0000],\n",
       "        [0.5004, 0.4996, 0.4996,  ..., 0.3997, 0.0500, 0.0000],\n",
       "        [0.5004, 0.4996, 0.4996,  ..., 0.3297, 0.0500, 0.0000]])"
      ]
     },
     "execution_count": 12,
     "metadata": {},
     "output_type": "execute_result"
    }
   ],
   "source": [
    "balanced"
   ]
  },
  {
   "cell_type": "code",
   "execution_count": 13,
   "metadata": {},
   "outputs": [],
   "source": [
    "balanced=balanced[torch.randperm(balanced.size()[0])]\n",
    "# SHUFFLE"
   ]
  },
  {
   "cell_type": "code",
   "execution_count": 14,
   "metadata": {},
   "outputs": [
    {
     "data": {
      "text/plain": [
       "tensor([[0.5003, 0.4997, 0.5001,  ..., 0.4094, 0.0500, 1.0000],\n",
       "        [0.4997, 0.4997, 0.4998,  ..., 0.5975, 0.0500, 1.0000],\n",
       "        [0.5002, 0.4995, 0.4998,  ..., 0.3816, 0.0500, 1.0000],\n",
       "        ...,\n",
       "        [0.5003, 0.4995, 0.4999,  ..., 0.7164, 0.0500, 1.0000],\n",
       "        [0.5002, 0.5001, 0.5002,  ..., 0.4392, 0.0500, 1.0000],\n",
       "        [0.5004, 0.5005, 0.4997,  ..., 0.6607, 0.0500, 1.0000]])"
      ]
     },
     "execution_count": 14,
     "metadata": {},
     "output_type": "execute_result"
    }
   ],
   "source": [
    "balanced"
   ]
  },
  {
   "cell_type": "code",
   "execution_count": 15,
   "metadata": {},
   "outputs": [],
   "source": [
    "# TWO DATA SETS, TWO MODELS\n",
    "train_data = train_data[:len(balanced)]\n",
    "\n",
    "vae1 = VAE().to(device)\n",
    "opt1 = optim.Adam(vae1.parameters(), lr=0.001)\n",
    "\n",
    "vae2 = VAE().to(device)\n",
    "opt2 = optim.Adam(vae2.parameters(), lr=0.001)"
   ]
  },
  {
   "cell_type": "code",
   "execution_count": 16,
   "metadata": {},
   "outputs": [
    {
     "name": "stdout",
     "output_type": "stream",
     "text": [
      "Model: unbalanced, -- Epoch: 0, Loss: 7.396388567352295\n",
      "Model: unbalanced, -- Epoch: 1, Loss: 6.9694769523620606\n",
      "Model: unbalanced, -- Epoch: 2, Loss: 6.916366626739502\n",
      "Model: unbalanced, -- Epoch: 3, Loss: 6.912133767700196\n",
      "Model: unbalanced, -- Epoch: 4, Loss: 6.907836558532715\n",
      "Model: unbalanced, -- Epoch: 5, Loss: 6.907082360076904\n",
      "Model: unbalanced, -- Epoch: 6, Loss: 6.904690936279297\n",
      "Model: unbalanced, -- Epoch: 7, Loss: 6.904680773162842\n",
      "Model: unbalanced, -- Epoch: 8, Loss: 6.903311005401611\n",
      "Model: unbalanced, -- Epoch: 9, Loss: 6.903788793182373\n",
      "Model: unbalanced, -- Epoch: 10, Loss: 6.904118453979492\n",
      "Model: unbalanced, -- Epoch: 11, Loss: 6.903287648773193\n",
      "Model: unbalanced, -- Epoch: 12, Loss: 6.903265450286865\n",
      "Model: unbalanced, -- Epoch: 13, Loss: 6.901430386352539\n",
      "Model: unbalanced, -- Epoch: 14, Loss: 6.902672204589844\n",
      "Model: unbalanced, -- Epoch: 15, Loss: 6.90310124053955\n",
      "Model: unbalanced, -- Epoch: 16, Loss: 6.902686274719239\n",
      "Model: unbalanced, -- Epoch: 17, Loss: 6.904366519165039\n",
      "Model: unbalanced, -- Epoch: 18, Loss: 6.9023642929077145\n",
      "Model: unbalanced, -- Epoch: 19, Loss: 6.902842665100097\n",
      "Model: unbalanced, -- Epoch: 20, Loss: 6.902460861968994\n",
      "Model: unbalanced, -- Epoch: 21, Loss: 6.902844915771484\n",
      "Model: unbalanced, -- Epoch: 22, Loss: 6.903191082000732\n",
      "Model: unbalanced, -- Epoch: 23, Loss: 6.901615509033203\n",
      "Model: unbalanced, -- Epoch: 24, Loss: 6.90295248336792\n",
      "Model: unbalanced, -- Epoch: 25, Loss: 6.902982916259766\n",
      "Model: unbalanced, -- Epoch: 26, Loss: 6.902776815795899\n",
      "Model: unbalanced, -- Epoch: 27, Loss: 6.903606223297119\n",
      "Model: unbalanced, -- Epoch: 28, Loss: 6.901953952026367\n",
      "Model: unbalanced, -- Epoch: 29, Loss: 6.901362644958496\n",
      "Model: unbalanced, -- Epoch: 30, Loss: 6.904293877410889\n",
      "Model: unbalanced, -- Epoch: 31, Loss: 6.902919739532471\n",
      "Model: unbalanced, -- Epoch: 32, Loss: 6.900935642242431\n",
      "Model: unbalanced, -- Epoch: 33, Loss: 6.901340226745606\n",
      "Model: unbalanced, -- Epoch: 34, Loss: 6.901906597900391\n",
      "Model: unbalanced, -- Epoch: 35, Loss: 6.9015637954711915\n",
      "Model: unbalanced, -- Epoch: 36, Loss: 6.9014292999267575\n",
      "Model: unbalanced, -- Epoch: 37, Loss: 6.90433207397461\n",
      "Model: unbalanced, -- Epoch: 38, Loss: 6.902125257110596\n",
      "Model: unbalanced, -- Epoch: 39, Loss: 6.902525328063965\n",
      "Model: unbalanced, -- Epoch: 40, Loss: 6.901833587646484\n",
      "Model: unbalanced, -- Epoch: 41, Loss: 6.902009322357178\n",
      "Model: unbalanced, -- Epoch: 42, Loss: 6.9045396942138675\n",
      "Model: unbalanced, -- Epoch: 43, Loss: 6.902329674530029\n",
      "Model: unbalanced, -- Epoch: 44, Loss: 6.902596438598633\n",
      "Model: unbalanced, -- Epoch: 45, Loss: 6.902866714477539\n",
      "Model: unbalanced, -- Epoch: 46, Loss: 6.902354291534424\n",
      "Model: unbalanced, -- Epoch: 47, Loss: 6.902111869812011\n",
      "Model: unbalanced, -- Epoch: 48, Loss: 6.902384990692139\n",
      "Model: unbalanced, -- Epoch: 49, Loss: 6.902099784088135\n"
     ]
    }
   ],
   "source": [
    "for i in range(EPOCHS):\n",
    "    train(i, vae1,opt1, \"unbalanced\", train_data)"
   ]
  },
  {
   "cell_type": "code",
   "execution_count": 17,
   "metadata": {},
   "outputs": [
    {
     "name": "stdout",
     "output_type": "stream",
     "text": [
      "Model: BALANCED, -- Epoch: 0, Loss: 7.451523283386231\n",
      "Model: BALANCED, -- Epoch: 1, Loss: 7.1685949913024904\n",
      "Model: BALANCED, -- Epoch: 2, Loss: 7.1388771530151365\n",
      "Model: BALANCED, -- Epoch: 3, Loss: 7.135077426147461\n",
      "Model: BALANCED, -- Epoch: 4, Loss: 7.134230780029297\n",
      "Model: BALANCED, -- Epoch: 5, Loss: 7.1343100700378415\n",
      "Model: BALANCED, -- Epoch: 6, Loss: 7.132626732635498\n",
      "Model: BALANCED, -- Epoch: 7, Loss: 7.131910604095459\n",
      "Model: BALANCED, -- Epoch: 8, Loss: 7.131676677703857\n",
      "Model: BALANCED, -- Epoch: 9, Loss: 7.1317625\n",
      "Model: BALANCED, -- Epoch: 10, Loss: 7.131675362396241\n",
      "Model: BALANCED, -- Epoch: 11, Loss: 7.131375080871582\n",
      "Model: BALANCED, -- Epoch: 12, Loss: 7.131070717620849\n",
      "Model: BALANCED, -- Epoch: 13, Loss: 7.130569523620605\n",
      "Model: BALANCED, -- Epoch: 14, Loss: 7.131106942749024\n",
      "Model: BALANCED, -- Epoch: 15, Loss: 7.130338240814209\n",
      "Model: BALANCED, -- Epoch: 16, Loss: 7.130159629821778\n",
      "Model: BALANCED, -- Epoch: 17, Loss: 7.130467446136475\n",
      "Model: BALANCED, -- Epoch: 18, Loss: 7.130563758850098\n",
      "Model: BALANCED, -- Epoch: 19, Loss: 7.130521876525879\n",
      "Model: BALANCED, -- Epoch: 20, Loss: 7.129971472930908\n",
      "Model: BALANCED, -- Epoch: 21, Loss: 7.1309910621643064\n",
      "Model: BALANCED, -- Epoch: 22, Loss: 7.130671328735351\n",
      "Model: BALANCED, -- Epoch: 23, Loss: 7.1304574325561525\n",
      "Model: BALANCED, -- Epoch: 24, Loss: 7.130332801818848\n",
      "Model: BALANCED, -- Epoch: 25, Loss: 7.13044962387085\n",
      "Model: BALANCED, -- Epoch: 26, Loss: 7.130303427886963\n",
      "Model: BALANCED, -- Epoch: 27, Loss: 7.1300568138122555\n",
      "Model: BALANCED, -- Epoch: 28, Loss: 7.130661038970947\n",
      "Model: BALANCED, -- Epoch: 29, Loss: 7.129769157409668\n",
      "Model: BALANCED, -- Epoch: 30, Loss: 7.130737588500977\n",
      "Model: BALANCED, -- Epoch: 31, Loss: 7.130514757537842\n",
      "Model: BALANCED, -- Epoch: 32, Loss: 7.130607107543946\n",
      "Model: BALANCED, -- Epoch: 33, Loss: 7.130548891448974\n",
      "Model: BALANCED, -- Epoch: 34, Loss: 7.130279890441894\n",
      "Model: BALANCED, -- Epoch: 35, Loss: 7.130265265655518\n",
      "Model: BALANCED, -- Epoch: 36, Loss: 7.130174298095703\n",
      "Model: BALANCED, -- Epoch: 37, Loss: 7.130501320648193\n",
      "Model: BALANCED, -- Epoch: 38, Loss: 7.130104266357422\n",
      "Model: BALANCED, -- Epoch: 39, Loss: 7.130516670227051\n",
      "Model: BALANCED, -- Epoch: 40, Loss: 7.130149830627442\n",
      "Model: BALANCED, -- Epoch: 41, Loss: 7.129925704193115\n",
      "Model: BALANCED, -- Epoch: 42, Loss: 7.130210861206055\n",
      "Model: BALANCED, -- Epoch: 43, Loss: 7.130243291473389\n",
      "Model: BALANCED, -- Epoch: 44, Loss: 7.130506804656982\n",
      "Model: BALANCED, -- Epoch: 45, Loss: 7.130509164428711\n",
      "Model: BALANCED, -- Epoch: 46, Loss: 7.13059306640625\n",
      "Model: BALANCED, -- Epoch: 47, Loss: 7.1301624298095705\n",
      "Model: BALANCED, -- Epoch: 48, Loss: 7.130080345916748\n",
      "Model: BALANCED, -- Epoch: 49, Loss: 7.129661074066162\n"
     ]
    }
   ],
   "source": [
    "for i in range(EPOCHS):\n",
    "    train(i, vae2,opt2, \"BALANCED\" ,balanced)"
   ]
  },
  {
   "cell_type": "code",
   "execution_count": 18,
   "metadata": {},
   "outputs": [],
   "source": [
    "# Shuffle test data\n",
    "test_data=test_data[torch.randperm(test_data.size()[0])]\n",
    "\n",
    "ex_done = None\n",
    "ex_notdone = None\n",
    "for a in test_data:\n",
    "    if a[10] == 1:\n",
    "        ex_done = a\n",
    "        break\n",
    "\n",
    "for a in test_data:\n",
    "    if a[10] == 0:\n",
    "        ex_notdone = a\n",
    "        break"
   ]
  },
  {
   "cell_type": "code",
   "execution_count": 19,
   "metadata": {},
   "outputs": [
    {
     "data": {
      "text/plain": [
       "tensor(1.)"
      ]
     },
     "execution_count": 19,
     "metadata": {},
     "output_type": "execute_result"
    }
   ],
   "source": [
    "ex_done[10]"
   ]
  },
  {
   "cell_type": "code",
   "execution_count": 20,
   "metadata": {},
   "outputs": [
    {
     "data": {
      "text/plain": [
       "tensor(0.1974, device='cuda:0', grad_fn=<SelectBackward>)"
      ]
     },
     "execution_count": 20,
     "metadata": {},
     "output_type": "execute_result"
    }
   ],
   "source": [
    "list(vae1(ex_done.to(\"cuda\")))[0][10]"
   ]
  },
  {
   "cell_type": "code",
   "execution_count": 21,
   "metadata": {},
   "outputs": [
    {
     "data": {
      "text/plain": [
       "tensor(0.5096, device='cuda:0', grad_fn=<SelectBackward>)"
      ]
     },
     "execution_count": 21,
     "metadata": {},
     "output_type": "execute_result"
    }
   ],
   "source": [
    "list(vae2(ex_done.to(\"cuda\")))[0][10]"
   ]
  },
  {
   "cell_type": "code",
   "execution_count": 22,
   "metadata": {},
   "outputs": [
    {
     "data": {
      "text/plain": [
       "tensor(0.)"
      ]
     },
     "execution_count": 22,
     "metadata": {},
     "output_type": "execute_result"
    }
   ],
   "source": [
    "ex_notdone[10]"
   ]
  },
  {
   "cell_type": "code",
   "execution_count": 23,
   "metadata": {},
   "outputs": [
    {
     "data": {
      "text/plain": [
       "tensor(0.1782, device='cuda:0', grad_fn=<SelectBackward>)"
      ]
     },
     "execution_count": 23,
     "metadata": {},
     "output_type": "execute_result"
    }
   ],
   "source": [
    "list(vae1(ex_notdone.to(\"cuda\")))[0][10]"
   ]
  },
  {
   "cell_type": "code",
   "execution_count": 24,
   "metadata": {},
   "outputs": [
    {
     "data": {
      "text/plain": [
       "tensor(0.5011, device='cuda:0', grad_fn=<SelectBackward>)"
      ]
     },
     "execution_count": 24,
     "metadata": {},
     "output_type": "execute_result"
    }
   ],
   "source": [
    "list(vae2(ex_notdone.to(\"cuda\")))[0][10]"
   ]
  },
  {
   "cell_type": "code",
   "execution_count": 25,
   "metadata": {},
   "outputs": [
    {
     "name": "stdout",
     "output_type": "stream",
     "text": [
      "50.0\n"
     ]
    }
   ],
   "source": [
    "count = 0\n",
    "for d in balanced:\n",
    "    if d[10] == 1:\n",
    "        count += 1\n",
    "print((count/len(train_data))*100)"
   ]
  },
  {
   "cell_type": "code",
   "execution_count": 26,
   "metadata": {},
   "outputs": [
    {
     "name": "stdout",
     "output_type": "stream",
     "text": [
      "17.57\n"
     ]
    }
   ],
   "source": [
    "count = 0\n",
    "for d in train_data:\n",
    "    if d[10] == 1:\n",
    "        count += 1\n",
    "print((count/len(train_data))*100)"
   ]
  },
  {
   "cell_type": "code",
   "execution_count": 27,
   "metadata": {},
   "outputs": [
    {
     "data": {
      "text/plain": [
       "tensor(0.5154, device='cuda:0', grad_fn=<SelectBackward>)"
      ]
     },
     "execution_count": 27,
     "metadata": {},
     "output_type": "execute_result"
    }
   ],
   "source": [
    "list(vae2(ex_done.to(\"cuda\")))[0][10]"
   ]
  },
  {
   "cell_type": "code",
   "execution_count": 28,
   "metadata": {},
   "outputs": [
    {
     "data": {
      "text/plain": [
       "tensor(0.5115, device='cuda:0', grad_fn=<SelectBackward>)"
      ]
     },
     "execution_count": 28,
     "metadata": {},
     "output_type": "execute_result"
    }
   ],
   "source": [
    "list(vae2(ex_notdone.to(\"cuda\")))[0][10]"
   ]
  },
  {
   "cell_type": "code",
   "execution_count": 29,
   "metadata": {},
   "outputs": [],
   "source": [
    "from torch.autograd import Variable"
   ]
  },
  {
   "cell_type": "code",
   "execution_count": 30,
   "metadata": {},
   "outputs": [],
   "source": [
    "sample = Variable(torch.randn(2, LATENT_SIZE))"
   ]
  },
  {
   "cell_type": "code",
   "execution_count": 31,
   "metadata": {},
   "outputs": [],
   "source": [
    "res = vae2.decode(sample.to(\"cuda\"))"
   ]
  },
  {
   "cell_type": "code",
   "execution_count": 32,
   "metadata": {},
   "outputs": [
    {
     "data": {
      "text/plain": [
       "tensor([[0.4996, 0.4998, 0.5002, 0.5000, 0.4918, 0.4993, 0.5009, 0.5009, 0.5012,\n",
       "         0.0511, 0.5267],\n",
       "        [0.4994, 0.5011, 0.4997, 0.4999, 0.4944, 0.4986, 0.4995, 0.5004, 0.5022,\n",
       "         0.0504, 0.5240]], device='cuda:0', grad_fn=<SigmoidBackward>)"
      ]
     },
     "execution_count": 32,
     "metadata": {},
     "output_type": "execute_result"
    }
   ],
   "source": [
    "res"
   ]
  },
  {
   "cell_type": "code",
   "execution_count": 33,
   "metadata": {},
   "outputs": [
    {
     "name": "stdout",
     "output_type": "stream",
     "text": [
      "UNBALANCED DATASET\n",
      "counts of intervals: [0, 0.2]: 7869, [0.1, 0.7]: 2131, [0.7, 1]: 0\n",
      "-- so the ratio to done and not done (deleting the middle ones) is 0.0\n",
      "The real ration is 0.1768\n"
     ]
    }
   ],
   "source": [
    "res = [0, 0, 0]\n",
    "k = []\n",
    "for i in range(10000):\n",
    "    sample = Variable(torch.randn(1, LATENT_SIZE))\n",
    "    a = vae1.decode(sample.to(\"cuda\"))[0]\n",
    "    num = float(sum(list(a[10:])))\n",
    "    k.append(num)\n",
    "    if num < 0.2:\n",
    "        res[0] += 1\n",
    "    elif num <0.7:\n",
    "        res[1] += 1\n",
    "    else:\n",
    "        res[2] += 1\n",
    "        \n",
    "d = 0\n",
    "nd = 0\n",
    "\n",
    "for a in test_data:\n",
    "    if a[10] == 1:\n",
    "        d += 1\n",
    "    else:\n",
    "        nd += 1\n",
    "        \n",
    "        \n",
    "print(f\"UNBALANCED DATASET\")\n",
    "print(f\"counts of intervals: [0, 0.2]: {res[0]}, [0.1, 0.7]: {res[1]}, [0.7, 1]: {res[2]}\")\n",
    "print(f\"-- so the ratio to done and not done (deleting the middle ones) is {res[2]/(res[2]+res[0])}\")\n",
    "print(f\"The real ration is {d/(nd+d)}\")"
   ]
  },
  {
   "cell_type": "code",
   "execution_count": null,
   "metadata": {},
   "outputs": [],
   "source": []
  },
  {
   "cell_type": "code",
   "execution_count": 34,
   "metadata": {},
   "outputs": [],
   "source": [
    "import gym\n",
    "env = gym.make(\"InvertedPendulum-v2\")\n",
    "env.reset()\n",
    "state_dim = env.observation_space.shape[0]\n",
    "action_dim = env.action_space.shape[0] \n",
    "action_low = env.action_space.low[0]\n",
    "action_high = env.action_space.high[0]\n",
    "state_low = -10.0\n",
    "state_high = 10.0"
   ]
  },
  {
   "cell_type": "code",
   "execution_count": 35,
   "metadata": {},
   "outputs": [],
   "source": [
    "def descale(x):\n",
    "    # State\n",
    "    ((x[:, 0].mul_(state_high-state_low)).add_(state_low)).to(device)\n",
    "    ((x[:, 1].mul_(state_high-state_low)).add_(state_low)).to(device)\n",
    "    ((x[:, 2].mul_(state_high-state_low)).add_(state_low)).to(device)\n",
    "    ((x[:, 3].mul_(state_high-state_low)).add_(state_low)).to(device)\n",
    "\n",
    "    # Action\n",
    "    ((x[:, 4].mul_(action_high-action_low)).add_(action_low)).to(device)\n",
    "    \n",
    "    # State\n",
    "    ((x[:, 5].mul_(state_high-state_low)).add_(state_low)).to(device)\n",
    "    ((x[:, 6].mul_(state_high-state_low)).add_(state_low)).to(device)\n",
    "    ((x[:, 7].mul_(state_high-state_low)).add_(state_low)).to(device)\n",
    "    ((x[:, 8].mul_(state_high-state_low)).add_(state_low)).to(device)\n",
    "    \n",
    "    # Reward\n",
    "    (x[:, 9].mul_(20.0)).to(device)\n",
    "    \n",
    "    # Done\n",
    "    (x[:, 10].round_()).to(device)\n",
    "    \n",
    "    return x"
   ]
  },
  {
   "cell_type": "code",
   "execution_count": 36,
   "metadata": {},
   "outputs": [
    {
     "data": {
      "text/plain": [
       "tensor(0.2001, device='cuda:0', grad_fn=<SelectBackward>)"
      ]
     },
     "execution_count": 36,
     "metadata": {},
     "output_type": "execute_result"
    }
   ],
   "source": [
    "sample = Variable(torch.randn(2, LATENT_SIZE)).cuda()\n",
    "x = vae1.decode(sample)\n",
    "x[0][10]"
   ]
  },
  {
   "cell_type": "code",
   "execution_count": 37,
   "metadata": {},
   "outputs": [],
   "source": [
    "x = descale(x)"
   ]
  },
  {
   "cell_type": "code",
   "execution_count": 38,
   "metadata": {},
   "outputs": [
    {
     "data": {
      "text/plain": [
       "tensor(0., device='cuda:0', grad_fn=<SelectBackward>)"
      ]
     },
     "execution_count": 38,
     "metadata": {},
     "output_type": "execute_result"
    }
   ],
   "source": [
    "x[0][10]"
   ]
  },
  {
   "cell_type": "code",
   "execution_count": null,
   "metadata": {},
   "outputs": [],
   "source": []
  },
  {
   "cell_type": "code",
   "execution_count": null,
   "metadata": {},
   "outputs": [],
   "source": []
  }
 ],
 "metadata": {
  "kernelspec": {
   "display_name": "Python 3",
   "language": "python",
   "name": "python3"
  },
  "language_info": {
   "codemirror_mode": {
    "name": "ipython",
    "version": 3
   },
   "file_extension": ".py",
   "mimetype": "text/x-python",
   "name": "python",
   "nbconvert_exporter": "python",
   "pygments_lexer": "ipython3",
   "version": "3.8.6"
  }
 },
 "nbformat": 4,
 "nbformat_minor": 4
}

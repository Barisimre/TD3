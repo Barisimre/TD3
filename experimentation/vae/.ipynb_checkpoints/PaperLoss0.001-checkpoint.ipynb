{
 "cells": [
  {
   "cell_type": "code",
   "execution_count": 1,
   "metadata": {},
   "outputs": [],
   "source": [
    "import torch\n",
    "from torch import nn, optim\n",
    "from torch.nn import functional as F\n",
    "import numpy as np"
   ]
  },
  {
   "cell_type": "code",
   "execution_count": 2,
   "metadata": {},
   "outputs": [],
   "source": [
    "BATCH_SIZE = 128\n",
    "EPOCHS = 30\n",
    "S_LAYER_SIZE = 10\n",
    "LATENT_SIZE = 3\n",
    "C = 0"
   ]
  },
  {
   "cell_type": "code",
   "execution_count": 3,
   "metadata": {},
   "outputs": [
    {
     "name": "stdout",
     "output_type": "stream",
     "text": [
      "torch.Size([50000, 11])\n"
     ]
    }
   ],
   "source": [
    "# Load the data from the file\n",
    "\n",
    "saved = np.load(\"testing.npy\", allow_pickle=True)\n",
    "\n",
    "# Make a trainging and testing batch\n",
    "train_data = torch.Tensor(saved[:int(len(saved)*0.5)])\n",
    "test_data = torch.Tensor(saved[int(len(saved)*0.5):])\n",
    "print(train_data.shape)\n",
    "INPUT_SIZE = len(test_data[0])\n",
    "INPUT_SIZE\n",
    "\n",
    "torch.set_printoptions(linewidth=140)"
   ]
  },
  {
   "cell_type": "code",
   "execution_count": 4,
   "metadata": {},
   "outputs": [],
   "source": [
    "device = \"cuda\""
   ]
  },
  {
   "cell_type": "code",
   "execution_count": 5,
   "metadata": {},
   "outputs": [],
   "source": [
    "class VAE(nn.Module):\n",
    "    def __init__(self):\n",
    "        super(VAE, self).__init__()\n",
    "        \n",
    "        # Encoder\n",
    "        self.l1 = nn.Linear(INPUT_SIZE, S_LAYER_SIZE)\n",
    "        self.l2a = nn.Linear(S_LAYER_SIZE, LATENT_SIZE)\n",
    "        self.l2b = nn.Linear(S_LAYER_SIZE, LATENT_SIZE)\n",
    "        \n",
    "        # Decoder\n",
    "        self.l3 = nn.Linear(LATENT_SIZE, S_LAYER_SIZE)\n",
    "        self.l4 = nn.Linear(S_LAYER_SIZE, INPUT_SIZE)\n",
    "            \n",
    "    # Run some data through the encoder\n",
    "    def encode(self, x):\n",
    "        x = F.relu(self.l1(x))\n",
    "\n",
    "        # return the mu and the sigma\n",
    "        return self.l2a(x), self.l2b(x)\n",
    "    \n",
    "    # The reparameterization trick, taken from https://github.com/pytorch/examples/blob/master/vae/main.py\n",
    "    def reparameterize(self, mu, sigma):\n",
    "        std = torch.exp(0.5*sigma)\n",
    "        eps = torch.randn_like(std)\n",
    "        return mu + eps*std\n",
    "    \n",
    "    def decode(self, x):\n",
    "        x = F.relu(self.l3(x))\n",
    "\n",
    "        return torch.sigmoid(self.l4(x)) # sigmoid vs tanh\n",
    "    \n",
    "    def forward(self, x):\n",
    "        # TODO: check the shape of x to be sure we have the right input\n",
    "        mu, sigma = self.encode(x)\n",
    "        z = self.reparameterize(mu, sigma)\n",
    "        # The loss function needs the mu and the sigma so just return them here\n",
    "        return self.decode(z), mu, sigma"
   ]
  },
  {
   "cell_type": "code",
   "execution_count": 6,
   "metadata": {},
   "outputs": [],
   "source": [
    "# Reconstruction + KL divergence losses summed over all elements and batch\n",
    "# Taken from https://github.com/pytorch/examples/blob/master/vae/main.py\n",
    "def loss_function(recon_x, x, mu, sigma):\n",
    "    BCE = F.binary_cross_entropy(recon_x, x, reduction='sum')\n",
    "    KLD = -0.5 * torch.sum(1 + sigma - mu.pow(2) - sigma.exp())\n",
    "    return BCE + C*KLD"
   ]
  },
  {
   "cell_type": "code",
   "execution_count": 7,
   "metadata": {},
   "outputs": [],
   "source": [
    "def train(e_count, model, optimizer):\n",
    "    data = train_data\n",
    "    model.train()\n",
    "    train_loss = 0\n",
    "    for i in range(0, len(data), BATCH_SIZE):\n",
    "        batch = data[i:i+BATCH_SIZE].to(device)\n",
    "        model.zero_grad()\n",
    "        recons, mu, sigma = model(batch)\n",
    "        loss = loss_function(recons, batch, mu, sigma)\n",
    "        loss.backward()\n",
    "        train_loss += loss.item()\n",
    "        optimizer.step()\n",
    "        \n",
    "    print(f\"Epoch: {e_count}, Loss: {train_loss/len(data)}\")        \n",
    "        \n",
    "    \n",
    "    "
   ]
  },
  {
   "cell_type": "code",
   "execution_count": 8,
   "metadata": {},
   "outputs": [],
   "source": [
    "# Lets use CPU\n",
    "def test(e_count, model, optimizer):\n",
    "    model.eval()\n",
    "    test_loss = 0\n",
    "    for i in range(0, len(test_data), BATCH_SIZE):\n",
    "        batch = test_data[i:i+BATCH_SIZE].to(device)\n",
    "        recons, mu, sigma = model(batch)\n",
    "        loss = loss_function(recons, batch, mu, sigma)\n",
    "        test_loss += loss.item()\n",
    "    print(f\"TEST Epoch: {e_count}, Loss: {test_loss/len(test_data)}\") \n",
    "        \n",
    "        "
   ]
  },
  {
   "cell_type": "code",
   "execution_count": 9,
   "metadata": {},
   "outputs": [],
   "source": [
    "train_data=train_data[torch.randperm(train_data.size()[0])]\n",
    "test_data=test_data[torch.randperm(test_data.size()[0])]"
   ]
  },
  {
   "cell_type": "code",
   "execution_count": 10,
   "metadata": {},
   "outputs": [],
   "source": [
    "vae1 = VAE().to(device)\n",
    "opt1 = optim.Adam(vae1.parameters(), lr=0.001)"
   ]
  },
  {
   "cell_type": "code",
   "execution_count": 11,
   "metadata": {},
   "outputs": [
    {
     "name": "stdout",
     "output_type": "stream",
     "text": [
      "Epoch: 0, Loss: 6.952274968261719\n",
      "Epoch: 1, Loss: 6.386440323486328\n",
      "Epoch: 2, Loss: 6.2728758325195315\n",
      "Epoch: 3, Loss: 6.239522905273438\n",
      "Epoch: 4, Loss: 6.226428656616211\n",
      "Epoch: 5, Loss: 6.2158819805908205\n",
      "Epoch: 6, Loss: 6.208468477172851\n",
      "Epoch: 7, Loss: 6.205489879150391\n",
      "Epoch: 8, Loss: 6.2047907135009766\n",
      "Epoch: 9, Loss: 6.204634022216797\n",
      "Epoch: 10, Loss: 6.204569245605469\n",
      "Epoch: 11, Loss: 6.204536901245117\n",
      "Epoch: 12, Loss: 6.204520824584961\n",
      "Epoch: 13, Loss: 6.204507501220703\n",
      "Epoch: 14, Loss: 6.204502534179688\n",
      "Epoch: 15, Loss: 6.2044954443359375\n",
      "Epoch: 16, Loss: 6.204489551391601\n",
      "Epoch: 17, Loss: 6.20448673828125\n",
      "Epoch: 18, Loss: 6.204481106567383\n",
      "Epoch: 19, Loss: 6.20447697265625\n",
      "Epoch: 20, Loss: 6.204427457275391\n",
      "Epoch: 21, Loss: 6.203701371459961\n",
      "Epoch: 22, Loss: 6.203321782836914\n",
      "Epoch: 23, Loss: 6.203166910400391\n",
      "Epoch: 24, Loss: 6.203087270507813\n",
      "Epoch: 25, Loss: 6.203038828125\n",
      "Epoch: 26, Loss: 6.203009240722657\n",
      "Epoch: 27, Loss: 6.202989118652344\n",
      "Epoch: 28, Loss: 6.202974301757813\n",
      "Epoch: 29, Loss: 6.20296459777832\n"
     ]
    }
   ],
   "source": [
    "for i in range(EPOCHS):\n",
    "    train(i, vae1, opt1)"
   ]
  },
  {
   "cell_type": "code",
   "execution_count": 12,
   "metadata": {},
   "outputs": [],
   "source": [
    "import gym\n",
    "env = gym.make(\"InvertedPendulum-v2\")\n",
    "env.reset()\n",
    "state_dim = env.observation_space.shape[0]\n",
    "action_dim = env.action_space.shape[0] \n",
    "action_low = env.action_space.low[0]\n",
    "action_high = env.action_space.high[0]\n",
    "state_low = -10.0\n",
    "state_high = 10.0"
   ]
  },
  {
   "cell_type": "code",
   "execution_count": 13,
   "metadata": {},
   "outputs": [],
   "source": [
    "def descale(x):\n",
    "    # State\n",
    "    ((x[:, 0].mul_(state_high-state_low)).add_(state_low)).to(device)\n",
    "    ((x[:, 1].mul_(state_high-state_low)).add_(state_low)).to(device)\n",
    "    ((x[:, 2].mul_(state_high-state_low)).add_(state_low)).to(device)\n",
    "    ((x[:, 3].mul_(state_high-state_low)).add_(state_low)).to(device)\n",
    "\n",
    "    # Action\n",
    "    ((x[:, 4].mul_(action_high-action_low)).add_(action_low)).to(device)\n",
    "    \n",
    "    # State\n",
    "    ((x[:, 5].mul_(state_high-state_low)).add_(state_low)).to(device)\n",
    "    ((x[:, 6].mul_(state_high-state_low)).add_(state_low)).to(device)\n",
    "    ((x[:, 7].mul_(state_high-state_low)).add_(state_low)).to(device)\n",
    "    ((x[:, 8].mul_(state_high-state_low)).add_(state_low)).to(device)\n",
    "    \n",
    "    # Reward\n",
    "    (x[:, 9].mul_(20.0)).to(device)\n",
    "    \n",
    "    # Done\n",
    "    (x[:, 10].round_()).to(device)\n",
    "    \n",
    "    return x"
   ]
  },
  {
   "cell_type": "code",
   "execution_count": 14,
   "metadata": {},
   "outputs": [
    {
     "name": "stdout",
     "output_type": "stream",
     "text": [
      "Action\n",
      "tensor(0.8578, device='cuda:0')\n",
      "tensor(0.4943, device='cuda:0', grad_fn=<SelectBackward>) \n",
      "\n",
      "tensor(0.3280, device='cuda:0')\n",
      "tensor(0.4799, device='cuda:0', grad_fn=<SelectBackward>) \n",
      "\n",
      "tensor(0.6747, device='cuda:0')\n",
      "tensor(0.4919, device='cuda:0', grad_fn=<SelectBackward>) \n",
      "\n",
      "tensor(0.5989, device='cuda:0')\n",
      "tensor(0.4860, device='cuda:0', grad_fn=<SelectBackward>) \n",
      "\n",
      "tensor(0.4634, device='cuda:0')\n",
      "tensor(0.4911, device='cuda:0', grad_fn=<SelectBackward>) \n",
      "\n",
      "tensor(0.2388, device='cuda:0')\n",
      "tensor(0.4890, device='cuda:0', grad_fn=<SelectBackward>) \n",
      "\n",
      "tensor(0.9847, device='cuda:0')\n",
      "tensor(0.4721, device='cuda:0', grad_fn=<SelectBackward>) \n",
      "\n",
      "tensor(0.5809, device='cuda:0')\n",
      "tensor(0.4840, device='cuda:0', grad_fn=<SelectBackward>) \n",
      "\n",
      "tensor(0.4426, device='cuda:0')\n",
      "tensor(0.5057, device='cuda:0', grad_fn=<SelectBackward>) \n",
      "\n",
      "tensor(0.6267, device='cuda:0')\n",
      "tensor(0.4728, device='cuda:0', grad_fn=<SelectBackward>) \n",
      "\n"
     ]
    }
   ],
   "source": [
    "from torch.autograd import Variable\n",
    "\n",
    "print(\"Action\")\n",
    "for i in range(10):\n",
    "    sample = torch.FloatTensor(2, 11).uniform_(0, 1).to(\"cuda\")\n",
    "    print(sample[0][5])\n",
    "    x = vae1(sample)\n",
    "    print(x[0][0][5], '\\n')"
   ]
  },
  {
   "cell_type": "code",
   "execution_count": 15,
   "metadata": {},
   "outputs": [
    {
     "name": "stdout",
     "output_type": "stream",
     "text": [
      "Reward\n",
      "tensor(0.0139, device='cuda:0')\n",
      "tensor(0.1873, device='cuda:0', grad_fn=<SelectBackward>) \n",
      "\n",
      "tensor(0.0614, device='cuda:0')\n",
      "tensor(0.1881, device='cuda:0', grad_fn=<SelectBackward>) \n",
      "\n",
      "tensor(0.0360, device='cuda:0')\n",
      "tensor(0.1814, device='cuda:0', grad_fn=<SelectBackward>) \n",
      "\n",
      "tensor(0.1356, device='cuda:0')\n",
      "tensor(0.1711, device='cuda:0', grad_fn=<SelectBackward>) \n",
      "\n",
      "tensor(0.1317, device='cuda:0')\n",
      "tensor(0.1611, device='cuda:0', grad_fn=<SelectBackward>) \n",
      "\n",
      "tensor(0.1308, device='cuda:0')\n",
      "tensor(0.1937, device='cuda:0', grad_fn=<SelectBackward>) \n",
      "\n",
      "tensor(0.1173, device='cuda:0')\n",
      "tensor(0.1724, device='cuda:0', grad_fn=<SelectBackward>) \n",
      "\n",
      "tensor(0.0684, device='cuda:0')\n",
      "tensor(0.2022, device='cuda:0', grad_fn=<SelectBackward>) \n",
      "\n",
      "tensor(0.0869, device='cuda:0')\n",
      "tensor(0.1678, device='cuda:0', grad_fn=<SelectBackward>) \n",
      "\n",
      "tensor(0.1098, device='cuda:0')\n",
      "tensor(0.1622, device='cuda:0', grad_fn=<SelectBackward>) \n",
      "\n"
     ]
    }
   ],
   "source": [
    "print(\"Reward\")\n",
    "for i in range(10):\n",
    "    sample = torch.FloatTensor(2, 11).uniform_(0, 0.15).to(\"cuda\")\n",
    "    print(sample[0][9])\n",
    "    x = vae1(sample)\n",
    "    print(x[0][0][9], '\\n')"
   ]
  },
  {
   "cell_type": "code",
   "execution_count": 23,
   "metadata": {},
   "outputs": [
    {
     "name": "stdout",
     "output_type": "stream",
     "text": [
      "Original:       tensor([0.500, 0.501, 0.490, 0.523, 0.943, 0.501, 0.499, 0.539, 0.410, 0.050, 0.000])\n",
      "Reconstruction: tensor([    0.499,     0.503,     0.492,     0.522,     0.903,     0.500,     0.501,     0.538,     0.410,     0.050,     0.000],\n",
      "       grad_fn=<CopyBackwards>)\n",
      "\n",
      "Latent: tensor([ 5.385, -6.715, -3.882], device='cuda:0', grad_fn=<AddBackward0>)\n",
      "\n",
      "Loss: 5.952008247375488\n",
      "\n",
      "\n",
      "Original:       tensor([0.502, 0.497, 0.498, 0.510, 0.517, 0.502, 0.497, 0.501, 0.501, 0.050, 0.000])\n",
      "Reconstruction: tensor([    0.499,     0.501,     0.499,     0.507,     0.529,     0.500,     0.502,     0.498,     0.504,     0.050,     0.000],\n",
      "       grad_fn=<CopyBackwards>)\n",
      "\n",
      "Latent: tensor([ 3.718, -7.343, -4.092], device='cuda:0', grad_fn=<AddBackward0>)\n",
      "\n",
      "Loss: 6.436436176300049\n",
      "\n",
      "\n",
      "Original:       tensor([0.502, 0.496, 0.535, 0.418, 0.640, 0.503, 0.492, 0.550, 0.383, 0.050, 0.000])\n",
      "Reconstruction: tensor([    0.501,     0.499,     0.538,     0.417,     0.673,     0.503,     0.496,     0.551,     0.386,     0.050,     0.000],\n",
      "       grad_fn=<CopyBackwards>)\n",
      "\n",
      "Latent: tensor([ 4.257, -7.095, -3.520], device='cuda:0', grad_fn=<AddBackward0>)\n",
      "\n",
      "Loss: 6.351171016693115\n",
      "\n",
      "\n",
      "Original:       tensor([0.499, 0.502, 0.443, 0.636, 0.730, 0.497, 0.506, 0.469, 0.571, 0.050, 0.000])\n",
      "Reconstruction: tensor([    0.498,     0.505,     0.443,     0.631,     0.764,     0.496,     0.509,     0.466,     0.575,     0.049,     0.000],\n",
      "       grad_fn=<CopyBackwards>)\n",
      "\n",
      "Latent: tensor([ 4.469, -7.100, -4.632], device='cuda:0', grad_fn=<AddBackward0>)\n",
      "\n",
      "Loss: 6.274553298950195\n",
      "\n",
      "\n",
      "Original:       tensor([0.502, 0.495, 0.516, 0.461, 0.333, 0.502, 0.494, 0.498, 0.499, 0.050, 0.000])\n",
      "Reconstruction: tensor([    0.500,     0.500,     0.519,     0.459,     0.311,     0.501,     0.500,     0.499,     0.505,     0.050,     0.000],\n",
      "       grad_fn=<CopyBackwards>)\n",
      "\n",
      "Latent: tensor([ 3.018, -7.568, -3.956], device='cuda:0', grad_fn=<AddBackward0>)\n",
      "\n",
      "Loss: 6.377659797668457\n",
      "\n",
      "\n"
     ]
    }
   ],
   "source": [
    "torch.set_printoptions(precision=3, sci_mode=False, linewidth=140, profile=None)\n",
    "import random\n",
    "for i in range(5):\n",
    "    k = random.randint(1, 400)\n",
    "    sample = test_data[k].to(device)\n",
    "    x, m, s = vae1(sample)\n",
    "    loss = loss_function(x, sample, m, s)\n",
    "    \n",
    "    x = x.to(\"cpu\")\n",
    "    sample = sample.to(\"cpu\")\n",
    "    \n",
    "    print(f\"Original:       {sample}\")\n",
    "    sample = sample.to(device)\n",
    "    print(f\"Reconstruction: {x}\\n\")\n",
    "    torch.set_printoptions(precision=3, sci_mode=False, linewidth=140, profile=\"short\")\n",
    "    print(f\"Latent: {vae1.reparameterize(list(vae1.encode(sample))[0], list(vae1.encode(sample))[1])}\")\n",
    "    print(f\"\\nLoss: {loss}\\n\\n\")\n",
    "    "
   ]
  },
  {
   "cell_type": "code",
   "execution_count": 17,
   "metadata": {},
   "outputs": [],
   "source": [
    "sample = Variable(torch.rand(1, 3))"
   ]
  },
  {
   "cell_type": "code",
   "execution_count": 22,
   "metadata": {},
   "outputs": [],
   "source": [
    "latents = []\n",
    "\n",
    "for i in range(300):\n",
    "    k = random.randint(1, 6000)\n",
    "    sample = test_data[k].to(device)\n",
    "    l = vae1.reparameterize(list(vae1.encode(sample))[0], list(vae1.encode(sample))[1])\n",
    "    latents.append([i.item() for i in l])\n",
    "    \n",
    "np.save(f\"Latents/latent{C}\", latents)\n",
    "    "
   ]
  },
  {
   "cell_type": "code",
   "execution_count": 21,
   "metadata": {},
   "outputs": [
    {
     "name": "stdout",
     "output_type": "stream",
     "text": [
      "UNBALANCED DATASET\n",
      "counts of intervals: [0, 0.1]: 2504, [0.1, 0.7]: 4579, [0.7, 1]: 2917\n",
      "-- so the ratio to done and not done (deleting the middle ones) is 0.5380926028408043\n",
      "The real ration is 0.17664\n"
     ]
    }
   ],
   "source": [
    "res = [0, 0, 0]\n",
    "k = []\n",
    "for i in range(10000):\n",
    "    sample = Variable(torch.randn(1, LATENT_SIZE))\n",
    "    a = vae1.decode(sample.to(\"cuda\"))[0]\n",
    "    num = float(sum(list(a[10:])))\n",
    "    k.append(num)\n",
    "    if num < 0.1:\n",
    "        res[0] += 1\n",
    "    elif num <0.9:\n",
    "        res[1] += 1\n",
    "    else:\n",
    "        res[2] += 1\n",
    "        \n",
    "d = 0\n",
    "nd = 0\n",
    "\n",
    "for a in test_data:\n",
    "    if a[10] == 1:\n",
    "        d += 1\n",
    "    else:\n",
    "        nd += 1\n",
    "        \n",
    "        \n",
    "print(f\"UNBALANCED DATASET\")\n",
    "print(f\"counts of intervals: [0, 0.1]: {res[0]}, [0.1, 0.7]: {res[1]}, [0.7, 1]: {res[2]}\")\n",
    "print(f\"-- so the ratio to done and not done (deleting the middle ones) is {res[2]/(res[2]+res[0])}\")\n",
    "print(f\"The real ration is {d/(nd+d)}\")"
   ]
  },
  {
   "cell_type": "code",
   "execution_count": null,
   "metadata": {},
   "outputs": [],
   "source": []
  }
 ],
 "metadata": {
  "kernelspec": {
   "display_name": "Python 3",
   "language": "python",
   "name": "python3"
  },
  "language_info": {
   "codemirror_mode": {
    "name": "ipython",
    "version": 3
   },
   "file_extension": ".py",
   "mimetype": "text/x-python",
   "name": "python",
   "nbconvert_exporter": "python",
   "pygments_lexer": "ipython3",
   "version": "3.9.1"
  }
 },
 "nbformat": 4,
 "nbformat_minor": 4
}

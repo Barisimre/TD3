{
 "cells": [
  {
   "cell_type": "code",
   "execution_count": 1,
   "metadata": {},
   "outputs": [],
   "source": [
    "import torch\n",
    "from torch import nn, optim\n",
    "from torch.nn import functional as F\n",
    "import numpy as np"
   ]
  },
  {
   "cell_type": "code",
   "execution_count": 2,
   "metadata": {},
   "outputs": [],
   "source": [
    "BATCH_SIZE = 128\n",
    "EPOCHS = 30\n",
    "S_LAYER_SIZE = 10\n",
    "LATENT_SIZE = 3\n",
    "C = 0.05"
   ]
  },
  {
   "cell_type": "code",
   "execution_count": 3,
   "metadata": {},
   "outputs": [
    {
     "name": "stdout",
     "output_type": "stream",
     "text": [
      "torch.Size([50000, 11])\n"
     ]
    }
   ],
   "source": [
    "# Load the data from the file\n",
    "\n",
    "saved = np.load(\"testing.npy\", allow_pickle=True)\n",
    "\n",
    "# Make a trainging and testing batch\n",
    "train_data = torch.Tensor(saved[:int(len(saved)*0.5)])\n",
    "test_data = torch.Tensor(saved[int(len(saved)*0.5):])\n",
    "print(train_data.shape)\n",
    "INPUT_SIZE = len(test_data[0])\n",
    "INPUT_SIZE\n",
    "\n",
    "torch.set_printoptions(linewidth=140)"
   ]
  },
  {
   "cell_type": "code",
   "execution_count": 4,
   "metadata": {},
   "outputs": [],
   "source": [
    "device = \"cuda\""
   ]
  },
  {
   "cell_type": "code",
   "execution_count": 5,
   "metadata": {},
   "outputs": [],
   "source": [
    "class VAE(nn.Module):\n",
    "    def __init__(self):\n",
    "        super(VAE, self).__init__()\n",
    "        \n",
    "        # Encoder\n",
    "        self.l1 = nn.Linear(INPUT_SIZE, S_LAYER_SIZE)\n",
    "        self.l2a = nn.Linear(S_LAYER_SIZE, LATENT_SIZE)\n",
    "        self.l2b = nn.Linear(S_LAYER_SIZE, LATENT_SIZE)\n",
    "        \n",
    "        # Decoder\n",
    "        self.l3 = nn.Linear(LATENT_SIZE, S_LAYER_SIZE)\n",
    "        self.l4 = nn.Linear(S_LAYER_SIZE, INPUT_SIZE)\n",
    "            \n",
    "    # Run some data through the encoder\n",
    "    def encode(self, x):\n",
    "        x = F.relu(self.l1(x))\n",
    "\n",
    "        # return the mu and the sigma\n",
    "        return self.l2a(x), self.l2b(x)\n",
    "    \n",
    "    # The reparameterization trick, taken from https://github.com/pytorch/examples/blob/master/vae/main.py\n",
    "    def reparameterize(self, mu, sigma):\n",
    "        std = torch.exp(0.5*sigma)\n",
    "        eps = torch.randn_like(std)\n",
    "        return mu + eps*std\n",
    "    \n",
    "    def decode(self, x):\n",
    "        x = F.relu(self.l3(x))\n",
    "\n",
    "        return torch.sigmoid(self.l4(x)) # sigmoid vs tanh\n",
    "    \n",
    "    def forward(self, x):\n",
    "        # TODO: check the shape of x to be sure we have the right input\n",
    "        mu, sigma = self.encode(x)\n",
    "        z = self.reparameterize(mu, sigma)\n",
    "        # The loss function needs the mu and the sigma so just return them here\n",
    "        return self.decode(z), mu, sigma"
   ]
  },
  {
   "cell_type": "code",
   "execution_count": 6,
   "metadata": {},
   "outputs": [],
   "source": [
    "# Reconstruction + KL divergence losses summed over all elements and batch\n",
    "# Taken from https://github.com/pytorch/examples/blob/master/vae/main.py\n",
    "def loss_function(recon_x, x, mu, sigma):\n",
    "    BCE = F.binary_cross_entropy(recon_x, x, reduction='sum')\n",
    "    KLD = -0.5 * torch.sum(1 + sigma - mu.pow(2) - sigma.exp())\n",
    "    return BCE + C*KLD"
   ]
  },
  {
   "cell_type": "code",
   "execution_count": 7,
   "metadata": {},
   "outputs": [],
   "source": [
    "def train(e_count, model, optimizer):\n",
    "    data = train_data\n",
    "    model.train()\n",
    "    train_loss = 0\n",
    "    for i in range(0, len(data), BATCH_SIZE):\n",
    "        batch = data[i:i+BATCH_SIZE].to(device)\n",
    "        model.zero_grad()\n",
    "        recons, mu, sigma = model(batch)\n",
    "        loss = loss_function(recons, batch, mu, sigma)\n",
    "        loss.backward()\n",
    "        train_loss += loss.item()\n",
    "        optimizer.step()\n",
    "        \n",
    "    print(f\"Epoch: {e_count}, Loss: {train_loss/len(data)}\")        \n",
    "        \n",
    "    \n",
    "    "
   ]
  },
  {
   "cell_type": "code",
   "execution_count": 8,
   "metadata": {},
   "outputs": [],
   "source": [
    "# Lets use CPU\n",
    "def test(e_count, model, optimizer):\n",
    "    model.eval()\n",
    "    test_loss = 0\n",
    "    for i in range(0, len(test_data), BATCH_SIZE):\n",
    "        batch = test_data[i:i+BATCH_SIZE].to(device)\n",
    "        recons, mu, sigma = model(batch)\n",
    "        loss = loss_function(recons, batch, mu, sigma)\n",
    "        test_loss += loss.item()\n",
    "    print(f\"TEST Epoch: {e_count}, Loss: {test_loss/len(test_data)}\") \n",
    "        \n",
    "        "
   ]
  },
  {
   "cell_type": "code",
   "execution_count": 9,
   "metadata": {},
   "outputs": [],
   "source": [
    "train_data=train_data[torch.randperm(train_data.size()[0])]\n",
    "test_data=test_data[torch.randperm(test_data.size()[0])]"
   ]
  },
  {
   "cell_type": "code",
   "execution_count": 10,
   "metadata": {},
   "outputs": [],
   "source": [
    "vae1 = VAE().to(device)\n",
    "opt1 = optim.Adam(vae1.parameters(), lr=0.001)"
   ]
  },
  {
   "cell_type": "code",
   "execution_count": 11,
   "metadata": {},
   "outputs": [
    {
     "name": "stdout",
     "output_type": "stream",
     "text": [
      "Epoch: 0, Loss: 7.047261142578125\n",
      "Epoch: 1, Loss: 6.657726049804688\n",
      "Epoch: 2, Loss: 6.559023737792969\n",
      "Epoch: 3, Loss: 6.532662661132813\n",
      "Epoch: 4, Loss: 6.507108625488281\n",
      "Epoch: 5, Loss: 6.4047098455810545\n",
      "Epoch: 6, Loss: 6.3702973986816405\n",
      "Epoch: 7, Loss: 6.364521947631836\n",
      "Epoch: 8, Loss: 6.361310648803711\n",
      "Epoch: 9, Loss: 6.359552369384765\n",
      "Epoch: 10, Loss: 6.35814084777832\n",
      "Epoch: 11, Loss: 6.356833891601562\n",
      "Epoch: 12, Loss: 6.357000139770507\n",
      "Epoch: 13, Loss: 6.3564246490478515\n",
      "Epoch: 14, Loss: 6.356190305786133\n",
      "Epoch: 15, Loss: 6.355873438110351\n",
      "Epoch: 16, Loss: 6.355030819702148\n",
      "Epoch: 17, Loss: 6.355273671264649\n",
      "Epoch: 18, Loss: 6.355287404174804\n",
      "Epoch: 19, Loss: 6.355147980957031\n",
      "Epoch: 20, Loss: 6.35449624206543\n",
      "Epoch: 21, Loss: 6.353573267211914\n",
      "Epoch: 22, Loss: 6.355157723388672\n",
      "Epoch: 23, Loss: 6.354520835571289\n",
      "Epoch: 24, Loss: 6.354613719482422\n",
      "Epoch: 25, Loss: 6.353496209106446\n",
      "Epoch: 26, Loss: 6.353903837890625\n",
      "Epoch: 27, Loss: 6.354078647460938\n",
      "Epoch: 28, Loss: 6.353864297485352\n",
      "Epoch: 29, Loss: 6.354018676147461\n"
     ]
    }
   ],
   "source": [
    "for i in range(EPOCHS):\n",
    "    train(i, vae1, opt1)"
   ]
  },
  {
   "cell_type": "code",
   "execution_count": 12,
   "metadata": {},
   "outputs": [],
   "source": [
    "import gym\n",
    "env = gym.make(\"InvertedPendulum-v2\")\n",
    "env.reset()\n",
    "state_dim = env.observation_space.shape[0]\n",
    "action_dim = env.action_space.shape[0] \n",
    "action_low = env.action_space.low[0]\n",
    "action_high = env.action_space.high[0]\n",
    "state_low = -10.0\n",
    "state_high = 10.0"
   ]
  },
  {
   "cell_type": "code",
   "execution_count": 13,
   "metadata": {},
   "outputs": [],
   "source": [
    "def descale(x):\n",
    "    # State\n",
    "    ((x[:, 0].mul_(state_high-state_low)).add_(state_low)).to(device)\n",
    "    ((x[:, 1].mul_(state_high-state_low)).add_(state_low)).to(device)\n",
    "    ((x[:, 2].mul_(state_high-state_low)).add_(state_low)).to(device)\n",
    "    ((x[:, 3].mul_(state_high-state_low)).add_(state_low)).to(device)\n",
    "\n",
    "    # Action\n",
    "    ((x[:, 4].mul_(action_high-action_low)).add_(action_low)).to(device)\n",
    "    \n",
    "    # State\n",
    "    ((x[:, 5].mul_(state_high-state_low)).add_(state_low)).to(device)\n",
    "    ((x[:, 6].mul_(state_high-state_low)).add_(state_low)).to(device)\n",
    "    ((x[:, 7].mul_(state_high-state_low)).add_(state_low)).to(device)\n",
    "    ((x[:, 8].mul_(state_high-state_low)).add_(state_low)).to(device)\n",
    "    \n",
    "    # Reward\n",
    "    (x[:, 9].mul_(20.0)).to(device)\n",
    "    \n",
    "    # Done\n",
    "    (x[:, 10].round_()).to(device)\n",
    "    \n",
    "    return x"
   ]
  },
  {
   "cell_type": "code",
   "execution_count": 14,
   "metadata": {},
   "outputs": [
    {
     "name": "stdout",
     "output_type": "stream",
     "text": [
      "Action\n",
      "tensor(0.4271, device='cuda:0')\n",
      "tensor(0.4956, device='cuda:0', grad_fn=<SelectBackward>) \n",
      "\n",
      "tensor(0.7388, device='cuda:0')\n",
      "tensor(0.5002, device='cuda:0', grad_fn=<SelectBackward>) \n",
      "\n",
      "tensor(0.0126, device='cuda:0')\n",
      "tensor(0.4983, device='cuda:0', grad_fn=<SelectBackward>) \n",
      "\n",
      "tensor(0.4509, device='cuda:0')\n",
      "tensor(0.4968, device='cuda:0', grad_fn=<SelectBackward>) \n",
      "\n",
      "tensor(0.7099, device='cuda:0')\n",
      "tensor(0.4945, device='cuda:0', grad_fn=<SelectBackward>) \n",
      "\n",
      "tensor(0.3658, device='cuda:0')\n",
      "tensor(0.4936, device='cuda:0', grad_fn=<SelectBackward>) \n",
      "\n",
      "tensor(0.0911, device='cuda:0')\n",
      "tensor(0.4996, device='cuda:0', grad_fn=<SelectBackward>) \n",
      "\n",
      "tensor(0.7547, device='cuda:0')\n",
      "tensor(0.4990, device='cuda:0', grad_fn=<SelectBackward>) \n",
      "\n",
      "tensor(0.2584, device='cuda:0')\n",
      "tensor(0.4973, device='cuda:0', grad_fn=<SelectBackward>) \n",
      "\n",
      "tensor(0.0411, device='cuda:0')\n",
      "tensor(0.4987, device='cuda:0', grad_fn=<SelectBackward>) \n",
      "\n"
     ]
    }
   ],
   "source": [
    "from torch.autograd import Variable\n",
    "\n",
    "print(\"Action\")\n",
    "for i in range(10):\n",
    "    sample = torch.FloatTensor(2, 11).uniform_(0, 1).to(\"cuda\")\n",
    "    print(sample[0][5])\n",
    "    x = vae1(sample)\n",
    "    print(x[0][0][5], '\\n')"
   ]
  },
  {
   "cell_type": "code",
   "execution_count": 15,
   "metadata": {},
   "outputs": [
    {
     "name": "stdout",
     "output_type": "stream",
     "text": [
      "Reward\n",
      "tensor(0.0791, device='cuda:0')\n",
      "tensor(0.0501, device='cuda:0', grad_fn=<SelectBackward>) \n",
      "\n",
      "tensor(0.0679, device='cuda:0')\n",
      "tensor(0.0500, device='cuda:0', grad_fn=<SelectBackward>) \n",
      "\n",
      "tensor(0.0468, device='cuda:0')\n",
      "tensor(0.0499, device='cuda:0', grad_fn=<SelectBackward>) \n",
      "\n",
      "tensor(0.0129, device='cuda:0')\n",
      "tensor(0.0504, device='cuda:0', grad_fn=<SelectBackward>) \n",
      "\n",
      "tensor(0.0388, device='cuda:0')\n",
      "tensor(0.0501, device='cuda:0', grad_fn=<SelectBackward>) \n",
      "\n",
      "tensor(0.0264, device='cuda:0')\n",
      "tensor(0.0501, device='cuda:0', grad_fn=<SelectBackward>) \n",
      "\n",
      "tensor(0.0223, device='cuda:0')\n",
      "tensor(0.0499, device='cuda:0', grad_fn=<SelectBackward>) \n",
      "\n",
      "tensor(0.0279, device='cuda:0')\n",
      "tensor(0.0500, device='cuda:0', grad_fn=<SelectBackward>) \n",
      "\n",
      "tensor(0.1235, device='cuda:0')\n",
      "tensor(0.0500, device='cuda:0', grad_fn=<SelectBackward>) \n",
      "\n",
      "tensor(0.1151, device='cuda:0')\n",
      "tensor(0.0502, device='cuda:0', grad_fn=<SelectBackward>) \n",
      "\n"
     ]
    }
   ],
   "source": [
    "print(\"Reward\")\n",
    "for i in range(10):\n",
    "    sample = torch.FloatTensor(2, 11).uniform_(0, 0.15).to(\"cuda\")\n",
    "    print(sample[0][9])\n",
    "    x = vae1(sample)\n",
    "    print(x[0][0][9], '\\n')"
   ]
  },
  {
   "cell_type": "code",
   "execution_count": 20,
   "metadata": {},
   "outputs": [
    {
     "name": "stdout",
     "output_type": "stream",
     "text": [
      "Original:       tensor([0.500, 0.500, 0.500, 0.500, 0.924, 0.501, 0.498, 0.546, 0.392, 0.050, 0.000])\n",
      "Reconstruction: tensor([    0.499,     0.501,     0.491,     0.509,     0.866,     0.500,     0.499,     0.531,     0.417,     0.050,     0.000],\n",
      "       grad_fn=<CopyBackwards>)\n",
      "\n",
      "Latent: tensor([ 0.612,  0.126, -2.053], device='cuda:0', grad_fn=<AddBackward0>)\n",
      "\n",
      "Loss: 6.099419116973877\n",
      "\n",
      "\n",
      "Original:       tensor([0.500, 0.501, 0.463, 0.584, 0.966, 0.499, 0.502, 0.515, 0.461, 0.050, 0.000])\n",
      "Reconstruction: tensor([    0.500,     0.500,     0.501,     0.491,     0.911,     0.501,     0.497,     0.551,     0.379,     0.050,     0.000],\n",
      "       grad_fn=<CopyBackwards>)\n",
      "\n",
      "Latent: tensor([-1.047, -0.520, -1.309], device='cuda:0', grad_fn=<AddBackward0>)\n",
      "\n",
      "Loss: 6.033655643463135\n",
      "\n",
      "\n",
      "Original:       tensor([0.496, 0.508, 0.424, 0.672, 0.573, 0.493, 0.514, 0.433, 0.651, 0.050, 1.000])\n",
      "Reconstruction: tensor([0.500, 0.499, 0.501, 0.494, 0.581, 0.501, 0.498, 0.509, 0.475, 0.050, 0.999], grad_fn=<CopyBackwards>)\n",
      "\n",
      "Latent: tensor([-1.884,  0.392,  0.707], device='cuda:0', grad_fn=<AddBackward0>)\n",
      "\n",
      "Loss: 6.618365287780762\n",
      "\n",
      "\n",
      "Original:       tensor([0.499, 0.501, 0.559, 0.365, 0.150, 0.501, 0.497, 0.520, 0.464, 0.050, 0.000])\n",
      "Reconstruction: tensor([    0.500,     0.500,     0.497,     0.499,     0.081,     0.499,     0.501,     0.446,     0.617,     0.050,     0.000],\n",
      "       grad_fn=<CopyBackwards>)\n",
      "\n",
      "Latent: tensor([ 0.348, -1.193,  0.621], device='cuda:0', grad_fn=<AddBackward0>)\n",
      "\n",
      "Loss: 6.318143367767334\n",
      "\n",
      "\n",
      "Original:       tensor([0.501, 0.499, 0.549, 0.390, 0.709, 0.503, 0.494, 0.571, 0.343, 0.050, 0.000])\n",
      "Reconstruction: tensor([    0.500,     0.501,     0.495,     0.502,     0.744,     0.501,     0.499,     0.519,     0.448,     0.050,     0.000],\n",
      "       grad_fn=<CopyBackwards>)\n",
      "\n",
      "Latent: tensor([ 0.912,  0.437, -0.689], device='cuda:0', grad_fn=<AddBackward0>)\n",
      "\n",
      "Loss: 6.380477428436279\n",
      "\n",
      "\n"
     ]
    }
   ],
   "source": [
    "torch.set_printoptions(precision=3, sci_mode=False, linewidth=140, profile=None)\n",
    "import random\n",
    "for i in range(5):\n",
    "    k = random.randint(1, 400)\n",
    "    sample = test_data[k].to(device)\n",
    "    x, m, s = vae1(sample)\n",
    "    loss = loss_function(x, sample, m, s)\n",
    "    \n",
    "    x = x.to(\"cpu\")\n",
    "    sample = sample.to(\"cpu\")\n",
    "    \n",
    "    print(f\"Original:       {sample}\")\n",
    "    sample = sample.to(device)\n",
    "    print(f\"Reconstruction: {x}\\n\")\n",
    "    torch.set_printoptions(precision=3, sci_mode=False, linewidth=140, profile=\"short\")\n",
    "    print(f\"Latent: {vae1.reparameterize(list(vae1.encode(sample))[0], list(vae1.encode(sample))[1])}\")\n",
    "    print(f\"\\nLoss: {loss}\\n\\n\")\n",
    "    "
   ]
  },
  {
   "cell_type": "code",
   "execution_count": 17,
   "metadata": {},
   "outputs": [],
   "source": [
    "sample = Variable(torch.rand(1, 3))"
   ]
  },
  {
   "cell_type": "code",
   "execution_count": 18,
   "metadata": {},
   "outputs": [],
   "source": [
    "latents = []\n",
    "\n",
    "for i in range(300):\n",
    "    k = random.randint(1, 6000)\n",
    "    sample = test_data[k].to(device)\n",
    "    l = vae1.reparameterize(list(vae1.encode(sample))[0], list(vae1.encode(sample))[1])\n",
    "    latents.append([i.item() for i in l])\n",
    "    \n",
    "np.save(\"latent\", latents)\n",
    "    "
   ]
  },
  {
   "cell_type": "code",
   "execution_count": 19,
   "metadata": {},
   "outputs": [
    {
     "name": "stdout",
     "output_type": "stream",
     "text": [
      "UNBALANCED DATASET\n",
      "counts of intervals: [0, 0.1]: 8902, [0.1, 0.7]: 53, [0.7, 1]: 1045\n",
      "-- so the ratio to done and not done (deleting the middle ones) is 0.10505680104554137\n",
      "The real ration is 0.17664\n"
     ]
    }
   ],
   "source": [
    "res = [0, 0, 0]\n",
    "k = []\n",
    "for i in range(10000):\n",
    "    sample = Variable(torch.randn(1, LATENT_SIZE))\n",
    "    a = vae1.decode(sample.to(\"cuda\"))[0]\n",
    "    num = float(sum(list(a[10:])))\n",
    "    k.append(num)\n",
    "    if num < 0.5:\n",
    "        res[0] += 1\n",
    "    elif num <0.6:\n",
    "        res[1] += 1\n",
    "    else:\n",
    "        res[2] += 1\n",
    "        \n",
    "d = 0\n",
    "nd = 0\n",
    "\n",
    "for a in test_data:\n",
    "    if a[10] == 1:\n",
    "        d += 1\n",
    "    else:\n",
    "        nd += 1\n",
    "        \n",
    "        \n",
    "print(f\"UNBALANCED DATASET\")\n",
    "print(f\"counts of intervals: [0, 0.1]: {res[0]}, [0.1, 0.7]: {res[1]}, [0.7, 1]: {res[2]}\")\n",
    "print(f\"-- so the ratio to done and not done (deleting the middle ones) is {res[2]/(res[2]+res[0])}\")\n",
    "print(f\"The real ration is {d/(nd+d)}\")"
   ]
  },
  {
   "cell_type": "code",
   "execution_count": null,
   "metadata": {},
   "outputs": [],
   "source": []
  }
 ],
 "metadata": {
  "kernelspec": {
   "display_name": "Python 3",
   "language": "python",
   "name": "python3"
  },
  "language_info": {
   "codemirror_mode": {
    "name": "ipython",
    "version": 3
   },
   "file_extension": ".py",
   "mimetype": "text/x-python",
   "name": "python",
   "nbconvert_exporter": "python",
   "pygments_lexer": "ipython3",
   "version": "3.9.1"
  }
 },
 "nbformat": 4,
 "nbformat_minor": 4
}

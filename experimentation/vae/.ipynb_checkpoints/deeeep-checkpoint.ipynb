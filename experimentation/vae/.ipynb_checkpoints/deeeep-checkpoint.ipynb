{
 "cells": [
  {
   "cell_type": "code",
   "execution_count": 1,
   "metadata": {},
   "outputs": [],
   "source": [
    "import torch\n",
    "from torch import nn, optim\n",
    "from torch.nn import functional as F\n",
    "import numpy as np"
   ]
  },
  {
   "cell_type": "code",
   "execution_count": 2,
   "metadata": {},
   "outputs": [],
   "source": [
    "BATCH_SIZE = 128\n",
    "EPOCHS = 30\n",
    "LAYER_SIZE = 30\n",
    "S_LAYER_SIZE = 15\n",
    "LATENT_SIZE = 3"
   ]
  },
  {
   "cell_type": "code",
   "execution_count": 3,
   "metadata": {},
   "outputs": [
    {
     "name": "stdout",
     "output_type": "stream",
     "text": [
      "torch.Size([50000, 11])\n"
     ]
    }
   ],
   "source": [
    "# Load the data from the file\n",
    "\n",
    "saved = np.load(\"testing.npy\", allow_pickle=True)\n",
    "\n",
    "# Make a trainging and testing batch\n",
    "train_data = torch.Tensor(saved[:int(len(saved)*0.5)])\n",
    "test_data = torch.Tensor(saved[int(len(saved)*0.5):])\n",
    "print(train_data.shape)\n",
    "INPUT_SIZE = len(test_data[0])\n",
    "INPUT_SIZE\n",
    "\n",
    "torch.set_printoptions(linewidth=140)"
   ]
  },
  {
   "cell_type": "code",
   "execution_count": 4,
   "metadata": {},
   "outputs": [],
   "source": [
    "device = \"cuda\""
   ]
  },
  {
   "cell_type": "code",
   "execution_count": 5,
   "metadata": {},
   "outputs": [],
   "source": [
    "class VAE(nn.Module):\n",
    "    def __init__(self):\n",
    "        super(VAE, self).__init__()\n",
    "        \n",
    "        # Encoder\n",
    "        self.l1 = nn.Linear(INPUT_SIZE, S_LAYER_SIZE)\n",
    "        self.d1 = nn.Linear(S_LAYER_SIZE, LAYER_SIZE)\n",
    "        self.d2 = nn.Linear(LAYER_SIZE, S_LAYER_SIZE)\n",
    "        self.l2a = nn.Linear(S_LAYER_SIZE, LATENT_SIZE)\n",
    "        self.l2b = nn.Linear(S_LAYER_SIZE, LATENT_SIZE)\n",
    "        \n",
    "        # Decoder\n",
    "        self.l3 = nn.Linear(LATENT_SIZE, S_LAYER_SIZE)\n",
    "        self.d3 = nn.Linear(S_LAYER_SIZE, LAYER_SIZE)\n",
    "        self.d4 = nn.Linear(LAYER_SIZE, S_LAYER_SIZE)\n",
    "        self.l4 = nn.Linear(S_LAYER_SIZE, INPUT_SIZE)\n",
    "            \n",
    "    # Run some data through the encoder\n",
    "    def encode(self, x):\n",
    "        x = F.relu(self.l1(x))\n",
    "        x = F.relu(self.d1(x))\n",
    "        x = F.relu(self.d2(x))\n",
    "        # return the mu and the sigma\n",
    "        return self.l2a(x), self.l2b(x)\n",
    "    \n",
    "    # The reparameterization trick, taken from https://github.com/pytorch/examples/blob/master/vae/main.py\n",
    "    def reparameterize(self, mu, sigma):\n",
    "        std = torch.exp(0.5*sigma)\n",
    "        eps = torch.randn_like(std)\n",
    "        return mu + eps*std\n",
    "    \n",
    "    def decode(self, x):\n",
    "        x = F.relu(self.l3(x))\n",
    "        x = F.relu(self.d3(x))\n",
    "        x = F.relu(self.d4(x))\n",
    "        return torch.sigmoid(self.l4(x)) # sigmoid vs tanh\n",
    "    \n",
    "    def forward(self, x):\n",
    "        # TODO: check the shape of x to be sure we have the right input\n",
    "        mu, sigma = self.encode(x)\n",
    "        z = self.reparameterize(mu, sigma)\n",
    "        # The loss function needs the mu and the sigma so just return them here\n",
    "        return self.decode(z), mu, sigma"
   ]
  },
  {
   "cell_type": "code",
   "execution_count": 6,
   "metadata": {},
   "outputs": [],
   "source": [
    "# Reconstruction + KL divergence losses summed over all elements and batch\n",
    "# Taken from https://github.com/pytorch/examples/blob/master/vae/main.py\n",
    "def loss_function(recon_x, x, mu, sigma):\n",
    "    BCE = F.binary_cross_entropy(recon_x, x, reduction='sum')\n",
    "#     KLD = -0.5 * torch.sum(1 + sigma - mu.pow(2) - sigma.exp())\n",
    "#     return BCE + KLD\n",
    "    return BCE"
   ]
  },
  {
   "cell_type": "code",
   "execution_count": 7,
   "metadata": {},
   "outputs": [],
   "source": [
    "def train(e_count, model, optimizer):\n",
    "    data = train_data\n",
    "    model.train()\n",
    "    train_loss = 0\n",
    "    for i in range(0, len(data), BATCH_SIZE):\n",
    "        batch = data[i:i+BATCH_SIZE].to(device)\n",
    "        model.zero_grad()\n",
    "        recons, mu, sigma = model(batch)\n",
    "        loss = loss_function(recons, batch, mu, sigma)\n",
    "        loss.backward()\n",
    "        train_loss += loss.item()\n",
    "        optimizer.step()\n",
    "        \n",
    "    print(f\"Epoch: {e_count}, Loss: {train_loss/len(data)}\")        \n",
    "        \n",
    "    \n",
    "    "
   ]
  },
  {
   "cell_type": "code",
   "execution_count": 8,
   "metadata": {},
   "outputs": [],
   "source": [
    "# Lets use CPU\n",
    "def test(e_count, model, optimizer):\n",
    "    model.eval()\n",
    "    test_loss = 0\n",
    "    for i in range(0, len(test_data), BATCH_SIZE):\n",
    "        batch = test_data[i:i+BATCH_SIZE].to(device)\n",
    "        recons, mu, sigma = model(batch)\n",
    "        loss = loss_function(recons, batch, mu, sigma)\n",
    "        test_loss += loss.item()\n",
    "    print(f\"TEST Epoch: {e_count}, Loss: {test_loss/len(test_data)}\") \n",
    "        \n",
    "        "
   ]
  },
  {
   "cell_type": "code",
   "execution_count": 9,
   "metadata": {},
   "outputs": [],
   "source": [
    "train_data=train_data[torch.randperm(train_data.size()[0])]\n",
    "test_data=test_data[torch.randperm(test_data.size()[0])]"
   ]
  },
  {
   "cell_type": "code",
   "execution_count": 10,
   "metadata": {},
   "outputs": [],
   "source": [
    "vae1 = VAE().to(device)\n",
    "opt1 = optim.Adam(vae1.parameters(), lr=0.001)"
   ]
  },
  {
   "cell_type": "code",
   "execution_count": 11,
   "metadata": {},
   "outputs": [
    {
     "name": "stdout",
     "output_type": "stream",
     "text": [
      "Epoch: 0, Loss: 6.795149725341797\n",
      "Epoch: 1, Loss: 6.289295653076172\n",
      "Epoch: 2, Loss: 6.233077553710937\n",
      "Epoch: 3, Loss: 6.23162383605957\n",
      "Epoch: 4, Loss: 6.230850457763672\n",
      "Epoch: 5, Loss: 6.229844189453125\n",
      "Epoch: 6, Loss: 6.228378950195313\n",
      "Epoch: 7, Loss: 6.226119644165039\n",
      "Epoch: 8, Loss: 6.219504203491211\n",
      "Epoch: 9, Loss: 6.20336944946289\n",
      "Epoch: 10, Loss: 6.2008817016601565\n",
      "Epoch: 11, Loss: 6.200697495117187\n",
      "Epoch: 12, Loss: 6.200588860473633\n",
      "Epoch: 13, Loss: 6.200510561523438\n",
      "Epoch: 14, Loss: 6.200440471191406\n",
      "Epoch: 15, Loss: 6.200386745605469\n",
      "Epoch: 16, Loss: 6.200322098388672\n",
      "Epoch: 17, Loss: 6.2002300653076174\n",
      "Epoch: 18, Loss: 6.200164448852539\n",
      "Epoch: 19, Loss: 6.200112952270508\n",
      "Epoch: 20, Loss: 6.200067947998047\n",
      "Epoch: 21, Loss: 6.200028411865234\n",
      "Epoch: 22, Loss: 6.1999930688476566\n",
      "Epoch: 23, Loss: 6.199966968994141\n",
      "Epoch: 24, Loss: 6.199940189208984\n",
      "Epoch: 25, Loss: 6.199921044311523\n",
      "Epoch: 26, Loss: 6.199903092041016\n",
      "Epoch: 27, Loss: 6.1998881597900395\n",
      "Epoch: 28, Loss: 6.199872680664063\n",
      "Epoch: 29, Loss: 6.199857052001953\n"
     ]
    }
   ],
   "source": [
    "for i in range(EPOCHS):\n",
    "    train(i, vae1, opt1)"
   ]
  },
  {
   "cell_type": "code",
   "execution_count": 12,
   "metadata": {},
   "outputs": [],
   "source": [
    "import gym\n",
    "env = gym.make(\"InvertedPendulum-v2\")\n",
    "env.reset()\n",
    "state_dim = env.observation_space.shape[0]\n",
    "action_dim = env.action_space.shape[0] \n",
    "action_low = env.action_space.low[0]\n",
    "action_high = env.action_space.high[0]\n",
    "state_low = -10.0\n",
    "state_high = 10.0"
   ]
  },
  {
   "cell_type": "code",
   "execution_count": 13,
   "metadata": {},
   "outputs": [],
   "source": [
    "def descale(x):\n",
    "    # State\n",
    "    ((x[:, 0].mul_(state_high-state_low)).add_(state_low)).to(device)\n",
    "    ((x[:, 1].mul_(state_high-state_low)).add_(state_low)).to(device)\n",
    "    ((x[:, 2].mul_(state_high-state_low)).add_(state_low)).to(device)\n",
    "    ((x[:, 3].mul_(state_high-state_low)).add_(state_low)).to(device)\n",
    "\n",
    "    # Action\n",
    "    ((x[:, 4].mul_(action_high-action_low)).add_(action_low)).to(device)\n",
    "    \n",
    "    # State\n",
    "    ((x[:, 5].mul_(state_high-state_low)).add_(state_low)).to(device)\n",
    "    ((x[:, 6].mul_(state_high-state_low)).add_(state_low)).to(device)\n",
    "    ((x[:, 7].mul_(state_high-state_low)).add_(state_low)).to(device)\n",
    "    ((x[:, 8].mul_(state_high-state_low)).add_(state_low)).to(device)\n",
    "    \n",
    "    # Reward\n",
    "    (x[:, 9].mul_(20.0)).to(device)\n",
    "    \n",
    "    # Done\n",
    "    (x[:, 10].round_()).to(device)\n",
    "    \n",
    "    return x"
   ]
  },
  {
   "cell_type": "code",
   "execution_count": 14,
   "metadata": {},
   "outputs": [
    {
     "name": "stdout",
     "output_type": "stream",
     "text": [
      "Action\n",
      "tensor(0.2089, device='cuda:0')\n",
      "tensor(0.4980, device='cuda:0', grad_fn=<SelectBackward>) \n",
      "\n",
      "tensor(0.3169, device='cuda:0')\n",
      "tensor(0.5068, device='cuda:0', grad_fn=<SelectBackward>) \n",
      "\n",
      "tensor(0.4367, device='cuda:0')\n",
      "tensor(0.5021, device='cuda:0', grad_fn=<SelectBackward>) \n",
      "\n",
      "tensor(0.9360, device='cuda:0')\n",
      "tensor(0.4949, device='cuda:0', grad_fn=<SelectBackward>) \n",
      "\n",
      "tensor(0.9437, device='cuda:0')\n",
      "tensor(0.4950, device='cuda:0', grad_fn=<SelectBackward>) \n",
      "\n",
      "tensor(0.2021, device='cuda:0')\n",
      "tensor(0.4970, device='cuda:0', grad_fn=<SelectBackward>) \n",
      "\n",
      "tensor(0.6384, device='cuda:0')\n",
      "tensor(0.4320, device='cuda:0', grad_fn=<SelectBackward>) \n",
      "\n",
      "tensor(0.4656, device='cuda:0')\n",
      "tensor(0.5015, device='cuda:0', grad_fn=<SelectBackward>) \n",
      "\n",
      "tensor(0.6459, device='cuda:0')\n",
      "tensor(0.5027, device='cuda:0', grad_fn=<SelectBackward>) \n",
      "\n",
      "tensor(0.4483, device='cuda:0')\n",
      "tensor(0.4944, device='cuda:0', grad_fn=<SelectBackward>) \n",
      "\n"
     ]
    }
   ],
   "source": [
    "from torch.autograd import Variable\n",
    "\n",
    "print(\"Action\")\n",
    "for i in range(10):\n",
    "    sample = torch.FloatTensor(2, 11).uniform_(0, 1).to(\"cuda\")\n",
    "    print(sample[0][5])\n",
    "    x = vae1(sample)\n",
    "    print(x[0][0][5], '\\n')"
   ]
  },
  {
   "cell_type": "code",
   "execution_count": 15,
   "metadata": {},
   "outputs": [
    {
     "name": "stdout",
     "output_type": "stream",
     "text": [
      "Reward\n",
      "tensor(0.1095, device='cuda:0')\n",
      "tensor(0.0906, device='cuda:0', grad_fn=<SelectBackward>) \n",
      "\n",
      "tensor(0.0873, device='cuda:0')\n",
      "tensor(0.1067, device='cuda:0', grad_fn=<SelectBackward>) \n",
      "\n",
      "tensor(0.0229, device='cuda:0')\n",
      "tensor(0.1160, device='cuda:0', grad_fn=<SelectBackward>) \n",
      "\n",
      "tensor(0.1356, device='cuda:0')\n",
      "tensor(0.1036, device='cuda:0', grad_fn=<SelectBackward>) \n",
      "\n",
      "tensor(0.0957, device='cuda:0')\n",
      "tensor(0.0889, device='cuda:0', grad_fn=<SelectBackward>) \n",
      "\n",
      "tensor(0.1067, device='cuda:0')\n",
      "tensor(0.1096, device='cuda:0', grad_fn=<SelectBackward>) \n",
      "\n",
      "tensor(0.0522, device='cuda:0')\n",
      "tensor(0.1262, device='cuda:0', grad_fn=<SelectBackward>) \n",
      "\n",
      "tensor(0.0935, device='cuda:0')\n",
      "tensor(0.0985, device='cuda:0', grad_fn=<SelectBackward>) \n",
      "\n",
      "tensor(0.0721, device='cuda:0')\n",
      "tensor(0.0892, device='cuda:0', grad_fn=<SelectBackward>) \n",
      "\n",
      "tensor(0.1435, device='cuda:0')\n",
      "tensor(0.1198, device='cuda:0', grad_fn=<SelectBackward>) \n",
      "\n"
     ]
    }
   ],
   "source": [
    "print(\"Reward\")\n",
    "for i in range(10):\n",
    "    sample = torch.FloatTensor(2, 11).uniform_(0, 0.15).to(\"cuda\")\n",
    "    print(sample[0][9])\n",
    "    x = vae1(sample)\n",
    "    print(x[0][0][9], '\\n')"
   ]
  },
  {
   "cell_type": "code",
   "execution_count": 21,
   "metadata": {},
   "outputs": [
    {
     "name": "stdout",
     "output_type": "stream",
     "text": [
      "Original:       tensor([0.501, 0.497, 0.503, 0.495, 0.104, 0.500, 0.499, 0.460, 0.593, 0.050, 0.000])\n",
      "Reconstruction: tensor([    0.501,     0.498,     0.501,     0.499,     0.105,     0.498,     0.502,     0.461,     0.595,     0.051,     0.000],\n",
      "       grad_fn=<CopyBackwards>)\n",
      "\n",
      "Latent: tensor([-3.375, -6.272, 11.012], device='cuda:0', grad_fn=<AddBackward0>)\n",
      "\n",
      "Loss: 6.0565080642700195\n",
      "\n",
      "\n",
      "Original:       tensor([0.504, 0.491, 0.548, 0.385, 0.556, 0.507, 0.486, 0.554, 0.368, 0.050, 1.000])\n",
      "Reconstruction: tensor([0.504, 0.495, 0.552, 0.385, 0.564, 0.503, 0.492, 0.559, 0.370, 0.051, 1.000], grad_fn=<CopyBackwards>)\n",
      "\n",
      "Latent: tensor([3.878, 2.486, 3.073], device='cuda:0', grad_fn=<AddBackward0>)\n",
      "\n",
      "Loss: 6.357704162597656\n",
      "\n",
      "\n",
      "Original:       tensor([0.496, 0.508, 0.395, 0.737, 0.102, 0.491, 0.520, 0.355, 0.822, 0.050, 1.000])\n",
      "Reconstruction: tensor([0.495, 0.514, 0.401, 0.726, 0.075, 0.487, 0.527, 0.355, 0.814, 0.050, 1.000], grad_fn=<CopyBackwards>)\n",
      "\n",
      "Latent: tensor([8.092, 2.830, 3.116], device='cuda:0', grad_fn=<AddBackward0>)\n",
      "\n",
      "Loss: 5.671856880187988\n",
      "\n",
      "\n",
      "Original:       tensor([0.501, 0.498, 0.538, 0.412, 0.049, 0.501, 0.497, 0.488, 0.530, 0.050, 0.000])\n",
      "Reconstruction: tensor([    0.501,     0.494,     0.539,     0.415,     0.040,     0.501,     0.497,     0.489,     0.534,     0.051,     0.000],\n",
      "       grad_fn=<CopyBackwards>)\n",
      "\n",
      "Latent: tensor([-4.387, -6.511, 10.716], device='cuda:0', grad_fn=<AddBackward0>)\n",
      "\n",
      "Loss: 5.9199981689453125\n",
      "\n",
      "\n",
      "Original:       tensor([0.502, 0.497, 0.466, 0.578, 0.250, 0.500, 0.501, 0.439, 0.633, 0.050, 0.000])\n",
      "Reconstruction: tensor([    0.500,     0.501,     0.467,     0.575,     0.251,     0.495,     0.506,     0.439,     0.641,     0.051,     0.000],\n",
      "       grad_fn=<CopyBackwards>)\n",
      "\n",
      "Latent: tensor([-2.293, -5.911, 11.144], device='cuda:0', grad_fn=<AddBackward0>)\n",
      "\n",
      "Loss: 6.24833869934082\n",
      "\n",
      "\n"
     ]
    }
   ],
   "source": [
    "torch.set_printoptions(precision=3, sci_mode=False, linewidth=140, profile=None)\n",
    "import random\n",
    "for i in range(5):\n",
    "    k = random.randint(1, 400)\n",
    "    sample = test_data[k].to(device)\n",
    "    x, m, s = vae1(sample)\n",
    "    loss = loss_function(x, sample, m, s)\n",
    "    \n",
    "    x = x.to(\"cpu\")\n",
    "    sample = sample.to(\"cpu\")\n",
    "    \n",
    "    print(f\"Original:       {sample}\")\n",
    "    sample = sample.to(device)\n",
    "    print(f\"Reconstruction: {x}\\n\")\n",
    "    print(f\"Latent: {list(vae1.encode(sample))[0]}\")\n",
    "    print(f\"\\nLoss: {loss}\\n\\n\")\n",
    "    "
   ]
  },
  {
   "cell_type": "code",
   "execution_count": null,
   "metadata": {},
   "outputs": [],
   "source": [
    "sample = Variable(torch.rand(1, 3))"
   ]
  }
 ],
 "metadata": {
  "kernelspec": {
   "display_name": "Python 3",
   "language": "python",
   "name": "python3"
  },
  "language_info": {
   "codemirror_mode": {
    "name": "ipython",
    "version": 3
   },
   "file_extension": ".py",
   "mimetype": "text/x-python",
   "name": "python",
   "nbconvert_exporter": "python",
   "pygments_lexer": "ipython3",
   "version": "3.8.6"
  }
 },
 "nbformat": 4,
 "nbformat_minor": 4
}

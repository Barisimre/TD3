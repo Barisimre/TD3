{
 "cells": [
  {
   "cell_type": "code",
   "execution_count": 1,
   "metadata": {},
   "outputs": [],
   "source": [
    "import torch\n",
    "from torch import nn, optim\n",
    "from torch.nn import functional as F\n",
    "import numpy as np"
   ]
  },
  {
   "cell_type": "code",
   "execution_count": 2,
   "metadata": {},
   "outputs": [],
   "source": [
    "BATCH_SIZE = 128\n",
    "EPOCHS = 50\n",
    "LAYER_SIZE = 30\n",
    "S_LAYER_SIZE = 15\n",
    "LATENT_SIZE = 4"
   ]
  },
  {
   "cell_type": "code",
   "execution_count": 3,
   "metadata": {},
   "outputs": [
    {
     "name": "stdout",
     "output_type": "stream",
     "text": [
      "torch.Size([50000, 12])\n"
     ]
    },
    {
     "data": {
      "text/plain": [
       "12"
      ]
     },
     "execution_count": 3,
     "metadata": {},
     "output_type": "execute_result"
    }
   ],
   "source": [
    "# Load the data from the file\n",
    "\n",
    "saved = np.load(\"testing2.npy\", allow_pickle=True)\n",
    "\n",
    "# Make a trainging and testing batch\n",
    "train_data = torch.Tensor(saved[:int(len(saved)*0.5)])\n",
    "test_data = torch.Tensor(saved[int(len(saved)*0.5):])\n",
    "print(train_data.shape)\n",
    "INPUT_SIZE = len(test_data[0])\n",
    "INPUT_SIZE"
   ]
  },
  {
   "cell_type": "code",
   "execution_count": 4,
   "metadata": {},
   "outputs": [],
   "source": [
    "device = \"cuda\""
   ]
  },
  {
   "cell_type": "code",
   "execution_count": 5,
   "metadata": {},
   "outputs": [],
   "source": [
    "class VAE(nn.Module):\n",
    "    def __init__(self):\n",
    "        super(VAE, self).__init__()\n",
    "        \n",
    "        # Encoder\n",
    "        self.l1 = nn.Linear(INPUT_SIZE, LAYER_SIZE)\n",
    "        self.ltest1 = nn.Linear(LAYER_SIZE, S_LAYER_SIZE)\n",
    "        self.l2a = nn.Linear(S_LAYER_SIZE, LATENT_SIZE)\n",
    "        self.l2b = nn.Linear(S_LAYER_SIZE, LATENT_SIZE)\n",
    "        \n",
    "        # Decoder\n",
    "        self.l3 = nn.Linear(LATENT_SIZE, S_LAYER_SIZE)\n",
    "        self.ltest2 = nn.Linear(S_LAYER_SIZE, LAYER_SIZE)\n",
    "        self.l4 = nn.Linear(LAYER_SIZE, INPUT_SIZE)\n",
    "            \n",
    "    # Run some data through the encoder\n",
    "    def encode(self, x):\n",
    "        out = F.relu(self.l1(x))\n",
    "        out = F.relu(self.ltest1(out))\n",
    "        # return the mu and the sigma\n",
    "        return self.l2a(out), self.l2b(out)\n",
    "    \n",
    "    # The reparameterization trick, taken from https://github.com/pytorch/examples/blob/master/vae/main.py\n",
    "    def reparameterize(self, mu, sigma):\n",
    "        std = torch.exp(0.5*sigma)\n",
    "        eps = torch.randn_like(std)\n",
    "        return mu + eps*std\n",
    "    \n",
    "    def decode(self, x):\n",
    "        out = F.relu(self.l3(x))\n",
    "        out = F.relu(self.ltest2(out))\n",
    "        return torch.sigmoid(self.l4(out)) # sigmoid vs tanh\n",
    "    \n",
    "    def forward(self, x):\n",
    "        # TODO: check the shape of x to be sure we have the right input\n",
    "        mu, sigma = self.encode(x)\n",
    "        z = self.reparameterize(mu, sigma)\n",
    "        # The loss function needs the mu and the sigma so just return them here\n",
    "        return self.decode(z), mu, sigma"
   ]
  },
  {
   "cell_type": "code",
   "execution_count": 6,
   "metadata": {},
   "outputs": [],
   "source": [
    "# Reconstruction + KL divergence losses summed over all elements and batch\n",
    "# Taken from https://github.com/pytorch/examples/blob/master/vae/main.py\n",
    "def loss_function(recon_x, x, mu, sigma):\n",
    "    BCE = F.binary_cross_entropy(recon_x, x, reduction='sum')\n",
    "    KLD = -0.5 * torch.sum(1 + sigma - mu.pow(2) - sigma.exp())\n",
    "    return BCE + KLD"
   ]
  },
  {
   "cell_type": "code",
   "execution_count": 7,
   "metadata": {},
   "outputs": [],
   "source": [
    "def train(e_count, model, optimizer, name, data):\n",
    "    model.train()\n",
    "    train_loss = 0\n",
    "    for i in range(0, len(data), BATCH_SIZE):\n",
    "        batch = data[i:i+BATCH_SIZE].to(device)\n",
    "        model.zero_grad()\n",
    "        recons, mu, sigma = model(batch)\n",
    "        loss = loss_function(recons, batch, mu, sigma)\n",
    "        loss.backward()\n",
    "        train_loss += loss.item()\n",
    "        optimizer.step()\n",
    "        \n",
    "    print(f\"Model: {name}, -- Epoch: {e_count}, Loss: {train_loss/len(data)}\")        \n",
    "        \n",
    "    \n",
    "    "
   ]
  },
  {
   "cell_type": "code",
   "execution_count": 8,
   "metadata": {},
   "outputs": [],
   "source": [
    "# Lets use CPU\n",
    "def test(e_count, model, optimizer):\n",
    "    model.eval()\n",
    "    test_loss = 0\n",
    "    for i in range(0, len(test_data), BATCH_SIZE):\n",
    "        batch = test_data[i:i+BATCH_SIZE].to(device)\n",
    "        recons, mu, sigma = model(batch)\n",
    "        loss = loss_function(recons, batch, mu, sigma)\n",
    "        test_loss += loss.item()\n",
    "    print(f\"TEST Epoch: {e_count}, Loss: {test_loss/len(test_data)}\") \n",
    "        \n",
    "        "
   ]
  },
  {
   "cell_type": "code",
   "execution_count": 9,
   "metadata": {},
   "outputs": [],
   "source": [
    "def get_data(data, balanced, size):\n",
    "    res = []\n",
    "    for d in data:\n",
    "        if d[10] == int(balanced):\n",
    "            res.append(d)\n",
    "        if len(res) == size:\n",
    "            break\n",
    "    return torch.Tensor(res)"
   ]
  },
  {
   "cell_type": "code",
   "execution_count": 10,
   "metadata": {},
   "outputs": [],
   "source": [
    "train_data=train_data[torch.randperm(train_data.size()[0])]\n",
    "\n",
    "\n",
    "balanced = torch.cat((get_data(saved[:int(len(saved)*0.5)], True, 5000), get_data(saved[:int(len(saved)*0.5)], False, 5000)), 0)"
   ]
  },
  {
   "cell_type": "code",
   "execution_count": 11,
   "metadata": {},
   "outputs": [
    {
     "data": {
      "text/plain": [
       "10000"
      ]
     },
     "execution_count": 11,
     "metadata": {},
     "output_type": "execute_result"
    }
   ],
   "source": [
    "len(balanced)"
   ]
  },
  {
   "cell_type": "code",
   "execution_count": 12,
   "metadata": {},
   "outputs": [
    {
     "data": {
      "text/plain": [
       "tensor([[0.5003, 0.4994, 0.5108,  ..., 0.0500, 1.0000, 1.0000],\n",
       "        [0.4998, 0.4998, 0.5004,  ..., 0.0500, 1.0000, 1.0000],\n",
       "        [0.5003, 0.5005, 0.5002,  ..., 0.0500, 1.0000, 1.0000],\n",
       "        ...,\n",
       "        [0.5003, 0.5001, 0.5003,  ..., 0.0500, 0.0000, 0.0000],\n",
       "        [0.4997, 0.5004, 0.5003,  ..., 0.0500, 0.0000, 0.0000],\n",
       "        [0.4997, 0.5004, 0.5003,  ..., 0.0500, 0.0000, 0.0000]])"
      ]
     },
     "execution_count": 12,
     "metadata": {},
     "output_type": "execute_result"
    }
   ],
   "source": [
    "balanced"
   ]
  },
  {
   "cell_type": "code",
   "execution_count": 13,
   "metadata": {},
   "outputs": [],
   "source": [
    "balanced=balanced[torch.randperm(balanced.size()[0])]\n",
    "# SHUFFLE"
   ]
  },
  {
   "cell_type": "code",
   "execution_count": 14,
   "metadata": {},
   "outputs": [
    {
     "data": {
      "text/plain": [
       "tensor([[0.4996, 0.4998, 0.5000,  ..., 0.0500, 0.0000, 0.0000],\n",
       "        [0.5001, 0.5001, 0.4996,  ..., 0.0500, 0.0000, 0.0000],\n",
       "        [0.4999, 0.5001, 0.4997,  ..., 0.0500, 0.0000, 0.0000],\n",
       "        ...,\n",
       "        [0.4999, 0.5002, 0.4996,  ..., 0.0500, 1.0000, 1.0000],\n",
       "        [0.5001, 0.4997, 0.4999,  ..., 0.0500, 0.0000, 0.0000],\n",
       "        [0.5002, 0.4998, 0.4996,  ..., 0.0500, 0.0000, 0.0000]])"
      ]
     },
     "execution_count": 14,
     "metadata": {},
     "output_type": "execute_result"
    }
   ],
   "source": [
    "balanced"
   ]
  },
  {
   "cell_type": "code",
   "execution_count": 15,
   "metadata": {},
   "outputs": [],
   "source": [
    "# TWO DATA SETS, TWO MODELS\n",
    "train_data = train_data[:len(balanced)]\n",
    "\n",
    "vae1 = VAE().to(device)\n",
    "opt1 = optim.Adam(vae1.parameters(), lr=0.001)\n",
    "\n",
    "vae2 = VAE().to(device)\n",
    "opt2 = optim.Adam(vae2.parameters(), lr=0.001)"
   ]
  },
  {
   "cell_type": "code",
   "execution_count": 16,
   "metadata": {},
   "outputs": [
    {
     "name": "stdout",
     "output_type": "stream",
     "text": [
      "Model: unbalanced, -- Epoch: 0, Loss: 7.914503137207031\n",
      "Model: unbalanced, -- Epoch: 1, Loss: 7.40919640045166\n",
      "Model: unbalanced, -- Epoch: 2, Loss: 7.357793789672852\n",
      "Model: unbalanced, -- Epoch: 3, Loss: 7.348363154602051\n",
      "Model: unbalanced, -- Epoch: 4, Loss: 7.321791301727295\n",
      "Model: unbalanced, -- Epoch: 5, Loss: 7.288438598632813\n",
      "Model: unbalanced, -- Epoch: 6, Loss: 7.233796565246582\n",
      "Model: unbalanced, -- Epoch: 7, Loss: 7.169334674072266\n",
      "Model: unbalanced, -- Epoch: 8, Loss: 7.140749060821533\n",
      "Model: unbalanced, -- Epoch: 9, Loss: 7.106517601776123\n",
      "Model: unbalanced, -- Epoch: 10, Loss: 7.079235556793213\n",
      "Model: unbalanced, -- Epoch: 11, Loss: 7.081819658660889\n",
      "Model: unbalanced, -- Epoch: 12, Loss: 7.067290048217774\n",
      "Model: unbalanced, -- Epoch: 13, Loss: 7.064394281768799\n",
      "Model: unbalanced, -- Epoch: 14, Loss: 7.0729996223449705\n",
      "Model: unbalanced, -- Epoch: 15, Loss: 7.055854309844971\n",
      "Model: unbalanced, -- Epoch: 16, Loss: 7.059308688354492\n",
      "Model: unbalanced, -- Epoch: 17, Loss: 7.0726066566467285\n",
      "Model: unbalanced, -- Epoch: 18, Loss: 7.064936227416992\n",
      "Model: unbalanced, -- Epoch: 19, Loss: 7.0581503662109375\n",
      "Model: unbalanced, -- Epoch: 20, Loss: 7.055446055603027\n",
      "Model: unbalanced, -- Epoch: 21, Loss: 7.047520468139648\n",
      "Model: unbalanced, -- Epoch: 22, Loss: 7.048642373657226\n",
      "Model: unbalanced, -- Epoch: 23, Loss: 7.06227897567749\n",
      "Model: unbalanced, -- Epoch: 24, Loss: 7.052967086791992\n",
      "Model: unbalanced, -- Epoch: 25, Loss: 7.051681359100342\n",
      "Model: unbalanced, -- Epoch: 26, Loss: 7.061868978881836\n",
      "Model: unbalanced, -- Epoch: 27, Loss: 7.048064664459228\n",
      "Model: unbalanced, -- Epoch: 28, Loss: 7.047712557983399\n",
      "Model: unbalanced, -- Epoch: 29, Loss: 7.0589749649047855\n",
      "Model: unbalanced, -- Epoch: 30, Loss: 7.049095766448975\n",
      "Model: unbalanced, -- Epoch: 31, Loss: 7.050606027984619\n",
      "Model: unbalanced, -- Epoch: 32, Loss: 7.059576070404053\n",
      "Model: unbalanced, -- Epoch: 33, Loss: 7.052588300323486\n",
      "Model: unbalanced, -- Epoch: 34, Loss: 7.052711865997314\n",
      "Model: unbalanced, -- Epoch: 35, Loss: 7.059031678771973\n",
      "Model: unbalanced, -- Epoch: 36, Loss: 7.063216050720214\n",
      "Model: unbalanced, -- Epoch: 37, Loss: 7.054439608764649\n",
      "Model: unbalanced, -- Epoch: 38, Loss: 7.055307637023926\n",
      "Model: unbalanced, -- Epoch: 39, Loss: 7.0602123764038085\n",
      "Model: unbalanced, -- Epoch: 40, Loss: 7.053319839477539\n",
      "Model: unbalanced, -- Epoch: 41, Loss: 7.046069663238526\n",
      "Model: unbalanced, -- Epoch: 42, Loss: 7.055430634307862\n",
      "Model: unbalanced, -- Epoch: 43, Loss: 7.044489303588867\n",
      "Model: unbalanced, -- Epoch: 44, Loss: 7.059068380737305\n",
      "Model: unbalanced, -- Epoch: 45, Loss: 7.04013736038208\n",
      "Model: unbalanced, -- Epoch: 46, Loss: 7.048648248291015\n",
      "Model: unbalanced, -- Epoch: 47, Loss: 7.06150520324707\n",
      "Model: unbalanced, -- Epoch: 48, Loss: 7.040731969451905\n",
      "Model: unbalanced, -- Epoch: 49, Loss: 7.052772173309326\n"
     ]
    }
   ],
   "source": [
    "for i in range(EPOCHS):\n",
    "    train(i, vae1,opt1, \"unbalanced\", train_data)"
   ]
  },
  {
   "cell_type": "code",
   "execution_count": 17,
   "metadata": {},
   "outputs": [
    {
     "name": "stdout",
     "output_type": "stream",
     "text": [
      "Model: BALANCED, -- Epoch: 0, Loss: 8.112312348937989\n",
      "Model: BALANCED, -- Epoch: 1, Loss: 7.855789385986328\n",
      "Model: BALANCED, -- Epoch: 2, Loss: 7.832775335693359\n",
      "Model: BALANCED, -- Epoch: 3, Loss: 7.829481066131592\n",
      "Model: BALANCED, -- Epoch: 4, Loss: 7.827793279266357\n",
      "Model: BALANCED, -- Epoch: 5, Loss: 7.8244663360595705\n",
      "Model: BALANCED, -- Epoch: 6, Loss: 7.795593988800049\n",
      "Model: BALANCED, -- Epoch: 7, Loss: 7.631918147277832\n",
      "Model: BALANCED, -- Epoch: 8, Loss: 7.5334119132995605\n",
      "Model: BALANCED, -- Epoch: 9, Loss: 7.469767429351807\n",
      "Model: BALANCED, -- Epoch: 10, Loss: 7.393831839752197\n",
      "Model: BALANCED, -- Epoch: 11, Loss: 7.359883326721191\n",
      "Model: BALANCED, -- Epoch: 12, Loss: 7.359900345611572\n",
      "Model: BALANCED, -- Epoch: 13, Loss: 7.356234034729004\n",
      "Model: BALANCED, -- Epoch: 14, Loss: 7.355520979309082\n",
      "Model: BALANCED, -- Epoch: 15, Loss: 7.34039623413086\n",
      "Model: BALANCED, -- Epoch: 16, Loss: 7.343116334533692\n",
      "Model: BALANCED, -- Epoch: 17, Loss: 7.351442469787598\n",
      "Model: BALANCED, -- Epoch: 18, Loss: 7.348505591583252\n",
      "Model: BALANCED, -- Epoch: 19, Loss: 7.349875757598877\n",
      "Model: BALANCED, -- Epoch: 20, Loss: 7.363352798461914\n",
      "Model: BALANCED, -- Epoch: 21, Loss: 7.334351835632324\n",
      "Model: BALANCED, -- Epoch: 22, Loss: 7.335338934326172\n",
      "Model: BALANCED, -- Epoch: 23, Loss: 7.346012776947021\n",
      "Model: BALANCED, -- Epoch: 24, Loss: 7.3585934036254885\n",
      "Model: BALANCED, -- Epoch: 25, Loss: 7.350965446472168\n",
      "Model: BALANCED, -- Epoch: 26, Loss: 7.34264711227417\n",
      "Model: BALANCED, -- Epoch: 27, Loss: 7.347652982330322\n",
      "Model: BALANCED, -- Epoch: 28, Loss: 7.342658371734619\n",
      "Model: BALANCED, -- Epoch: 29, Loss: 7.363399091339112\n",
      "Model: BALANCED, -- Epoch: 30, Loss: 7.347780731964112\n",
      "Model: BALANCED, -- Epoch: 31, Loss: 7.344106589508057\n",
      "Model: BALANCED, -- Epoch: 32, Loss: 7.342888107299805\n",
      "Model: BALANCED, -- Epoch: 33, Loss: 7.349576680755615\n",
      "Model: BALANCED, -- Epoch: 34, Loss: 7.348743358612061\n",
      "Model: BALANCED, -- Epoch: 35, Loss: 7.358944959259033\n",
      "Model: BALANCED, -- Epoch: 36, Loss: 7.349707984924317\n",
      "Model: BALANCED, -- Epoch: 37, Loss: 7.346919567108154\n",
      "Model: BALANCED, -- Epoch: 38, Loss: 7.349599912261963\n",
      "Model: BALANCED, -- Epoch: 39, Loss: 7.340374899291993\n",
      "Model: BALANCED, -- Epoch: 40, Loss: 7.346036811828613\n",
      "Model: BALANCED, -- Epoch: 41, Loss: 7.361270935821533\n",
      "Model: BALANCED, -- Epoch: 42, Loss: 7.350539726257324\n",
      "Model: BALANCED, -- Epoch: 43, Loss: 7.3451411834716795\n",
      "Model: BALANCED, -- Epoch: 44, Loss: 7.347880377197265\n",
      "Model: BALANCED, -- Epoch: 45, Loss: 7.341086581420899\n",
      "Model: BALANCED, -- Epoch: 46, Loss: 7.343461618804931\n",
      "Model: BALANCED, -- Epoch: 47, Loss: 7.342641344451904\n",
      "Model: BALANCED, -- Epoch: 48, Loss: 7.359315319824219\n",
      "Model: BALANCED, -- Epoch: 49, Loss: 7.349751782989502\n"
     ]
    }
   ],
   "source": [
    "for i in range(EPOCHS):\n",
    "    train(i, vae2,opt2, \"BALANCED\" ,balanced)"
   ]
  },
  {
   "cell_type": "code",
   "execution_count": 18,
   "metadata": {},
   "outputs": [],
   "source": [
    "# Shuffle test data\n",
    "test_data=test_data[torch.randperm(test_data.size()[0])]\n",
    "\n",
    "ex_done = None\n",
    "ex_notdone = None\n",
    "for a in test_data:\n",
    "    if a[10] == 1:\n",
    "        ex_done = a\n",
    "        break\n",
    "\n",
    "for a in test_data:\n",
    "    if a[10] == 0:\n",
    "        ex_notdone = a\n",
    "        break"
   ]
  },
  {
   "cell_type": "code",
   "execution_count": 19,
   "metadata": {},
   "outputs": [
    {
     "data": {
      "text/plain": [
       "tensor(1.)"
      ]
     },
     "execution_count": 19,
     "metadata": {},
     "output_type": "execute_result"
    }
   ],
   "source": [
    "ex_done[10]"
   ]
  },
  {
   "cell_type": "code",
   "execution_count": 20,
   "metadata": {},
   "outputs": [
    {
     "data": {
      "text/plain": [
       "tensor(0.9674, device='cuda:0', grad_fn=<SelectBackward>)"
      ]
     },
     "execution_count": 20,
     "metadata": {},
     "output_type": "execute_result"
    }
   ],
   "source": [
    "list(vae1(ex_done.to(\"cuda\")))[0][10]"
   ]
  },
  {
   "cell_type": "code",
   "execution_count": 21,
   "metadata": {},
   "outputs": [
    {
     "data": {
      "text/plain": [
       "tensor(0.9980, device='cuda:0', grad_fn=<SelectBackward>)"
      ]
     },
     "execution_count": 21,
     "metadata": {},
     "output_type": "execute_result"
    }
   ],
   "source": [
    "list(vae2(ex_done.to(\"cuda\")))[0][10]"
   ]
  },
  {
   "cell_type": "code",
   "execution_count": 22,
   "metadata": {},
   "outputs": [
    {
     "data": {
      "text/plain": [
       "tensor(0.)"
      ]
     },
     "execution_count": 22,
     "metadata": {},
     "output_type": "execute_result"
    }
   ],
   "source": [
    "ex_notdone[10]"
   ]
  },
  {
   "cell_type": "code",
   "execution_count": 23,
   "metadata": {},
   "outputs": [
    {
     "data": {
      "text/plain": [
       "tensor(8.8627e-08, device='cuda:0', grad_fn=<SelectBackward>)"
      ]
     },
     "execution_count": 23,
     "metadata": {},
     "output_type": "execute_result"
    }
   ],
   "source": [
    "list(vae1(ex_notdone.to(\"cuda\")))[0][10]"
   ]
  },
  {
   "cell_type": "code",
   "execution_count": 24,
   "metadata": {},
   "outputs": [
    {
     "data": {
      "text/plain": [
       "tensor(0.0098, device='cuda:0', grad_fn=<SelectBackward>)"
      ]
     },
     "execution_count": 24,
     "metadata": {},
     "output_type": "execute_result"
    }
   ],
   "source": [
    "list(vae2(ex_notdone.to(\"cuda\")))[0][10]"
   ]
  },
  {
   "cell_type": "code",
   "execution_count": 25,
   "metadata": {},
   "outputs": [
    {
     "name": "stdout",
     "output_type": "stream",
     "text": [
      "50.0\n"
     ]
    }
   ],
   "source": [
    "count = 0\n",
    "for d in balanced:\n",
    "    if d[10] == 1:\n",
    "        count += 1\n",
    "print((count/len(train_data))*100)"
   ]
  },
  {
   "cell_type": "code",
   "execution_count": 26,
   "metadata": {},
   "outputs": [
    {
     "name": "stdout",
     "output_type": "stream",
     "text": [
      "17.46\n"
     ]
    }
   ],
   "source": [
    "count = 0\n",
    "for d in train_data:\n",
    "    if d[10] == 1:\n",
    "        count += 1\n",
    "print((count/len(train_data))*100)"
   ]
  },
  {
   "cell_type": "code",
   "execution_count": 27,
   "metadata": {},
   "outputs": [
    {
     "data": {
      "text/plain": [
       "tensor(0.7629, device='cuda:0', grad_fn=<SelectBackward>)"
      ]
     },
     "execution_count": 27,
     "metadata": {},
     "output_type": "execute_result"
    }
   ],
   "source": [
    "list(vae2(ex_done.to(\"cuda\")))[0][10]"
   ]
  },
  {
   "cell_type": "code",
   "execution_count": 28,
   "metadata": {},
   "outputs": [
    {
     "data": {
      "text/plain": [
       "tensor(0.0045, device='cuda:0', grad_fn=<SelectBackward>)"
      ]
     },
     "execution_count": 28,
     "metadata": {},
     "output_type": "execute_result"
    }
   ],
   "source": [
    "list(vae2(ex_notdone.to(\"cuda\")))[0][10]"
   ]
  },
  {
   "cell_type": "code",
   "execution_count": 29,
   "metadata": {},
   "outputs": [],
   "source": [
    "from torch.autograd import Variable"
   ]
  },
  {
   "cell_type": "code",
   "execution_count": 30,
   "metadata": {},
   "outputs": [],
   "source": [
    "sample = Variable(torch.randn(2, LATENT_SIZE))"
   ]
  },
  {
   "cell_type": "code",
   "execution_count": 31,
   "metadata": {},
   "outputs": [],
   "source": [
    "res = vae2.decode(sample.to(\"cuda\"))"
   ]
  },
  {
   "cell_type": "code",
   "execution_count": 32,
   "metadata": {},
   "outputs": [
    {
     "data": {
      "text/plain": [
       "tensor([[0.5005, 0.4993, 0.4999, 0.4994, 0.4881, 0.4986, 0.5009, 0.4987, 0.5089,\n",
       "         0.0523, 0.0026, 0.0027],\n",
       "        [0.5011, 0.4997, 0.5001, 0.5005, 0.5171, 0.4965, 0.4988, 0.5035, 0.4967,\n",
       "         0.0554, 0.9997, 0.9997]], device='cuda:0', grad_fn=<SigmoidBackward>)"
      ]
     },
     "execution_count": 32,
     "metadata": {},
     "output_type": "execute_result"
    }
   ],
   "source": [
    "res"
   ]
  },
  {
   "cell_type": "code",
   "execution_count": 33,
   "metadata": {},
   "outputs": [
    {
     "name": "stdout",
     "output_type": "stream",
     "text": [
      "UNBALANCED DATASET\n",
      "counts of intervals: [0, 0.1]: 7686, [0.1, 0.7]: 587, [0.7, 1]: 1727\n",
      "-- so the ratio to done and not done (deleting the middle ones) is 0.18346966960586422\n",
      "The real ration is 0.17494\n"
     ]
    }
   ],
   "source": [
    "res = [0, 0, 0]\n",
    "k = []\n",
    "for i in range(10000):\n",
    "    sample = Variable(torch.randn(1, LATENT_SIZE))\n",
    "    a = vae1.decode(sample.to(\"cuda\"))[0]\n",
    "    num = float(sum(list(a[10:])))\n",
    "    k.append(num)\n",
    "    if num < 0.2:\n",
    "        res[0] += 1\n",
    "    elif num <= 0.7:\n",
    "        res[1] += 1\n",
    "    else:\n",
    "        res[2] += 1\n",
    "        \n",
    "d = 0\n",
    "nd = 0\n",
    "\n",
    "for a in test_data:\n",
    "    if a[10] == 1:\n",
    "        d += 1\n",
    "    else:\n",
    "        nd += 1\n",
    "        \n",
    "        \n",
    "print(f\"UNBALANCED DATASET\")\n",
    "print(f\"counts of intervals: [0, 0.1]: {res[0]}, [0.1, 0.7]: {res[1]}, [0.7, 1]: {res[2]}\")\n",
    "print(f\"-- so the ratio to done and not done (deleting the middle ones) is {res[2]/(res[2]+res[0])}\")\n",
    "print(f\"The real ration is {d/(nd+d)}\")"
   ]
  },
  {
   "cell_type": "code",
   "execution_count": null,
   "metadata": {},
   "outputs": [],
   "source": []
  },
  {
   "cell_type": "code",
   "execution_count": 34,
   "metadata": {},
   "outputs": [],
   "source": [
    "import gym\n",
    "env = gym.make(\"InvertedPendulum-v2\")\n",
    "env.reset()\n",
    "state_dim = env.observation_space.shape[0]\n",
    "action_dim = env.action_space.shape[0] \n",
    "action_low = env.action_space.low[0]\n",
    "action_high = env.action_space.high[0]\n",
    "state_low = -10.0\n",
    "state_high = 10.0"
   ]
  },
  {
   "cell_type": "code",
   "execution_count": 35,
   "metadata": {},
   "outputs": [],
   "source": [
    "def descale(x):\n",
    "    # State\n",
    "    ((x[:, 0].mul_(state_high-state_low)).add_(state_low)).to(device)\n",
    "    ((x[:, 1].mul_(state_high-state_low)).add_(state_low)).to(device)\n",
    "    ((x[:, 2].mul_(state_high-state_low)).add_(state_low)).to(device)\n",
    "    ((x[:, 3].mul_(state_high-state_low)).add_(state_low)).to(device)\n",
    "\n",
    "    # Action\n",
    "    ((x[:, 4].mul_(action_high-action_low)).add_(action_low)).to(device)\n",
    "    \n",
    "    # State\n",
    "    ((x[:, 5].mul_(state_high-state_low)).add_(state_low)).to(device)\n",
    "    ((x[:, 6].mul_(state_high-state_low)).add_(state_low)).to(device)\n",
    "    ((x[:, 7].mul_(state_high-state_low)).add_(state_low)).to(device)\n",
    "    ((x[:, 8].mul_(state_high-state_low)).add_(state_low)).to(device)\n",
    "    \n",
    "    # Reward\n",
    "    (x[:, 9].mul_(20.0)).to(device)\n",
    "    \n",
    "    # Done\n",
    "    (x[:, 10].round_()).to(device)\n",
    "    \n",
    "    return x"
   ]
  },
  {
   "cell_type": "code",
   "execution_count": 36,
   "metadata": {},
   "outputs": [
    {
     "data": {
      "text/plain": [
       "tensor(0.0026, device='cuda:0', grad_fn=<SelectBackward>)"
      ]
     },
     "execution_count": 36,
     "metadata": {},
     "output_type": "execute_result"
    }
   ],
   "source": [
    "sample = Variable(torch.randn(2, LATENT_SIZE)).cuda()\n",
    "x = vae1.decode(sample)\n",
    "x[0][10]"
   ]
  },
  {
   "cell_type": "code",
   "execution_count": 37,
   "metadata": {},
   "outputs": [],
   "source": [
    "x = descale(x)"
   ]
  },
  {
   "cell_type": "code",
   "execution_count": 38,
   "metadata": {},
   "outputs": [
    {
     "data": {
      "text/plain": [
       "tensor(0., device='cuda:0', grad_fn=<SelectBackward>)"
      ]
     },
     "execution_count": 38,
     "metadata": {},
     "output_type": "execute_result"
    }
   ],
   "source": [
    "x[0][10]"
   ]
  },
  {
   "cell_type": "code",
   "execution_count": null,
   "metadata": {},
   "outputs": [],
   "source": []
  },
  {
   "cell_type": "code",
   "execution_count": null,
   "metadata": {},
   "outputs": [],
   "source": []
  }
 ],
 "metadata": {
  "kernelspec": {
   "display_name": "Python 3",
   "language": "python",
   "name": "python3"
  },
  "language_info": {
   "codemirror_mode": {
    "name": "ipython",
    "version": 3
   },
   "file_extension": ".py",
   "mimetype": "text/x-python",
   "name": "python",
   "nbconvert_exporter": "python",
   "pygments_lexer": "ipython3",
   "version": "3.8.6"
  }
 },
 "nbformat": 4,
 "nbformat_minor": 4
}

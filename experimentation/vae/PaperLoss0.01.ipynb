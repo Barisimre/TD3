{
 "cells": [
  {
   "cell_type": "code",
   "execution_count": 1,
   "metadata": {},
   "outputs": [],
   "source": [
    "import torch\n",
    "from torch import nn, optim\n",
    "from torch.nn import functional as F\n",
    "import numpy as np"
   ]
  },
  {
   "cell_type": "code",
   "execution_count": 2,
   "metadata": {},
   "outputs": [],
   "source": [
    "BATCH_SIZE = 128\n",
    "EPOCHS = 30\n",
    "S_LAYER_SIZE = 10\n",
    "LATENT_SIZE = 3\n",
    "C = 0.01"
   ]
  },
  {
   "cell_type": "code",
   "execution_count": 3,
   "metadata": {},
   "outputs": [
    {
     "name": "stdout",
     "output_type": "stream",
     "text": [
      "torch.Size([50000, 11])\n"
     ]
    }
   ],
   "source": [
    "# Load the data from the file\n",
    "\n",
    "saved = np.load(\"testing.npy\", allow_pickle=True)\n",
    "\n",
    "# Make a trainging and testing batch\n",
    "train_data = torch.Tensor(saved[:int(len(saved)*0.5)])\n",
    "test_data = torch.Tensor(saved[int(len(saved)*0.5):])\n",
    "print(train_data.shape)\n",
    "INPUT_SIZE = len(test_data[0])\n",
    "INPUT_SIZE\n",
    "\n",
    "torch.set_printoptions(linewidth=140)"
   ]
  },
  {
   "cell_type": "code",
   "execution_count": 4,
   "metadata": {},
   "outputs": [],
   "source": [
    "device = \"cuda\""
   ]
  },
  {
   "cell_type": "code",
   "execution_count": 5,
   "metadata": {},
   "outputs": [],
   "source": [
    "class VAE(nn.Module):\n",
    "    def __init__(self):\n",
    "        super(VAE, self).__init__()\n",
    "        \n",
    "        # Encoder\n",
    "        self.l1 = nn.Linear(INPUT_SIZE, S_LAYER_SIZE)\n",
    "        self.l2a = nn.Linear(S_LAYER_SIZE, LATENT_SIZE)\n",
    "        self.l2b = nn.Linear(S_LAYER_SIZE, LATENT_SIZE)\n",
    "        \n",
    "        # Decoder\n",
    "        self.l3 = nn.Linear(LATENT_SIZE, S_LAYER_SIZE)\n",
    "        self.l4 = nn.Linear(S_LAYER_SIZE, INPUT_SIZE)\n",
    "            \n",
    "    # Run some data through the encoder\n",
    "    def encode(self, x):\n",
    "        x = F.relu(self.l1(x))\n",
    "\n",
    "        # return the mu and the sigma\n",
    "        return self.l2a(x), self.l2b(x)\n",
    "    \n",
    "    # The reparameterization trick, taken from https://github.com/pytorch/examples/blob/master/vae/main.py\n",
    "    def reparameterize(self, mu, sigma):\n",
    "        std = torch.exp(0.5*sigma)\n",
    "        eps = torch.randn_like(std)\n",
    "        return mu + eps*std\n",
    "    \n",
    "    def decode(self, x):\n",
    "        x = F.relu(self.l3(x))\n",
    "\n",
    "        return torch.sigmoid(self.l4(x)) # sigmoid vs tanh\n",
    "    \n",
    "    def forward(self, x):\n",
    "        # TODO: check the shape of x to be sure we have the right input\n",
    "        mu, sigma = self.encode(x)\n",
    "        z = self.reparameterize(mu, sigma)\n",
    "        # The loss function needs the mu and the sigma so just return them here\n",
    "        return self.decode(z), mu, sigma"
   ]
  },
  {
   "cell_type": "code",
   "execution_count": 6,
   "metadata": {},
   "outputs": [],
   "source": [
    "# Reconstruction + KL divergence losses summed over all elements and batch\n",
    "# Taken from https://github.com/pytorch/examples/blob/master/vae/main.py\n",
    "def loss_function(recon_x, x, mu, sigma):\n",
    "    BCE = F.binary_cross_entropy(recon_x, x, reduction='sum')\n",
    "    KLD = -0.5 * torch.sum(1 + sigma - mu.pow(2) - sigma.exp())\n",
    "    return BCE + C*KLD"
   ]
  },
  {
   "cell_type": "code",
   "execution_count": 7,
   "metadata": {},
   "outputs": [],
   "source": [
    "def train(e_count, model, optimizer):\n",
    "    data = train_data\n",
    "    model.train()\n",
    "    train_loss = 0\n",
    "    for i in range(0, len(data), BATCH_SIZE):\n",
    "        batch = data[i:i+BATCH_SIZE].to(device)\n",
    "        model.zero_grad()\n",
    "        recons, mu, sigma = model(batch)\n",
    "        loss = loss_function(recons, batch, mu, sigma)\n",
    "        loss.backward()\n",
    "        train_loss += loss.item()\n",
    "        optimizer.step()\n",
    "        \n",
    "    print(f\"Epoch: {e_count}, Loss: {train_loss/len(data)}\")        \n",
    "        \n",
    "    \n",
    "    "
   ]
  },
  {
   "cell_type": "code",
   "execution_count": 8,
   "metadata": {},
   "outputs": [],
   "source": [
    "# Lets use CPU\n",
    "def test(e_count, model, optimizer):\n",
    "    model.eval()\n",
    "    test_loss = 0\n",
    "    for i in range(0, len(test_data), BATCH_SIZE):\n",
    "        batch = test_data[i:i+BATCH_SIZE].to(device)\n",
    "        recons, mu, sigma = model(batch)\n",
    "        loss = loss_function(recons, batch, mu, sigma)\n",
    "        test_loss += loss.item()\n",
    "    print(f\"TEST Epoch: {e_count}, Loss: {test_loss/len(test_data)}\") \n",
    "        \n",
    "        "
   ]
  },
  {
   "cell_type": "code",
   "execution_count": 9,
   "metadata": {},
   "outputs": [],
   "source": [
    "train_data=train_data[torch.randperm(train_data.size()[0])]\n",
    "test_data=test_data[torch.randperm(test_data.size()[0])]"
   ]
  },
  {
   "cell_type": "code",
   "execution_count": 10,
   "metadata": {},
   "outputs": [],
   "source": [
    "vae1 = VAE().to(device)\n",
    "opt1 = optim.Adam(vae1.parameters(), lr=0.001)"
   ]
  },
  {
   "cell_type": "code",
   "execution_count": 11,
   "metadata": {},
   "outputs": [
    {
     "name": "stdout",
     "output_type": "stream",
     "text": [
      "Epoch: 0, Loss: 7.100700430908203\n",
      "Epoch: 1, Loss: 6.711715723876953\n",
      "Epoch: 2, Loss: 6.498168917236328\n",
      "Epoch: 3, Loss: 6.398416654052735\n",
      "Epoch: 4, Loss: 6.355473294677735\n",
      "Epoch: 5, Loss: 6.341589892578125\n",
      "Epoch: 6, Loss: 6.333974140014648\n",
      "Epoch: 7, Loss: 6.329902810058594\n",
      "Epoch: 8, Loss: 6.3269571075439455\n",
      "Epoch: 9, Loss: 6.3248531140136715\n",
      "Epoch: 10, Loss: 6.322417087402344\n",
      "Epoch: 11, Loss: 6.318987869873047\n",
      "Epoch: 12, Loss: 6.315500420532227\n",
      "Epoch: 13, Loss: 6.31251103149414\n",
      "Epoch: 14, Loss: 6.310305969848633\n",
      "Epoch: 15, Loss: 6.309464558105469\n",
      "Epoch: 16, Loss: 6.30842286315918\n",
      "Epoch: 17, Loss: 6.307715979614258\n",
      "Epoch: 18, Loss: 6.307060305786133\n",
      "Epoch: 19, Loss: 6.3064941284179685\n",
      "Epoch: 20, Loss: 6.305698748168945\n",
      "Epoch: 21, Loss: 6.305579658203125\n",
      "Epoch: 22, Loss: 6.30524327758789\n",
      "Epoch: 23, Loss: 6.304734040527344\n",
      "Epoch: 24, Loss: 6.304510939331054\n",
      "Epoch: 25, Loss: 6.304184698486329\n",
      "Epoch: 26, Loss: 6.303925590820312\n",
      "Epoch: 27, Loss: 6.303760656127929\n",
      "Epoch: 28, Loss: 6.3034058984375\n",
      "Epoch: 29, Loss: 6.303187295532227\n"
     ]
    }
   ],
   "source": [
    "for i in range(EPOCHS):\n",
    "    train(i, vae1, opt1)"
   ]
  },
  {
   "cell_type": "code",
   "execution_count": 12,
   "metadata": {},
   "outputs": [],
   "source": [
    "import gym\n",
    "env = gym.make(\"InvertedPendulum-v2\")\n",
    "env.reset()\n",
    "state_dim = env.observation_space.shape[0]\n",
    "action_dim = env.action_space.shape[0] \n",
    "action_low = env.action_space.low[0]\n",
    "action_high = env.action_space.high[0]\n",
    "state_low = -10.0\n",
    "state_high = 10.0"
   ]
  },
  {
   "cell_type": "code",
   "execution_count": 13,
   "metadata": {},
   "outputs": [],
   "source": [
    "def descale(x):\n",
    "    # State\n",
    "    ((x[:, 0].mul_(state_high-state_low)).add_(state_low)).to(device)\n",
    "    ((x[:, 1].mul_(state_high-state_low)).add_(state_low)).to(device)\n",
    "    ((x[:, 2].mul_(state_high-state_low)).add_(state_low)).to(device)\n",
    "    ((x[:, 3].mul_(state_high-state_low)).add_(state_low)).to(device)\n",
    "\n",
    "    # Action\n",
    "    ((x[:, 4].mul_(action_high-action_low)).add_(action_low)).to(device)\n",
    "    \n",
    "    # State\n",
    "    ((x[:, 5].mul_(state_high-state_low)).add_(state_low)).to(device)\n",
    "    ((x[:, 6].mul_(state_high-state_low)).add_(state_low)).to(device)\n",
    "    ((x[:, 7].mul_(state_high-state_low)).add_(state_low)).to(device)\n",
    "    ((x[:, 8].mul_(state_high-state_low)).add_(state_low)).to(device)\n",
    "    \n",
    "    # Reward\n",
    "    (x[:, 9].mul_(20.0)).to(device)\n",
    "    \n",
    "    # Done\n",
    "    (x[:, 10].round_()).to(device)\n",
    "    \n",
    "    return x"
   ]
  },
  {
   "cell_type": "code",
   "execution_count": 14,
   "metadata": {},
   "outputs": [
    {
     "name": "stdout",
     "output_type": "stream",
     "text": [
      "Action\n",
      "tensor(0.4590, device='cuda:0')\n",
      "tensor(0.4997, device='cuda:0', grad_fn=<SelectBackward>) \n",
      "\n",
      "tensor(0.2948, device='cuda:0')\n",
      "tensor(0.5004, device='cuda:0', grad_fn=<SelectBackward>) \n",
      "\n",
      "tensor(0.7476, device='cuda:0')\n",
      "tensor(0.5001, device='cuda:0', grad_fn=<SelectBackward>) \n",
      "\n",
      "tensor(0.0863, device='cuda:0')\n",
      "tensor(0.4997, device='cuda:0', grad_fn=<SelectBackward>) \n",
      "\n",
      "tensor(0.6405, device='cuda:0')\n",
      "tensor(0.4997, device='cuda:0', grad_fn=<SelectBackward>) \n",
      "\n",
      "tensor(0.8802, device='cuda:0')\n",
      "tensor(0.5024, device='cuda:0', grad_fn=<SelectBackward>) \n",
      "\n",
      "tensor(0.7082, device='cuda:0')\n",
      "tensor(0.5026, device='cuda:0', grad_fn=<SelectBackward>) \n",
      "\n",
      "tensor(0.9182, device='cuda:0')\n",
      "tensor(0.4998, device='cuda:0', grad_fn=<SelectBackward>) \n",
      "\n",
      "tensor(0.8108, device='cuda:0')\n",
      "tensor(0.4997, device='cuda:0', grad_fn=<SelectBackward>) \n",
      "\n",
      "tensor(0.8838, device='cuda:0')\n",
      "tensor(0.5008, device='cuda:0', grad_fn=<SelectBackward>) \n",
      "\n"
     ]
    }
   ],
   "source": [
    "from torch.autograd import Variable\n",
    "\n",
    "print(\"Action\")\n",
    "for i in range(10):\n",
    "    sample = torch.FloatTensor(2, 11).uniform_(0, 1).to(\"cuda\")\n",
    "    print(sample[0][5])\n",
    "    x = vae1(sample)\n",
    "    print(x[0][0][5], '\\n')"
   ]
  },
  {
   "cell_type": "code",
   "execution_count": 15,
   "metadata": {},
   "outputs": [
    {
     "name": "stdout",
     "output_type": "stream",
     "text": [
      "Reward\n",
      "tensor(0.0998, device='cuda:0')\n",
      "tensor(0.0519, device='cuda:0', grad_fn=<SelectBackward>) \n",
      "\n",
      "tensor(0.0248, device='cuda:0')\n",
      "tensor(0.0537, device='cuda:0', grad_fn=<SelectBackward>) \n",
      "\n",
      "tensor(0.1115, device='cuda:0')\n",
      "tensor(0.0534, device='cuda:0', grad_fn=<SelectBackward>) \n",
      "\n",
      "tensor(0.1046, device='cuda:0')\n",
      "tensor(0.0514, device='cuda:0', grad_fn=<SelectBackward>) \n",
      "\n",
      "tensor(0.1017, device='cuda:0')\n",
      "tensor(0.0502, device='cuda:0', grad_fn=<SelectBackward>) \n",
      "\n",
      "tensor(0.1321, device='cuda:0')\n",
      "tensor(0.0538, device='cuda:0', grad_fn=<SelectBackward>) \n",
      "\n",
      "tensor(0.0202, device='cuda:0')\n",
      "tensor(0.0515, device='cuda:0', grad_fn=<SelectBackward>) \n",
      "\n",
      "tensor(0.1210, device='cuda:0')\n",
      "tensor(0.0547, device='cuda:0', grad_fn=<SelectBackward>) \n",
      "\n",
      "tensor(0.0011, device='cuda:0')\n",
      "tensor(0.0518, device='cuda:0', grad_fn=<SelectBackward>) \n",
      "\n",
      "tensor(0.0983, device='cuda:0')\n",
      "tensor(0.0544, device='cuda:0', grad_fn=<SelectBackward>) \n",
      "\n"
     ]
    }
   ],
   "source": [
    "print(\"Reward\")\n",
    "for i in range(10):\n",
    "    sample = torch.FloatTensor(2, 11).uniform_(0, 0.15).to(\"cuda\")\n",
    "    print(sample[0][9])\n",
    "    x = vae1(sample)\n",
    "    print(x[0][0][9], '\\n')"
   ]
  },
  {
   "cell_type": "code",
   "execution_count": 16,
   "metadata": {},
   "outputs": [
    {
     "name": "stdout",
     "output_type": "stream",
     "text": [
      "Original:       tensor([0.499, 0.502, 0.473, 0.564, 0.822, 0.499, 0.502, 0.508, 0.480, 0.050, 0.000])\n",
      "Reconstruction: tensor([    0.500,     0.500,     0.497,     0.509,     0.912,     0.501,     0.498,     0.547,     0.393,     0.050,     0.000],\n",
      "       grad_fn=<CopyBackwards>)\n",
      "\n",
      "Latent: tensor([ 0.284, -0.115, -1.470], device='cuda:0', grad_fn=<AddBackward0>)\n",
      "\n",
      "Loss: 6.2857561111450195\n",
      "\n",
      "\n",
      "Original:       tensor([0.502, 0.497, 0.552, 0.388, 0.298, 0.504, 0.493, 0.529, 0.443, 0.050, 0.000])\n",
      "Reconstruction: tensor([    0.500,     0.499,     0.501,     0.500,     0.300,     0.500,     0.500,     0.483,     0.542,     0.050,     0.000],\n",
      "       grad_fn=<CopyBackwards>)\n",
      "\n",
      "Latent: tensor([ 1.324, -1.408, -1.058], device='cuda:0', grad_fn=<AddBackward0>)\n",
      "\n",
      "Loss: 6.394386291503906\n",
      "\n",
      "\n",
      "Original:       tensor([0.501, 0.496, 0.508, 0.465, 0.067, 0.501, 0.497, 0.461, 0.573, 0.050, 0.000])\n",
      "Reconstruction: tensor([    0.500,     0.498,     0.503,     0.496,     0.075,     0.500,     0.501,     0.450,     0.619,     0.050,     0.000],\n",
      "       grad_fn=<CopyBackwards>)\n",
      "\n",
      "Latent: tensor([1.473, 0.502, 0.469], device='cuda:0', grad_fn=<AddBackward0>)\n",
      "\n",
      "Loss: 6.011176586151123\n",
      "\n",
      "\n",
      "Original:       tensor([0.502, 0.495, 0.552, 0.378, 0.017, 0.503, 0.492, 0.499, 0.501, 0.050, 0.000])\n",
      "Reconstruction: tensor([    0.500,     0.498,     0.503,     0.496,     0.086,     0.500,     0.501,     0.453,     0.612,     0.050,     0.000],\n",
      "       grad_fn=<CopyBackwards>)\n",
      "\n",
      "Latent: tensor([ 1.541, -0.365, -1.158], device='cuda:0', grad_fn=<AddBackward0>)\n",
      "\n",
      "Loss: 5.932740688323975\n",
      "\n",
      "\n",
      "Original:       tensor([0.495, 0.506, 0.417, 0.670, 0.285, 0.491, 0.514, 0.395, 0.718, 0.050, 1.000])\n",
      "Reconstruction: tensor([0.500, 0.501, 0.498, 0.503, 0.548, 0.500, 0.500, 0.502, 0.494, 0.049, 1.000], grad_fn=<CopyBackwards>)\n",
      "\n",
      "Latent: tensor([-1.295, -1.552,  0.715], device='cuda:0', grad_fn=<AddBackward0>)\n",
      "\n",
      "Loss: 6.5112128257751465\n",
      "\n",
      "\n"
     ]
    }
   ],
   "source": [
    "torch.set_printoptions(precision=3, sci_mode=False, linewidth=140, profile=None)\n",
    "import random\n",
    "for i in range(5):\n",
    "    k = random.randint(1, 400)\n",
    "    sample = test_data[k].to(device)\n",
    "    x, m, s = vae1(sample)\n",
    "    loss = loss_function(x, sample, m, s)\n",
    "    \n",
    "    x = x.to(\"cpu\")\n",
    "    sample = sample.to(\"cpu\")\n",
    "    \n",
    "    print(f\"Original:       {sample}\")\n",
    "    sample = sample.to(device)\n",
    "    print(f\"Reconstruction: {x}\\n\")\n",
    "    torch.set_printoptions(precision=3, sci_mode=False, linewidth=140, profile=\"short\")\n",
    "    print(f\"Latent: {vae1.reparameterize(list(vae1.encode(sample))[0], list(vae1.encode(sample))[1])}\")\n",
    "    print(f\"\\nLoss: {loss}\\n\\n\")\n",
    "    "
   ]
  },
  {
   "cell_type": "code",
   "execution_count": 17,
   "metadata": {},
   "outputs": [],
   "source": [
    "sample = Variable(torch.rand(1, 3))"
   ]
  },
  {
   "cell_type": "code",
   "execution_count": 18,
   "metadata": {},
   "outputs": [],
   "source": [
    "latents = []\n",
    "\n",
    "for i in range(300):\n",
    "    k = random.randint(1, 6000)\n",
    "    sample = test_data[k].to(device)\n",
    "    l = vae1.reparameterize(list(vae1.encode(sample))[0], list(vae1.encode(sample))[1])\n",
    "    latents.append([i.item() for i in l])\n",
    "    \n",
    "np.save(f\"Latents/latent{C}\", latents)\n",
    "    "
   ]
  },
  {
   "cell_type": "code",
   "execution_count": 19,
   "metadata": {},
   "outputs": [
    {
     "name": "stdout",
     "output_type": "stream",
     "text": [
      "UNBALANCED DATASET\n",
      "counts of intervals: [0, 0.1]: 6891, [0.1, 0.7]: 121, [0.7, 1]: 2988\n",
      "-- so the ratio to done and not done (deleting the middle ones) is 0.3024597631339204\n",
      "The real ration is 0.17664\n"
     ]
    }
   ],
   "source": [
    "res = [0, 0, 0]\n",
    "k = []\n",
    "for i in range(10000):\n",
    "    sample = Variable(torch.randn(1, LATENT_SIZE))\n",
    "    a = vae1.decode(sample.to(\"cuda\"))[0]\n",
    "    num = float(sum(list(a[10:])))\n",
    "    k.append(num)\n",
    "    if num < 0.5:\n",
    "        res[0] += 1\n",
    "    elif num <0.6:\n",
    "        res[1] += 1\n",
    "    else:\n",
    "        res[2] += 1\n",
    "        \n",
    "d = 0\n",
    "nd = 0\n",
    "\n",
    "for a in test_data:\n",
    "    if a[10] == 1:\n",
    "        d += 1\n",
    "    else:\n",
    "        nd += 1\n",
    "        \n",
    "        \n",
    "print(f\"UNBALANCED DATASET\")\n",
    "print(f\"counts of intervals: [0, 0.1]: {res[0]}, [0.1, 0.7]: {res[1]}, [0.7, 1]: {res[2]}\")\n",
    "print(f\"-- so the ratio to done and not done (deleting the middle ones) is {res[2]/(res[2]+res[0])}\")\n",
    "print(f\"The real ration is {d/(nd+d)}\")"
   ]
  },
  {
   "cell_type": "code",
   "execution_count": 20,
   "metadata": {},
   "outputs": [
    {
     "name": "stdout",
     "output_type": "stream",
     "text": [
      "tensor([0.503, 0.494, 0.577, 0.325, 0.500, 0.506, 0.487, 0.576, 0.330, 0.050, 1.000])\n",
      "tensor([0.500, 0.501, 0.498, 0.504, 0.529, 0.500, 0.499, 0.501, 0.498, 0.049, 1.000], device='cuda:0', grad_fn=<SigmoidBackward>)\n"
     ]
    }
   ],
   "source": [
    "dat = torch.Tensor([0.503, 0.494, 0.577, 0.325, 0.500, 0.506, 0.487, 0.576, 0.330, 0.050, 1.000])\n",
    "print(dat)\n",
    "x, _, _ = vae1(dat.to(device))\n",
    "print(x)"
   ]
  },
  {
   "cell_type": "code",
   "execution_count": null,
   "metadata": {},
   "outputs": [],
   "source": []
  }
 ],
 "metadata": {
  "kernelspec": {
   "display_name": "Python 3",
   "language": "python",
   "name": "python3"
  },
  "language_info": {
   "codemirror_mode": {
    "name": "ipython",
    "version": 3
   },
   "file_extension": ".py",
   "mimetype": "text/x-python",
   "name": "python",
   "nbconvert_exporter": "python",
   "pygments_lexer": "ipython3",
   "version": "3.9.1"
  }
 },
 "nbformat": 4,
 "nbformat_minor": 4
}

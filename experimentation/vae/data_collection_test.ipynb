{
 "cells": [
  {
   "cell_type": "code",
   "execution_count": 5,
   "metadata": {},
   "outputs": [],
   "source": [
    "import numpy as np\n",
    "import torch"
   ]
  },
  {
   "cell_type": "code",
   "execution_count": 6,
   "metadata": {},
   "outputs": [],
   "source": [
    "import gym"
   ]
  },
  {
   "cell_type": "code",
   "execution_count": 7,
   "metadata": {},
   "outputs": [],
   "source": [
    "env = gym.make(\"InvertedPendulum-v2\")"
   ]
  },
  {
   "cell_type": "code",
   "execution_count": 8,
   "metadata": {},
   "outputs": [
    {
     "data": {
      "text/plain": [
       "array([ 0.00474255, -0.00800103,  0.00262595,  0.00183093])"
      ]
     },
     "execution_count": 8,
     "metadata": {},
     "output_type": "execute_result"
    }
   ],
   "source": [
    "env.reset()"
   ]
  },
  {
   "cell_type": "code",
   "execution_count": 9,
   "metadata": {},
   "outputs": [],
   "source": [
    "a = env.action_space.sample()"
   ]
  },
  {
   "cell_type": "code",
   "execution_count": 10,
   "metadata": {},
   "outputs": [
    {
     "data": {
      "text/plain": [
       "array([ 0.00057321,  0.00196841, -0.21045305,  0.49137361])"
      ]
     },
     "execution_count": 10,
     "metadata": {},
     "output_type": "execute_result"
    }
   ],
   "source": [
    "state, _, _, _ = env.step(a) \n",
    "state"
   ]
  },
  {
   "cell_type": "code",
   "execution_count": 11,
   "metadata": {},
   "outputs": [
    {
     "data": {
      "text/plain": [
       "array([-1.2743204], dtype=float32)"
      ]
     },
     "execution_count": 11,
     "metadata": {},
     "output_type": "execute_result"
    }
   ],
   "source": [
    "action = env.action_space.sample()\n",
    "next_state, reward, done, _ = env.step(action)\n",
    "action"
   ]
  },
  {
   "cell_type": "code",
   "execution_count": 12,
   "metadata": {},
   "outputs": [
    {
     "name": "stdout",
     "output_type": "stream",
     "text": [
      "state low, high: (array([-inf, -inf, -inf, -inf]), array([inf, inf, inf, inf]))  action low, high: (-3.0, 3.0)\n"
     ]
    }
   ],
   "source": [
    "state_dim = env.observation_space.shape[0]\n",
    "action_dim = env.action_space.shape[0] \n",
    "action_low = env.action_space.low[0]\n",
    "action_high = env.action_space.high[0]\n",
    "state_low = env.observation_space.low\n",
    "state_high = env.observation_space.high\n",
    "\n",
    "max_action = float(action_high)\n",
    "print(f\"state low, high: {state_low, state_high}  action low, high: {action_low, action_high}\")"
   ]
  },
  {
   "cell_type": "code",
   "execution_count": null,
   "metadata": {},
   "outputs": [],
   "source": []
  },
  {
   "cell_type": "code",
   "execution_count": 13,
   "metadata": {},
   "outputs": [],
   "source": [
    "def normalize_action(x):\n",
    "    return (x-action_low)/(action_high-action_low)\n",
    "\n",
    "# TODO find a way to scale this\n",
    "def normalize_state(s):\n",
    "    return s\n",
    "def normalize_reward(r):\n",
    "    return np.array([r/20.0])\n"
   ]
  },
  {
   "cell_type": "code",
   "execution_count": 14,
   "metadata": {},
   "outputs": [
    {
     "data": {
      "text/plain": [
       "array([ 5.73214638e-04,  1.96840518e-03, -2.10453050e-01,  4.91373608e-01,\n",
       "        2.87613273e-01, -1.71270390e-02,  4.29288950e-02, -6.73455063e-01,\n",
       "        1.54879112e+00,  5.00000000e-02,  0.00000000e+00])"
      ]
     },
     "execution_count": 14,
     "metadata": {},
     "output_type": "execute_result"
    }
   ],
   "source": [
    "# data = torch.Tensor(np.concatenate((state, action, next_state, np.array([reward]), np.array([done]))))     \n",
    "data = np.concatenate((normalize_state(state), normalize_action(action), normalize_state(next_state), normalize_reward(reward), np.array([done])))\n",
    "# normalize_state(state)\n",
    "data"
   ]
  },
  {
   "cell_type": "code",
   "execution_count": 15,
   "metadata": {},
   "outputs": [
    {
     "data": {
      "text/plain": [
       "[array([ 5.73214638e-04,  1.96840518e-03, -2.10453050e-01,  4.91373608e-01,\n",
       "         2.87613273e-01, -1.71270390e-02,  4.29288950e-02, -6.73455063e-01,\n",
       "         1.54879112e+00,  5.00000000e-02,  0.00000000e+00]),\n",
       " array([ 5.73214638e-04,  1.96840518e-03, -2.10453050e-01,  4.91373608e-01,\n",
       "         2.87613273e-01, -1.71270390e-02,  4.29288950e-02, -6.73455063e-01,\n",
       "         1.54879112e+00,  5.00000000e-02,  0.00000000e+00]),\n",
       " array([ 5.73214638e-04,  1.96840518e-03, -2.10453050e-01,  4.91373608e-01,\n",
       "         2.87613273e-01, -1.71270390e-02,  4.29288950e-02, -6.73455063e-01,\n",
       "         1.54879112e+00,  5.00000000e-02,  0.00000000e+00])]"
      ]
     },
     "execution_count": 15,
     "metadata": {},
     "output_type": "execute_result"
    }
   ],
   "source": [
    "datas = [data, data, data]\n",
    "datas"
   ]
  },
  {
   "cell_type": "code",
   "execution_count": 16,
   "metadata": {},
   "outputs": [],
   "source": [
    "d = np.array([i for i in datas])"
   ]
  },
  {
   "cell_type": "code",
   "execution_count": 17,
   "metadata": {},
   "outputs": [
    {
     "data": {
      "text/plain": [
       "array([ 5.73214638e-04,  1.96840518e-03, -2.10453050e-01,  4.91373608e-01,\n",
       "        2.87613273e-01, -1.71270390e-02,  4.29288950e-02, -6.73455063e-01,\n",
       "        1.54879112e+00,  5.00000000e-02,  0.00000000e+00])"
      ]
     },
     "execution_count": 17,
     "metadata": {},
     "output_type": "execute_result"
    }
   ],
   "source": [
    "d[0]"
   ]
  },
  {
   "cell_type": "code",
   "execution_count": 18,
   "metadata": {},
   "outputs": [],
   "source": [
    "# Save data\n",
    "def save_data():\n",
    "    res = []\n",
    "    for da in datas:\n",
    "        res.append(da)\n",
    "    print(res)\n",
    "    np.save(\"env.npy\", res)\n",
    "\n",
    "    "
   ]
  },
  {
   "cell_type": "code",
   "execution_count": 19,
   "metadata": {},
   "outputs": [
    {
     "name": "stdout",
     "output_type": "stream",
     "text": [
      "[array([ 5.73214638e-04,  1.96840518e-03, -2.10453050e-01,  4.91373608e-01,\n",
      "        2.87613273e-01, -1.71270390e-02,  4.29288950e-02, -6.73455063e-01,\n",
      "        1.54879112e+00,  5.00000000e-02,  0.00000000e+00]), array([ 5.73214638e-04,  1.96840518e-03, -2.10453050e-01,  4.91373608e-01,\n",
      "        2.87613273e-01, -1.71270390e-02,  4.29288950e-02, -6.73455063e-01,\n",
      "        1.54879112e+00,  5.00000000e-02,  0.00000000e+00]), array([ 5.73214638e-04,  1.96840518e-03, -2.10453050e-01,  4.91373608e-01,\n",
      "        2.87613273e-01, -1.71270390e-02,  4.29288950e-02, -6.73455063e-01,\n",
      "        1.54879112e+00,  5.00000000e-02,  0.00000000e+00])]\n"
     ]
    }
   ],
   "source": [
    "save_data()"
   ]
  },
  {
   "cell_type": "code",
   "execution_count": 20,
   "metadata": {},
   "outputs": [
    {
     "data": {
      "text/plain": [
       "array([[ 5.73214638e-04,  1.96840518e-03, -2.10453050e-01,\n",
       "         4.91373608e-01,  2.87613273e-01, -1.71270390e-02,\n",
       "         4.29288950e-02, -6.73455063e-01,  1.54879112e+00,\n",
       "         5.00000000e-02,  0.00000000e+00],\n",
       "       [ 5.73214638e-04,  1.96840518e-03, -2.10453050e-01,\n",
       "         4.91373608e-01,  2.87613273e-01, -1.71270390e-02,\n",
       "         4.29288950e-02, -6.73455063e-01,  1.54879112e+00,\n",
       "         5.00000000e-02,  0.00000000e+00],\n",
       "       [ 5.73214638e-04,  1.96840518e-03, -2.10453050e-01,\n",
       "         4.91373608e-01,  2.87613273e-01, -1.71270390e-02,\n",
       "         4.29288950e-02, -6.73455063e-01,  1.54879112e+00,\n",
       "         5.00000000e-02,  0.00000000e+00]])"
      ]
     },
     "execution_count": 20,
     "metadata": {},
     "output_type": "execute_result"
    }
   ],
   "source": [
    "saved = np.load(\"env.npy\", allow_pickle=True)\n",
    "saved"
   ]
  },
  {
   "cell_type": "code",
   "execution_count": 21,
   "metadata": {},
   "outputs": [],
   "source": [
    "x = torch.Tensor(saved)"
   ]
  },
  {
   "cell_type": "code",
   "execution_count": 22,
   "metadata": {},
   "outputs": [
    {
     "data": {
      "text/plain": [
       "tensor([[ 5.7321e-04,  1.9684e-03, -2.1045e-01,  4.9137e-01,  2.8761e-01,\n",
       "         -1.7127e-02,  4.2929e-02, -6.7346e-01,  1.5488e+00,  5.0000e-02,\n",
       "          0.0000e+00],\n",
       "        [ 5.7321e-04,  1.9684e-03, -2.1045e-01,  4.9137e-01,  2.8761e-01,\n",
       "         -1.7127e-02,  4.2929e-02, -6.7346e-01,  1.5488e+00,  5.0000e-02,\n",
       "          0.0000e+00],\n",
       "        [ 5.7321e-04,  1.9684e-03, -2.1045e-01,  4.9137e-01,  2.8761e-01,\n",
       "         -1.7127e-02,  4.2929e-02, -6.7346e-01,  1.5488e+00,  5.0000e-02,\n",
       "          0.0000e+00]])"
      ]
     },
     "execution_count": 22,
     "metadata": {},
     "output_type": "execute_result"
    }
   ],
   "source": [
    "x"
   ]
  },
  {
   "cell_type": "code",
   "execution_count": 23,
   "metadata": {},
   "outputs": [
    {
     "data": {
      "text/plain": [
       "tensor([ 5.7321e-04,  1.9684e-03, -2.1045e-01,  4.9137e-01,  2.8761e-01,\n",
       "        -1.7127e-02,  4.2929e-02, -6.7346e-01,  1.5488e+00,  5.0000e-02,\n",
       "         0.0000e+00])"
      ]
     },
     "execution_count": 23,
     "metadata": {},
     "output_type": "execute_result"
    }
   ],
   "source": [
    "x[0]"
   ]
  },
  {
   "cell_type": "code",
   "execution_count": 24,
   "metadata": {},
   "outputs": [
    {
     "ename": "AttributeError",
     "evalue": "'InvertedPendulumEnv' object has no attribute 'state'",
     "output_type": "error",
     "traceback": [
      "\u001b[0;31m---------------------------------------------------------------------------\u001b[0m",
      "\u001b[0;31mAttributeError\u001b[0m                            Traceback (most recent call last)",
      "\u001b[0;32m<ipython-input-24-4a831535b825>\u001b[0m in \u001b[0;36m<module>\u001b[0;34m\u001b[0m\n\u001b[0;32m----> 1\u001b[0;31m \u001b[0menv\u001b[0m\u001b[0;34m.\u001b[0m\u001b[0menv\u001b[0m\u001b[0;34m.\u001b[0m\u001b[0mstate\u001b[0m\u001b[0;34m\u001b[0m\u001b[0;34m\u001b[0m\u001b[0m\n\u001b[0m",
      "\u001b[0;31mAttributeError\u001b[0m: 'InvertedPendulumEnv' object has no attribute 'state'"
     ]
    }
   ],
   "source": [
    "env.env.state"
   ]
  },
  {
   "cell_type": "code",
   "execution_count": 25,
   "metadata": {},
   "outputs": [],
   "source": [
    "states = np.load('states.npy')"
   ]
  },
  {
   "cell_type": "code",
   "execution_count": 30,
   "metadata": {},
   "outputs": [
    {
     "data": {
      "text/plain": [
       "array([ 0.08832874, -0.19864326,  0.77022603, -1.8135099 ])"
      ]
     },
     "execution_count": 30,
     "metadata": {},
     "output_type": "execute_result"
    }
   ],
   "source": [
    "states[56]"
   ]
  },
  {
   "cell_type": "code",
   "execution_count": 28,
   "metadata": {},
   "outputs": [],
   "source": [
    "maxes = [0, 0, 0, 0]"
   ]
  },
  {
   "cell_type": "code",
   "execution_count": 32,
   "metadata": {},
   "outputs": [
    {
     "data": {
      "text/plain": [
       "[1.0179514302477088, 0.42726173641488, 3.4399882898950325, 6.858454176498342]"
      ]
     },
     "execution_count": 32,
     "metadata": {},
     "output_type": "execute_result"
    }
   ],
   "source": [
    "for m in range(4):\n",
    "    for s in states:\n",
    "        if s[m] > maxes[m]:\n",
    "            maxes[m] = s[m]\n",
    "maxes"
   ]
  },
  {
   "cell_type": "code",
   "execution_count": 33,
   "metadata": {},
   "outputs": [],
   "source": [
    "mins = [100, 100, 100, 100]"
   ]
  },
  {
   "cell_type": "code",
   "execution_count": 35,
   "metadata": {},
   "outputs": [
    {
     "data": {
      "text/plain": [
       "[-1.0325530575468773,\n",
       " -0.43610137064146526,\n",
       " -3.385616455699197,\n",
       " -7.267725878409552]"
      ]
     },
     "execution_count": 35,
     "metadata": {},
     "output_type": "execute_result"
    }
   ],
   "source": [
    "for m in range(4):\n",
    "    for s in states:\n",
    "        if s[m] < mins[m]:\n",
    "            mins[m] = s[m]\n",
    "mins"
   ]
  },
  {
   "cell_type": "code",
   "execution_count": null,
   "metadata": {},
   "outputs": [],
   "source": []
  }
 ],
 "metadata": {
  "kernelspec": {
   "display_name": "Python 3",
   "language": "python",
   "name": "python3"
  },
  "language_info": {
   "codemirror_mode": {
    "name": "ipython",
    "version": 3
   },
   "file_extension": ".py",
   "mimetype": "text/x-python",
   "name": "python",
   "nbconvert_exporter": "python",
   "pygments_lexer": "ipython3",
   "version": "3.9.1"
  }
 },
 "nbformat": 4,
 "nbformat_minor": 4
}
